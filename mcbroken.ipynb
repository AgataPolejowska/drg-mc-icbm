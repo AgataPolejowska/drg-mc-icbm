{
  "cells": [
    {
      "cell_type": "markdown",
      "metadata": {
        "id": "5I2ryunyRTa0"
      },
      "source": [
        "# mcbroken\n",
        "\n",
        "This script presents how much money McDonalds might be losing due to broken ice cream machines in the US.\n",
        "\n",
        "Data filtering, web scraping for making assumptions about the numbers (ice cream price, population size in each state), calculations, dailly reports and displaying the total amount lost in revenue is performed.\n",
        "\n",
        "Daily reports are generated based on the time window - 24 hours before running the script.\n",
        "\n",
        "---\n",
        "Data used for analysis comes from the https://mcbroken.com/ site.\n"
      ]
    },
    {
      "cell_type": "code",
      "execution_count": 1,
      "metadata": {},
      "outputs": [],
      "source": [
        "import requests\n",
        "from datetime import datetime\n",
        "\n",
        "\n",
        "def fetch_data_from_url(url, get_content=False):\n",
        "    data = None\n",
        "\n",
        "    try:\n",
        "        response = requests.get(url)\n",
        "        if get_content:\n",
        "            data = response.content\n",
        "        else:\n",
        "            data = response.json()\n",
        "        print(\"Data successfully received!\")\n",
        "    # Catch different exceptions\n",
        "    except requests.exceptions.ConnectionError:\n",
        "        print(\"Connection error\")\n",
        "    except requests.exceptions.Timeout:\n",
        "        print(\"Timeout error\")\n",
        "    except requests.exceptions.TooManyRedirects:\n",
        "        print(\"Too many redirects\")\n",
        "    except requests.exceptions.RequestException as e:\n",
        "        print(\"Other error: \", e)\n",
        "\n",
        "    return data"
      ]
    },
    {
      "cell_type": "code",
      "execution_count": 2,
      "metadata": {},
      "outputs": [],
      "source": [
        "import json\n",
        "\n",
        "\n",
        "def save_json_file(data, file_name):\n",
        "    with open(file_name, \"w\") as f:\n",
        "        json_data = json.dump(data, f, indent=4)\n",
        "        print(f\"Data successfully saved in {file_name}\")"
      ]
    },
    {
      "cell_type": "code",
      "execution_count": 3,
      "metadata": {
        "colab": {
          "base_uri": "https://localhost:8080/"
        },
        "id": "4A2ENeYpQsTR",
        "outputId": "ecef7638-1d20-47d8-dabf-1a58b3130516"
      },
      "outputs": [
        {
          "name": "stdout",
          "output_type": "stream",
          "text": [
            "Data successfully received!\n"
          ]
        }
      ],
      "source": [
        "URL_MC_BROKEN_DATA = \"https://mcbroken2.nyc3.digitaloceanspaces.com/markers.json\"\n",
        "\n",
        "date_data_fetched = datetime.now().strftime(\"%Y-%m-%d_%H-%M-%S\")\n",
        "data = fetch_data_from_url(URL_MC_BROKEN_DATA)"
      ]
    },
    {
      "cell_type": "code",
      "execution_count": 4,
      "metadata": {},
      "outputs": [
        {
          "name": "stdout",
          "output_type": "stream",
          "text": [
            "Data successfully saved in mcbroken-data-2022-09-23_22-49-50.json\n"
          ]
        }
      ],
      "source": [
        "# Name of the file to save data to according to date fetched\n",
        "file_name = f\"mcbroken-data-{date_data_fetched}.json\"\n",
        "\n",
        "# Save data dict as a json file\n",
        "save_json_file(data, file_name)"
      ]
    },
    {
      "cell_type": "code",
      "execution_count": 5,
      "metadata": {},
      "outputs": [],
      "source": [
        "# Map states to full names\n",
        "states_full_names = {\n",
        "    \"AL\": \"Alabama\",\n",
        "    \"AK\": \"Alaska\",\n",
        "    \"AZ\": \"Arizona\",\n",
        "    \"AR\": \"Arkansas\",\n",
        "    \"CA\": \"California\",\n",
        "    \"CO\": \"Colorado\",\n",
        "    \"CT\": \"Connecticut\",\n",
        "    \"DE\": \"Delaware\",\n",
        "    \"DC\": \"District of Columbia\",\n",
        "    \"FL\": \"Florida\",\n",
        "    \"GA\": \"Georgia\",\n",
        "    \"HI\": \"Hawaii\",\n",
        "    \"ID\": \"Idaho\",\n",
        "    \"IL\": \"Illinois\",\n",
        "    \"IN\": \"Indiana\",\n",
        "    \"IA\": \"Iowa\",\n",
        "    \"KS\": \"Kansas\",\n",
        "    \"KY\": \"Kentucky\",\n",
        "    \"LA\": \"Louisiana\",\n",
        "    \"ME\": \"Maine\",\n",
        "    \"MD\": \"Maryland\",\n",
        "    \"MA\": \"Massachusetts\",\n",
        "    \"MI\": \"Michigan\",\n",
        "    \"MN\": \"Minnesota\",\n",
        "    \"MS\": \"Mississippi\",\n",
        "    \"MO\": \"Missouri\",\n",
        "    \"MT\": \"Montana\",\n",
        "    \"NE\": \"Nebraska\",\n",
        "    \"NV\": \"Nevada\",\n",
        "    \"NH\": \"New Hampshire\",\n",
        "    \"NJ\": \"New Jersey\",\n",
        "    \"NM\": \"New Mexico\",\n",
        "    \"NY\": \"New York\",\n",
        "    \"NC\": \"North Carolina\",\n",
        "    \"ND\": \"North Dakota\",\n",
        "    \"OH\": \"Ohio\",\n",
        "    \"OK\": \"Oklahoma\",\n",
        "    \"GU\": \"Guam\",\n",
        "    \"OR\": \"Oregon\",\n",
        "    \"PA\": \"Pennsylvania\",\n",
        "    \"RI\": \"Rhode Island\",\n",
        "    \"SC\": \"South Carolina\",\n",
        "    \"SD\": \"South Dakota\",\n",
        "    \"TN\": \"Tennessee\",\n",
        "    \"TX\": \"Texas\",\n",
        "    \"UT\": \"Utah\",\n",
        "    \"VT\": \"Vermont\",\n",
        "    \"VA\": \"Virginia\",\n",
        "    \"WA\": \"Washington\",\n",
        "    \"WV\": \"West Virginia\",\n",
        "    \"WI\": \"Wisconsin\",\n",
        "    \"WY\": \"Wyoming\",\n",
        "}"
      ]
    },
    {
      "cell_type": "code",
      "execution_count": 6,
      "metadata": {},
      "outputs": [],
      "source": [
        "# Verify if there is a fake state\n",
        "\n",
        "def verify_state(state):\n",
        "    if state in states_full_names:\n",
        "        return True\n",
        "    print(f\"State '{state}' is not valid\")\n",
        "    return False"
      ]
    },
    {
      "cell_type": "code",
      "execution_count": 7,
      "metadata": {},
      "outputs": [],
      "source": [
        "import re\n",
        "\n",
        "\n",
        "MINUTES_IN_24_HOURS = 1440\n",
        "\n",
        "# Only data from the last 24 hours is considered - one day report\n",
        "def get_data_from_US_states(data):\n",
        "    features_24_hours = []\n",
        "    for feature in data[\"features\"]:\n",
        "        # Get data only for US country\n",
        "        if feature[\"properties\"][\"country\"] == \"USA\":\n",
        "            # Verify state\n",
        "            if verify_state(feature[\"properties\"][\"state\"]):\n",
        "                last_checked = feature[\"properties\"][\"last_checked\"]\n",
        "                if \"minutes\" or \"minute\" in last_checked:\n",
        "                    minutes_list = [int(num) for num in re.findall(r'\\b\\d+\\b', last_checked)]\n",
        "                    if minutes_list[0] <= MINUTES_IN_24_HOURS:\n",
        "                        features_24_hours.append(feature)\n",
        "\n",
        "    return features_24_hours\n"
      ]
    },
    {
      "cell_type": "code",
      "execution_count": 8,
      "metadata": {},
      "outputs": [
        {
          "name": "stdout",
          "output_type": "stream",
          "text": [
            "State 'Maharastra' is not valid\n",
            "State 'Maharastra' is not valid\n",
            "State 'Maharastra' is not valid\n",
            "State 'MP' is not valid\n",
            "State 'MP' is not valid\n",
            "Data successfully saved in mcbroken-features-24-hours-2022-09-23_22-49-50.json\n",
            "Number of features: 18071\n",
            "Number of features updated in the last 24 hours: 12706\n"
          ]
        }
      ],
      "source": [
        "import datetime\n",
        "\n",
        "\n",
        "# Create a list of features that last updated in the last 24 hours\n",
        "features_24_hours = get_data_from_US_states(data)\n",
        "\n",
        "# Save features_24_hours as a json file\n",
        "save_json_file(features_24_hours, f\"mcbroken-features-24-hours-{date_data_fetched}.json\")\n",
        "\n",
        "number_of_features = len(data[\"features\"])\n",
        "number_of_features_24_hours = len(features_24_hours)\n",
        "\n",
        "print(f\"Number of features: {number_of_features}\")\n",
        "print(f\"Number of features updated in the last 24 hours: {number_of_features_24_hours}\")\n",
        "\n",
        "assert number_of_features != 0, \"No features updated in the last 24 hours\"\n",
        "assert number_of_features_24_hours < len(data[\"features\"]), \"All features updated in the last 24 hours\""
      ]
    },
    {
      "cell_type": "code",
      "execution_count": 9,
      "metadata": {},
      "outputs": [
        {
          "name": "stdout",
          "output_type": "stream",
          "text": [
            "{'NY': 561, 'NJ': 241, 'CT': 130, 'PA': 456, 'DE': 35, 'MA': 222, 'MD': 256, 'RI': 29, 'VT': 24, 'NH': 50, 'DC': 25, 'VA': 379, 'WV': 99, 'ME': 57, 'NC': 439, 'OH': 584, 'MI': 500, 'KY': 243, 'TN': 306, 'SC': 215, 'IN': 330, 'GA': 422, 'IL': 625, 'WI': 281, 'AL': 230, 'FL': 818, 'IA': 136, 'MO': 294, 'MS': 134, 'AR': 159, 'MN': 208, 'KS': 137, 'LA': 217, 'NE': 74, 'OK': 182, 'SD': 27, 'ND': 23, 'TX': 1055, 'CO': 184, 'WY': 25, 'MT': 44, 'NM': 87, 'UT': 101, 'AZ': 253, 'ID': 56, 'NV': 117, 'WA': 236, 'OR': 147, 'CA': 1158, 'AK': 24, 'HI': 71}\n"
          ]
        }
      ],
      "source": [
        "# Get the machines number for each state\n",
        "# Create a dict of states and their mcdonalds ice cream machines numbers\n",
        "states_machines_number = {}\n",
        "\n",
        "for feature in features_24_hours:\n",
        "    state = feature[\"properties\"][\"state\"]\n",
        "    if state in states_machines_number:\n",
        "        states_machines_number[state] += 1\n",
        "    else:\n",
        "        states_machines_number[state] = 1\n",
        "\n",
        "print(states_machines_number)"
      ]
    },
    {
      "cell_type": "code",
      "execution_count": 10,
      "metadata": {},
      "outputs": [
        {
          "name": "stdout",
          "output_type": "stream",
          "text": [
            "States and their McDonalds numbers: {'New York': {'machines_number': 561}, 'New Jersey': {'machines_number': 241}, 'Connecticut': {'machines_number': 130}, 'Pennsylvania': {'machines_number': 456}, 'Delaware': {'machines_number': 35}, 'Massachusetts': {'machines_number': 222}, 'Maryland': {'machines_number': 256}, 'Rhode Island': {'machines_number': 29}, 'Vermont': {'machines_number': 24}, 'New Hampshire': {'machines_number': 50}, 'District of Columbia': {'machines_number': 25}, 'Virginia': {'machines_number': 379}, 'West Virginia': {'machines_number': 99}, 'Maine': {'machines_number': 57}, 'North Carolina': {'machines_number': 439}, 'Ohio': {'machines_number': 584}, 'Michigan': {'machines_number': 500}, 'Kentucky': {'machines_number': 243}, 'Tennessee': {'machines_number': 306}, 'South Carolina': {'machines_number': 215}, 'Indiana': {'machines_number': 330}, 'Georgia': {'machines_number': 422}, 'Illinois': {'machines_number': 625}, 'Wisconsin': {'machines_number': 281}, 'Alabama': {'machines_number': 230}, 'Florida': {'machines_number': 818}, 'Iowa': {'machines_number': 136}, 'Missouri': {'machines_number': 294}, 'Mississippi': {'machines_number': 134}, 'Arkansas': {'machines_number': 159}, 'Minnesota': {'machines_number': 208}, 'Kansas': {'machines_number': 137}, 'Louisiana': {'machines_number': 217}, 'Nebraska': {'machines_number': 74}, 'Oklahoma': {'machines_number': 182}, 'South Dakota': {'machines_number': 27}, 'North Dakota': {'machines_number': 23}, 'Texas': {'machines_number': 1055}, 'Colorado': {'machines_number': 184}, 'Wyoming': {'machines_number': 25}, 'Montana': {'machines_number': 44}, 'New Mexico': {'machines_number': 87}, 'Utah': {'machines_number': 101}, 'Arizona': {'machines_number': 253}, 'Idaho': {'machines_number': 56}, 'Nevada': {'machines_number': 117}, 'Washington': {'machines_number': 236}, 'Oregon': {'machines_number': 147}, 'California': {'machines_number': 1158}, 'Alaska': {'machines_number': 24}, 'Hawaii': {'machines_number': 71}}\n",
            "Data successfully saved in mcbroken-states-machines-number-2022-09-23_22-49-50.json\n"
          ]
        }
      ],
      "source": [
        "# Create a dict of states and their mcdonalds machines ice cream numbers with full names\n",
        "states_machines_number_full_names = {}\n",
        "\n",
        "for state, number in states_machines_number.items():\n",
        "    states_machines_number_full_names[states_full_names[state]] = {\"machines_number\": number}\n",
        "\n",
        "print(f\"States and their McDonalds numbers: {states_machines_number_full_names}\")\n",
        "save_json_file(states_machines_number_full_names, f\"mcbroken-states-machines-number-{date_data_fetched}.json\")"
      ]
    },
    {
      "cell_type": "code",
      "execution_count": 11,
      "metadata": {
        "id": "PVUqIesLUykX"
      },
      "outputs": [
        {
          "name": "stdout",
          "output_type": "stream",
          "text": [
            "Data successfully saved in mcbroken-broken-features-24-hours-2022-09-23_22-49-50.json\n",
            "Number of broken features: 50\n",
            "states_machines_number[state]: {'NY': 53, 'NJ': 21, 'PA': 37, 'CT': 5, 'DE': 1, 'MA': 23, 'MD': 26, 'NH': 1, 'DC': 1, 'VA': 43, 'WV': 4, 'VT': 1, 'ME': 2, 'NC': 38, 'OH': 63, 'MI': 45, 'KY': 21, 'SC': 33, 'TN': 29, 'IN': 38, 'GA': 64, 'IL': 53, 'WI': 18, 'AL': 16, 'FL': 69, 'IA': 10, 'MO': 29, 'MS': 24, 'AR': 18, 'MN': 12, 'KS': 9, 'LA': 24, 'NE': 9, 'SD': 2, 'OK': 23, 'ND': 2, 'TX': 119, 'CO': 15, 'WY': 1, 'NM': 5, 'MT': 7, 'AZ': 33, 'UT': 13, 'ID': 5, 'WA': 29, 'OR': 25, 'NV': 10, 'CA': 120, 'AK': 4, 'HI': 9}\n"
          ]
        }
      ],
      "source": [
        "# Get the broken machines number for each state\n",
        "# Create a dict of states and their mcdonalds ice cream broken machines numbers\n",
        "states_machines_broken_number = {}\n",
        "\n",
        "for feature in features_24_hours:\n",
        "    state = feature[\"properties\"][\"state\"]\n",
        "    if feature[\"properties\"][\"is_broken\"] == True and feature[\"properties\"][\"dot\"] == \"broken\":\n",
        "        if state in states_machines_broken_number:\n",
        "            states_machines_broken_number[state] += 1\n",
        "        else:\n",
        "            states_machines_broken_number[state] = 1\n",
        "\n",
        "save_json_file(states_machines_broken_number, f\"mcbroken-broken-features-24-hours-{date_data_fetched}.json\")\n",
        "print(f\"Number of broken features: {len(states_machines_broken_number)}\") \n",
        "print(f\"states_machines_number[state]: {states_machines_broken_number}\")"
      ]
    },
    {
      "cell_type": "code",
      "execution_count": 12,
      "metadata": {},
      "outputs": [
        {
          "name": "stdout",
          "output_type": "stream",
          "text": [
            "States and their McDonalds broken machines numbers: {'New York': {'machines_number': 561, 'broken_machines_number': 53}, 'New Jersey': {'machines_number': 241, 'broken_machines_number': 21}, 'Connecticut': {'machines_number': 130, 'broken_machines_number': 5}, 'Pennsylvania': {'machines_number': 456, 'broken_machines_number': 37}, 'Delaware': {'machines_number': 35, 'broken_machines_number': 1}, 'Massachusetts': {'machines_number': 222, 'broken_machines_number': 23}, 'Maryland': {'machines_number': 256, 'broken_machines_number': 26}, 'Rhode Island': {'machines_number': 29, 'broken_machines_number': 0}, 'Vermont': {'machines_number': 24, 'broken_machines_number': 1}, 'New Hampshire': {'machines_number': 50, 'broken_machines_number': 1}, 'District of Columbia': {'machines_number': 25, 'broken_machines_number': 1}, 'Virginia': {'machines_number': 379, 'broken_machines_number': 43}, 'West Virginia': {'machines_number': 99, 'broken_machines_number': 4}, 'Maine': {'machines_number': 57, 'broken_machines_number': 2}, 'North Carolina': {'machines_number': 439, 'broken_machines_number': 38}, 'Ohio': {'machines_number': 584, 'broken_machines_number': 63}, 'Michigan': {'machines_number': 500, 'broken_machines_number': 45}, 'Kentucky': {'machines_number': 243, 'broken_machines_number': 21}, 'Tennessee': {'machines_number': 306, 'broken_machines_number': 29}, 'South Carolina': {'machines_number': 215, 'broken_machines_number': 33}, 'Indiana': {'machines_number': 330, 'broken_machines_number': 38}, 'Georgia': {'machines_number': 422, 'broken_machines_number': 64}, 'Illinois': {'machines_number': 625, 'broken_machines_number': 53}, 'Wisconsin': {'machines_number': 281, 'broken_machines_number': 18}, 'Alabama': {'machines_number': 230, 'broken_machines_number': 16}, 'Florida': {'machines_number': 818, 'broken_machines_number': 69}, 'Iowa': {'machines_number': 136, 'broken_machines_number': 10}, 'Missouri': {'machines_number': 294, 'broken_machines_number': 29}, 'Mississippi': {'machines_number': 134, 'broken_machines_number': 24}, 'Arkansas': {'machines_number': 159, 'broken_machines_number': 18}, 'Minnesota': {'machines_number': 208, 'broken_machines_number': 12}, 'Kansas': {'machines_number': 137, 'broken_machines_number': 9}, 'Louisiana': {'machines_number': 217, 'broken_machines_number': 24}, 'Nebraska': {'machines_number': 74, 'broken_machines_number': 9}, 'Oklahoma': {'machines_number': 182, 'broken_machines_number': 23}, 'South Dakota': {'machines_number': 27, 'broken_machines_number': 2}, 'North Dakota': {'machines_number': 23, 'broken_machines_number': 2}, 'Texas': {'machines_number': 1055, 'broken_machines_number': 119}, 'Colorado': {'machines_number': 184, 'broken_machines_number': 15}, 'Wyoming': {'machines_number': 25, 'broken_machines_number': 1}, 'Montana': {'machines_number': 44, 'broken_machines_number': 7}, 'New Mexico': {'machines_number': 87, 'broken_machines_number': 5}, 'Utah': {'machines_number': 101, 'broken_machines_number': 13}, 'Arizona': {'machines_number': 253, 'broken_machines_number': 33}, 'Idaho': {'machines_number': 56, 'broken_machines_number': 5}, 'Nevada': {'machines_number': 117, 'broken_machines_number': 10}, 'Washington': {'machines_number': 236, 'broken_machines_number': 29}, 'Oregon': {'machines_number': 147, 'broken_machines_number': 25}, 'California': {'machines_number': 1158, 'broken_machines_number': 120}, 'Alaska': {'machines_number': 24, 'broken_machines_number': 4}, 'Hawaii': {'machines_number': 71, 'broken_machines_number': 9}}\n"
          ]
        }
      ],
      "source": [
        "for state, number in states_machines_broken_number.items():\n",
        "    states_machines_number_full_names[states_full_names[state]][\"broken_machines_number\"] = number\n",
        "\n",
        "# If state has no broken machines, add 0\n",
        "for state in states_machines_number_full_names:\n",
        "    if \"broken_machines_number\" not in states_machines_number_full_names[state]:\n",
        "        states_machines_number_full_names[state][\"broken_machines_number\"] = 0\n",
        "\n",
        "print(f\"States and their McDonalds broken machines numbers: {states_machines_number_full_names}\")"
      ]
    },
    {
      "cell_type": "code",
      "execution_count": 13,
      "metadata": {},
      "outputs": [],
      "source": [
        "# Check if broken_machines_number is in states_machines_number_full_names\n",
        "for state, data in states_machines_number_full_names.items():\n",
        "    assert \"broken_machines_number\" in data, f\"broken_machines_number not in {state}\""
      ]
    },
    {
      "cell_type": "markdown",
      "metadata": {},
      "source": [
        "### Get the average value for one ice cream\n",
        "\n",
        "\n",
        "This is the first assumption made.\n",
        "The average price of ice cream is calculated.\n",
        "\n",
        "***\n",
        "The prices of ice creams come from the site https://www.dessertmenus.com/mcdonalds-ice-cream-prices/.\n",
        "\n"
      ]
    },
    {
      "cell_type": "code",
      "execution_count": 14,
      "metadata": {},
      "outputs": [
        {
          "name": "stdout",
          "output_type": "stream",
          "text": [
            "Data successfully received!\n"
          ]
        }
      ],
      "source": [
        "# Get the McDonald's Ice Cream Cone price\n",
        "\n",
        "import requests\n",
        "from datetime import datetime\n",
        "\n",
        "URL_ICE_CREAM_PRICES = \"https://www.dessertmenus.com/mcdonalds-ice-cream-prices/\"\n",
        "\n",
        "price_data = fetch_data_from_url(URL_ICE_CREAM_PRICES, get_content=True)"
      ]
    },
    {
      "cell_type": "code",
      "execution_count": 15,
      "metadata": {},
      "outputs": [
        {
          "name": "stdout",
          "output_type": "stream",
          "text": [
            "Possible ice cream prices: ['$1.00', '$1.29', '$1.29', '$1.29']\n",
            "Average ice cream price: $1.2175\n",
            "Data successfully saved in mcbroken-average-ice-cream-price-2022-09-23_22-49-50.json\n"
          ]
        }
      ],
      "source": [
        "from bs4 import BeautifulSoup\n",
        "\n",
        "\n",
        "soup = BeautifulSoup(price_data, \"html.parser\")\n",
        "\n",
        "# Search for table with MCONALDS ICE CREAM PRICES\n",
        "table = soup.find(\"center\", text=\"MCDONALDS ICE CREAM PRICES\").find_parent(\"table\")\n",
        "\n",
        "# Get all the prices of the ice cream from table\n",
        "ice_cream_prices = []\n",
        "\n",
        "for row in table.find_all(\"tr\"):\n",
        "    for cell in row.find_all(\"td\"):\n",
        "        ice_cream_prices.append(cell.text)\n",
        "\n",
        "# Get only the prices with $ sign\n",
        "ice_cream_prices = [price for price in ice_cream_prices if \"$\" in price]\n",
        "\n",
        "print(f\"Possible ice cream prices: {ice_cream_prices}\")\n",
        "\n",
        "# Calculate the average price of the ice cream\n",
        "ice_cream_prices = [float(price.replace(\"$\", \"\")) for price in ice_cream_prices]\n",
        "average_ice_cream_price = sum(ice_cream_prices) / len(ice_cream_prices)\n",
        "\n",
        "print(f\"Average ice cream price: ${average_ice_cream_price}\")\n",
        "\n",
        "# Save the average ice cream price in a json file with the date\n",
        "\n",
        "average_price_data = {\n",
        "    \"average_ice_cream_price\": average_ice_cream_price,\n",
        "    \"date_data_fetched\": date_data_fetched,\n",
        "}\n",
        "\n",
        "save_json_file(average_price_data, f\"mcbroken-average-ice-cream-price-{date_data_fetched}.json\")"
      ]
    },
    {
      "cell_type": "markdown",
      "metadata": {},
      "source": [
        "## Get population size in each state in USA\n",
        "\n",
        "Population size estimation from July 1, 2021 from Wikipedia page."
      ]
    },
    {
      "cell_type": "code",
      "execution_count": 16,
      "metadata": {},
      "outputs": [
        {
          "name": "stdout",
          "output_type": "stream",
          "text": [
            "Data successfully received!\n",
            "{'California': 39237836, 'Texas': 29527941, 'Florida': 21781128, 'New York': 19835913, 'Pennsylvania': 12964056, 'Illinois': 12671469, 'Ohio': 11780017, 'Georgia': 10799566, 'North Carolina': 10551162, 'Michigan': 10050811, 'New Jersey': 9267130, 'Virginia': 8642274, 'Washington': 7738692, 'Arizona': 7276316, 'Massachusetts': 6984723, 'Tennessee': 6975218, 'Indiana': 6805985, 'Missouri': 6168187, 'Maryland': 6165129, 'Wisconsin': 5895908, 'Colorado': 5812069, 'Minnesota': 5707390, 'South Carolina': 5190705, 'Alabama': 5039877, 'Louisiana': 4624047, 'Kentucky': 4509394, 'Oregon': 4246155, 'Oklahoma': 3986639, 'Connecticut': 3605597, 'Utah': 3322389, 'Puerto Rico': 3263584, 'Iowa': 3193079, 'Nevada': 3143991, 'Arkansas': 3025891, 'Mississippi': 2949965, 'Kansas': 2934582, 'New Mexico': 2115877, 'Nebraska': 1963692, 'Idaho': 1900923, 'West Virginia': 1782959, 'Hawaii': 1441553, 'New Hampshire': 1388992, 'Maine': 1372247, 'Rhode Island': 1095610, 'Montana': 1104271, 'Delaware': 1003384, 'South Dakota': 895376, 'North Dakota': 774948, 'Alaska': 732673, 'District of Columbia': 670050, 'Vermont': 645570, 'Wyoming': 578803, 'Guam[10]': 'N/A', 'U.S. Virgin Islands[11]': 'N/A', 'American Samoa[12]': 'N/A', 'Northern Mariana Islands[13]': 'N/A'}\n"
          ]
        }
      ],
      "source": [
        "URL_USA_STATES_POPULATION = \"https://en.wikipedia.org/wiki/List_of_U.S._states_and_territories_by_population\"\n",
        "\n",
        "# Get the population of each state\n",
        "population_data = fetch_data_from_url(URL_USA_STATES_POPULATION, get_content=True)\n",
        "\n",
        "state_population_dict = {}\n",
        "\n",
        "soup_population_data = BeautifulSoup(population_data, \"html.parser\")\n",
        "\n",
        "# Search for table with wikitable class\n",
        "table = soup_population_data.find(\"table\", class_=\"wikitable\")\n",
        "\n",
        "# Get tbody from table\n",
        "tbody = table.find(\"tbody\")\n",
        "\n",
        "# Iterate over all rows in tbody - save the state and population\n",
        "for row in tbody.find_all(\"tr\"):\n",
        "    # Get th element from row\n",
        "    th = row.find_all(\"th\")\n",
        "\n",
        "    # Filter th only with row scope\n",
        "    if th and th[0].get(\"scope\") == \"row\":\n",
        "        # Get state name from th\n",
        "        state = th[0].text.strip()\n",
        "\n",
        "        # Get population from td after th for given state\n",
        "        population = row.find_all(\"td\")[2].text.strip()\n",
        "\n",
        "        # Convert population to int if not empty and not N/A\n",
        "        if population != \"N/A\":\n",
        "            population = int(population.replace(\",\", \"\"))\n",
        "\n",
        "        # Save state and population in dictionary\n",
        "        state_population_dict[state] = population\n",
        "\n",
        "print(state_population_dict)\n",
        "\n",
        "# Assert whether the states are in the population dictionary\n",
        "for state in states_machines_number_full_names:\n",
        "    assert state in state_population_dict, f\"{state} not in state_population_dict\"\n"
      ]
    },
    {
      "cell_type": "code",
      "execution_count": 17,
      "metadata": {},
      "outputs": [
        {
          "name": "stdout",
          "output_type": "stream",
          "text": [
            "{'New York': {'machines_number': 561, 'broken_machines_number': 53, 'population': 19835913}, 'New Jersey': {'machines_number': 241, 'broken_machines_number': 21, 'population': 9267130}, 'Connecticut': {'machines_number': 130, 'broken_machines_number': 5, 'population': 3605597}, 'Pennsylvania': {'machines_number': 456, 'broken_machines_number': 37, 'population': 12964056}, 'Delaware': {'machines_number': 35, 'broken_machines_number': 1, 'population': 1003384}, 'Massachusetts': {'machines_number': 222, 'broken_machines_number': 23, 'population': 6984723}, 'Maryland': {'machines_number': 256, 'broken_machines_number': 26, 'population': 6165129}, 'Rhode Island': {'machines_number': 29, 'broken_machines_number': 0, 'population': 1095610}, 'Vermont': {'machines_number': 24, 'broken_machines_number': 1, 'population': 645570}, 'New Hampshire': {'machines_number': 50, 'broken_machines_number': 1, 'population': 1388992}, 'District of Columbia': {'machines_number': 25, 'broken_machines_number': 1, 'population': 670050}, 'Virginia': {'machines_number': 379, 'broken_machines_number': 43, 'population': 8642274}, 'West Virginia': {'machines_number': 99, 'broken_machines_number': 4, 'population': 1782959}, 'Maine': {'machines_number': 57, 'broken_machines_number': 2, 'population': 1372247}, 'North Carolina': {'machines_number': 439, 'broken_machines_number': 38, 'population': 10551162}, 'Ohio': {'machines_number': 584, 'broken_machines_number': 63, 'population': 11780017}, 'Michigan': {'machines_number': 500, 'broken_machines_number': 45, 'population': 10050811}, 'Kentucky': {'machines_number': 243, 'broken_machines_number': 21, 'population': 4509394}, 'Tennessee': {'machines_number': 306, 'broken_machines_number': 29, 'population': 6975218}, 'South Carolina': {'machines_number': 215, 'broken_machines_number': 33, 'population': 5190705}, 'Indiana': {'machines_number': 330, 'broken_machines_number': 38, 'population': 6805985}, 'Georgia': {'machines_number': 422, 'broken_machines_number': 64, 'population': 10799566}, 'Illinois': {'machines_number': 625, 'broken_machines_number': 53, 'population': 12671469}, 'Wisconsin': {'machines_number': 281, 'broken_machines_number': 18, 'population': 5895908}, 'Alabama': {'machines_number': 230, 'broken_machines_number': 16, 'population': 5039877}, 'Florida': {'machines_number': 818, 'broken_machines_number': 69, 'population': 21781128}, 'Iowa': {'machines_number': 136, 'broken_machines_number': 10, 'population': 3193079}, 'Missouri': {'machines_number': 294, 'broken_machines_number': 29, 'population': 6168187}, 'Mississippi': {'machines_number': 134, 'broken_machines_number': 24, 'population': 2949965}, 'Arkansas': {'machines_number': 159, 'broken_machines_number': 18, 'population': 3025891}, 'Minnesota': {'machines_number': 208, 'broken_machines_number': 12, 'population': 5707390}, 'Kansas': {'machines_number': 137, 'broken_machines_number': 9, 'population': 2934582}, 'Louisiana': {'machines_number': 217, 'broken_machines_number': 24, 'population': 4624047}, 'Nebraska': {'machines_number': 74, 'broken_machines_number': 9, 'population': 1963692}, 'Oklahoma': {'machines_number': 182, 'broken_machines_number': 23, 'population': 3986639}, 'South Dakota': {'machines_number': 27, 'broken_machines_number': 2, 'population': 895376}, 'North Dakota': {'machines_number': 23, 'broken_machines_number': 2, 'population': 774948}, 'Texas': {'machines_number': 1055, 'broken_machines_number': 119, 'population': 29527941}, 'Colorado': {'machines_number': 184, 'broken_machines_number': 15, 'population': 5812069}, 'Wyoming': {'machines_number': 25, 'broken_machines_number': 1, 'population': 578803}, 'Montana': {'machines_number': 44, 'broken_machines_number': 7, 'population': 1104271}, 'New Mexico': {'machines_number': 87, 'broken_machines_number': 5, 'population': 2115877}, 'Utah': {'machines_number': 101, 'broken_machines_number': 13, 'population': 3322389}, 'Arizona': {'machines_number': 253, 'broken_machines_number': 33, 'population': 7276316}, 'Idaho': {'machines_number': 56, 'broken_machines_number': 5, 'population': 1900923}, 'Nevada': {'machines_number': 117, 'broken_machines_number': 10, 'population': 3143991}, 'Washington': {'machines_number': 236, 'broken_machines_number': 29, 'population': 7738692}, 'Oregon': {'machines_number': 147, 'broken_machines_number': 25, 'population': 4246155}, 'California': {'machines_number': 1158, 'broken_machines_number': 120, 'population': 39237836}, 'Alaska': {'machines_number': 24, 'broken_machines_number': 4, 'population': 732673}, 'Hawaii': {'machines_number': 71, 'broken_machines_number': 9, 'population': 1441553}}\n"
          ]
        }
      ],
      "source": [
        "data_for_analysis = states_machines_number_full_names\n",
        "\n",
        "# Add population to data_for_analysis\n",
        "for state, data in data_for_analysis.items():\n",
        "    data[\"population\"] = state_population_dict[state]\n",
        "\n",
        "print(data_for_analysis)"
      ]
    },
    {
      "cell_type": "markdown",
      "metadata": {},
      "source": [
        "## Performing calculations for generating report"
      ]
    },
    {
      "cell_type": "code",
      "execution_count": 18,
      "metadata": {},
      "outputs": [
        {
          "name": "stdout",
          "output_type": "stream",
          "text": [
            "Percentage of broken machines in the USA: 9.93231544152369%\n",
            "Total money earned by selling ice cream in the USA in a day taking into consideration the broken machines: $3638372.5869431873\n",
            "Total possible revenue in the USA in a day not taking into consideration the broken machines: $4040616.585825\n",
            "Total money lost due to broken machines in the USA: $402243.9988818118\n",
            "Total money lost due to broken machines in the USA in percentage: 9.955015288828324%\n",
            "Data successfully saved in mcbroken-data-for-analysis-2022-09-23_22-49-50.json\n"
          ]
        }
      ],
      "source": [
        "# Assumption - on average 1% of the population in a given state eats ice cream every day\n",
        "\n",
        "# Calculate the number of ice cream cones sold in a given state\n",
        "for state, data in data_for_analysis.items():\n",
        "    data[\"ice_cream_sold\"] = data[\"population\"] * 0.01\n",
        "\n",
        "# Calculate how many ice cream cones are sold in a given state per machine\n",
        "for state, data in data_for_analysis.items():\n",
        "    data[\"ice_cream_sold_per_machine\"] = data[\"ice_cream_sold\"] / data[\"machines_number\"]\n",
        "\n",
        "# Calculate the percentage of broken machines in a given state\n",
        "for state, data in data_for_analysis.items():\n",
        "    data[\"broken_machines_percentage\"] = (data[\"broken_machines_number\"] / data[\"machines_number\"])*100\n",
        "\n",
        "# Calculate how much money a machine makes in a given state\n",
        "for state, data in data_for_analysis.items():\n",
        "    data[\"money_per_machine\"] = data[\"ice_cream_sold_per_machine\"] * average_ice_cream_price\n",
        "\n",
        "# Calculate how much money is lost due to broken machines in a given state\n",
        "for state, data in data_for_analysis.items():\n",
        "    data[\"money_lost_due_to_broken_machines\"] = data[\"broken_machines_number\"] * data[\"money_per_machine\"]\n",
        "\n",
        "# Calculate how much money is lost due to broken machines in a given state in percentage\n",
        "for state, data in data_for_analysis.items():\n",
        "    data[\"money_lost_due_to_broken_machines_percentage\"] = (data[\"money_lost_due_to_broken_machines\"] / (data[\"machines_number\"] * data[\"money_per_machine\"])) * 100\n",
        "\n",
        "# Calculate the total revenue possible in a given state\n",
        "for state, data in data_for_analysis.items():\n",
        "    data[\"total_revenue_possible\"] = data[\"machines_number\"] * data[\"money_per_machine\"]\n",
        "\n",
        "# Calculate percentege of broken machines in the USA\n",
        "broken_machines_percentage = sum([data[\"broken_machines_number\"] for data in data_for_analysis.values()]) / sum([data[\"machines_number\"] for data in data_for_analysis.values()]) * 100\n",
        "print(f\"Percentage of broken machines in the USA: {broken_machines_percentage}%\")\n",
        "\n",
        "# Calculate total money earned by selling ice cream in the USA in a day taking into consideration the broken machines\n",
        "total_money_earned = sum([data[\"money_per_machine\"] * (data[\"machines_number\"] - data[\"broken_machines_number\"]) for data in data_for_analysis.values()])\n",
        "print(f\"Total money earned by selling ice cream in the USA in a day taking into consideration the broken machines: ${total_money_earned}\")\n",
        "\n",
        "# Calculate total possible revenue in the USA in a day not taking into consideration the broken machines\n",
        "total_possible_revenue = sum([data[\"machines_number\"] * data[\"money_per_machine\"] for data in data_for_analysis.values()])\n",
        "print(f\"Total possible revenue in the USA in a day not taking into consideration the broken machines: ${total_possible_revenue}\")\n",
        "\n",
        "# Calculate the total money lost due to broken machines in the USA\n",
        "total_money_lost_due_to_broken_machines = sum([data[\"money_lost_due_to_broken_machines\"] for data in data_for_analysis.values()])\n",
        "print(f\"Total money lost due to broken machines in the USA: ${total_money_lost_due_to_broken_machines}\")\n",
        "\n",
        "# Calculate the total money lost due to broken machines in the USA in percentage\n",
        "total_money_lost_due_to_broken_machines_percentage = (total_money_lost_due_to_broken_machines / total_possible_revenue) * 100\n",
        "print(f\"Total money lost due to broken machines in the USA in percentage: {total_money_lost_due_to_broken_machines_percentage}%\")\n",
        "\n",
        "save_json_file(data_for_analysis, f\"mcbroken-data-for-analysis-{date_data_fetched}.json\")"
      ]
    },
    {
      "cell_type": "code",
      "execution_count": 19,
      "metadata": {},
      "outputs": [
        {
          "name": "stdout",
          "output_type": "stream",
          "text": [
            "Data successfully saved in mcbroken-full-report-2022-09-23_22-49-50.json\n"
          ]
        }
      ],
      "source": [
        "# Create full report for a given day\n",
        "# The summary numbers are rounded to 2 decimal places\n",
        "# Save full report to json file\n",
        "\n",
        "import copy\n",
        "\n",
        "data_for_report = copy.deepcopy(data_for_analysis)\n",
        "\n",
        "round_to_2_decimal_places = lambda x: round(x, 2)\n",
        "add_dolar_sign = lambda x: f\"${x}\"\n",
        "add_percentage_sign = lambda x: f\"{x}%\"\n",
        "\n",
        "cost = lambda x: add_dolar_sign(round_to_2_decimal_places(x))\n",
        "percentage = lambda x: add_percentage_sign(round_to_2_decimal_places(x))\n",
        "\n",
        "\n",
        "# Apply cost and percentage to the data\n",
        "for state, data in data_for_report.items():\n",
        "    data[\"ice_cream_sold\"] = cost(data[\"ice_cream_sold\"])\n",
        "    data[\"ice_cream_sold_per_machine\"] = cost(data[\"ice_cream_sold_per_machine\"])\n",
        "    data[\"broken_machines_percentage\"] = percentage(data[\"broken_machines_percentage\"])\n",
        "    data[\"money_per_machine\"] = cost(data[\"money_per_machine\"])\n",
        "    data[\"money_lost_due_to_broken_machines\"] = cost(data[\"money_lost_due_to_broken_machines\"])\n",
        "    data[\"money_lost_due_to_broken_machines_percentage\"] = percentage(data[\"money_lost_due_to_broken_machines_percentage\"])\n",
        "    data[\"total_revenue_possible\"] = cost(data[\"total_revenue_possible\"])\n",
        "\n",
        "full_report = {\n",
        "    \"date_data_fetched\": date_data_fetched,\n",
        "    \"average_ice_cream_price\": cost(average_ice_cream_price),\n",
        "    \"broken_machines_percentage\": percentage(broken_machines_percentage),\n",
        "    \"total_possible_revenue\": cost(total_possible_revenue),\n",
        "    \"total_money_lost_due_to_broken_machines\": cost(total_money_lost_due_to_broken_machines),\n",
        "    \"total_money_lost_due_to_broken_machines_percentage\": percentage(total_money_lost_due_to_broken_machines_percentage),\n",
        "    \"data_for_report\": data_for_report\n",
        "}\n",
        "\n",
        "save_json_file(full_report, f\"mcbroken-full-report-{date_data_fetched}.json\")"
      ]
    },
    {
      "cell_type": "markdown",
      "metadata": {},
      "source": [
        "## Data visualization"
      ]
    },
    {
      "cell_type": "code",
      "execution_count": 20,
      "metadata": {},
      "outputs": [
        {
          "name": "stdout",
          "output_type": "stream",
          "text": [
            "Defaulting to user installation because normal site-packages is not writeable\n",
            "Requirement already satisfied: kaleido in c:\\users\\polej\\appdata\\roaming\\python\\python39\\site-packages (0.2.1)\n"
          ]
        }
      ],
      "source": [
        "! pip install kaleido"
      ]
    },
    {
      "cell_type": "code",
      "execution_count": 21,
      "metadata": {},
      "outputs": [
        {
          "name": "stdout",
          "output_type": "stream",
          "text": [
            "Defaulting to user installation because normal site-packages is not writeable\n",
            "Requirement already satisfied: dash in c:\\users\\polej\\appdata\\roaming\\python\\python39\\site-packages (2.6.2)\n",
            "Requirement already satisfied: Flask>=1.0.4 in c:\\programdata\\anaconda3\\lib\\site-packages (from dash) (1.1.2)\n",
            "Requirement already satisfied: dash-table==5.0.0 in c:\\users\\polej\\appdata\\roaming\\python\\python39\\site-packages (from dash) (5.0.0)\n",
            "Requirement already satisfied: flask-compress in c:\\users\\polej\\appdata\\roaming\\python\\python39\\site-packages (from dash) (1.13)\n",
            "Requirement already satisfied: dash-html-components==2.0.0 in c:\\users\\polej\\appdata\\roaming\\python\\python39\\site-packages (from dash) (2.0.0)\n",
            "Requirement already satisfied: plotly>=5.0.0 in c:\\programdata\\anaconda3\\lib\\site-packages (from dash) (5.6.0)\n",
            "Requirement already satisfied: dash-core-components==2.0.0 in c:\\users\\polej\\appdata\\roaming\\python\\python39\\site-packages (from dash) (2.0.0)\n",
            "Requirement already satisfied: Jinja2>=2.10.1 in c:\\programdata\\anaconda3\\lib\\site-packages (from Flask>=1.0.4->dash) (2.11.3)\n",
            "Requirement already satisfied: click>=5.1 in c:\\programdata\\anaconda3\\lib\\site-packages (from Flask>=1.0.4->dash) (8.0.4)\n",
            "Requirement already satisfied: itsdangerous>=0.24 in c:\\programdata\\anaconda3\\lib\\site-packages (from Flask>=1.0.4->dash) (2.0.1)\n",
            "Requirement already satisfied: Werkzeug>=0.15 in c:\\programdata\\anaconda3\\lib\\site-packages (from Flask>=1.0.4->dash) (2.0.3)\n",
            "Requirement already satisfied: colorama in c:\\programdata\\anaconda3\\lib\\site-packages (from click>=5.1->Flask>=1.0.4->dash) (0.4.4)\n",
            "Requirement already satisfied: MarkupSafe>=0.23 in c:\\programdata\\anaconda3\\lib\\site-packages (from Jinja2>=2.10.1->Flask>=1.0.4->dash) (2.0.1)\n",
            "Requirement already satisfied: tenacity>=6.2.0 in c:\\programdata\\anaconda3\\lib\\site-packages (from plotly>=5.0.0->dash) (8.0.1)\n",
            "Requirement already satisfied: six in c:\\programdata\\anaconda3\\lib\\site-packages (from plotly>=5.0.0->dash) (1.16.0)\n",
            "Requirement already satisfied: brotli in c:\\users\\polej\\appdata\\roaming\\python\\python39\\site-packages (from flask-compress->dash) (1.0.9)\n",
            "Defaulting to user installation because normal site-packages is not writeable\n",
            "Requirement already satisfied: dash-bootstrap-components in c:\\users\\polej\\appdata\\roaming\\python\\python39\\site-packages (1.2.1)\n",
            "Requirement already satisfied: dash>=2.0.0 in c:\\users\\polej\\appdata\\roaming\\python\\python39\\site-packages (from dash-bootstrap-components) (2.6.2)\n",
            "Requirement already satisfied: plotly>=5.0.0 in c:\\programdata\\anaconda3\\lib\\site-packages (from dash>=2.0.0->dash-bootstrap-components) (5.6.0)\n",
            "Requirement already satisfied: dash-table==5.0.0 in c:\\users\\polej\\appdata\\roaming\\python\\python39\\site-packages (from dash>=2.0.0->dash-bootstrap-components) (5.0.0)\n",
            "Requirement already satisfied: Flask>=1.0.4 in c:\\programdata\\anaconda3\\lib\\site-packages (from dash>=2.0.0->dash-bootstrap-components) (1.1.2)\n",
            "Requirement already satisfied: dash-core-components==2.0.0 in c:\\users\\polej\\appdata\\roaming\\python\\python39\\site-packages (from dash>=2.0.0->dash-bootstrap-components) (2.0.0)\n",
            "Requirement already satisfied: flask-compress in c:\\users\\polej\\appdata\\roaming\\python\\python39\\site-packages (from dash>=2.0.0->dash-bootstrap-components) (1.13)\n",
            "Requirement already satisfied: dash-html-components==2.0.0 in c:\\users\\polej\\appdata\\roaming\\python\\python39\\site-packages (from dash>=2.0.0->dash-bootstrap-components) (2.0.0)\n",
            "Requirement already satisfied: click>=5.1 in c:\\programdata\\anaconda3\\lib\\site-packages (from Flask>=1.0.4->dash>=2.0.0->dash-bootstrap-components) (8.0.4)\n",
            "Requirement already satisfied: itsdangerous>=0.24 in c:\\programdata\\anaconda3\\lib\\site-packages (from Flask>=1.0.4->dash>=2.0.0->dash-bootstrap-components) (2.0.1)\n",
            "Requirement already satisfied: Werkzeug>=0.15 in c:\\programdata\\anaconda3\\lib\\site-packages (from Flask>=1.0.4->dash>=2.0.0->dash-bootstrap-components) (2.0.3)\n",
            "Requirement already satisfied: Jinja2>=2.10.1 in c:\\programdata\\anaconda3\\lib\\site-packages (from Flask>=1.0.4->dash>=2.0.0->dash-bootstrap-components) (2.11.3)\n",
            "Requirement already satisfied: colorama in c:\\programdata\\anaconda3\\lib\\site-packages (from click>=5.1->Flask>=1.0.4->dash>=2.0.0->dash-bootstrap-components) (0.4.4)\n",
            "Requirement already satisfied: MarkupSafe>=0.23 in c:\\programdata\\anaconda3\\lib\\site-packages (from Jinja2>=2.10.1->Flask>=1.0.4->dash>=2.0.0->dash-bootstrap-components) (2.0.1)\n",
            "Requirement already satisfied: six in c:\\programdata\\anaconda3\\lib\\site-packages (from plotly>=5.0.0->dash>=2.0.0->dash-bootstrap-components) (1.16.0)\n",
            "Requirement already satisfied: tenacity>=6.2.0 in c:\\programdata\\anaconda3\\lib\\site-packages (from plotly>=5.0.0->dash>=2.0.0->dash-bootstrap-components) (8.0.1)\n",
            "Requirement already satisfied: brotli in c:\\users\\polej\\appdata\\roaming\\python\\python39\\site-packages (from flask-compress->dash>=2.0.0->dash-bootstrap-components) (1.0.9)\n"
          ]
        },
        {
          "name": "stderr",
          "output_type": "stream",
          "text": [
            "C:\\Users\\polej\\AppData\\Local\\Temp\\ipykernel_19380\\2713265116.py:4: UserWarning: \n",
            "The dash_core_components package is deprecated. Please replace\n",
            "`import dash_core_components as dcc` with `from dash import dcc`\n",
            "  import dash_core_components as dcc\n"
          ]
        }
      ],
      "source": [
        "! pip install dash\n",
        "! pip install dash-bootstrap-components\n",
        "import dash\n",
        "import dash_core_components as dcc\n",
        "import dash_bootstrap_components as dbc"
      ]
    },
    {
      "cell_type": "code",
      "execution_count": 22,
      "metadata": {},
      "outputs": [
        {
          "data": {
            "application/vnd.plotly.v1+json": {
              "config": {
                "plotlyServerURL": "https://plot.ly"
              },
              "data": [
                {
                  "alignmentgroup": "True",
                  "hovertemplate": "index=%{x}<br>broken_machines_number=%{y}<extra></extra>",
                  "legendgroup": "",
                  "marker": {
                    "color": "#636efa",
                    "pattern": {
                      "shape": ""
                    }
                  },
                  "name": "",
                  "offsetgroup": "",
                  "orientation": "v",
                  "showlegend": false,
                  "textposition": "auto",
                  "type": "bar",
                  "x": [
                    "New York",
                    "New Jersey",
                    "Connecticut",
                    "Pennsylvania",
                    "Delaware",
                    "Massachusetts",
                    "Maryland",
                    "Rhode Island",
                    "Vermont",
                    "New Hampshire",
                    "District of Columbia",
                    "Virginia",
                    "West Virginia",
                    "Maine",
                    "North Carolina",
                    "Ohio",
                    "Michigan",
                    "Kentucky",
                    "Tennessee",
                    "South Carolina",
                    "Indiana",
                    "Georgia",
                    "Illinois",
                    "Wisconsin",
                    "Alabama",
                    "Florida",
                    "Iowa",
                    "Missouri",
                    "Mississippi",
                    "Arkansas",
                    "Minnesota",
                    "Kansas",
                    "Louisiana",
                    "Nebraska",
                    "Oklahoma",
                    "South Dakota",
                    "North Dakota",
                    "Texas",
                    "Colorado",
                    "Wyoming",
                    "Montana",
                    "New Mexico",
                    "Utah",
                    "Arizona",
                    "Idaho",
                    "Nevada",
                    "Washington",
                    "Oregon",
                    "California",
                    "Alaska",
                    "Hawaii"
                  ],
                  "xaxis": "x",
                  "y": [
                    53,
                    21,
                    5,
                    37,
                    1,
                    23,
                    26,
                    0,
                    1,
                    1,
                    1,
                    43,
                    4,
                    2,
                    38,
                    63,
                    45,
                    21,
                    29,
                    33,
                    38,
                    64,
                    53,
                    18,
                    16,
                    69,
                    10,
                    29,
                    24,
                    18,
                    12,
                    9,
                    24,
                    9,
                    23,
                    2,
                    2,
                    119,
                    15,
                    1,
                    7,
                    5,
                    13,
                    33,
                    5,
                    10,
                    29,
                    25,
                    120,
                    4,
                    9
                  ],
                  "yaxis": "y"
                }
              ],
              "layout": {
                "barmode": "relative",
                "legend": {
                  "tracegroupgap": 0
                },
                "template": {
                  "data": {
                    "bar": [
                      {
                        "error_x": {
                          "color": "#2a3f5f"
                        },
                        "error_y": {
                          "color": "#2a3f5f"
                        },
                        "marker": {
                          "line": {
                            "color": "#E5ECF6",
                            "width": 0.5
                          },
                          "pattern": {
                            "fillmode": "overlay",
                            "size": 10,
                            "solidity": 0.2
                          }
                        },
                        "type": "bar"
                      }
                    ],
                    "barpolar": [
                      {
                        "marker": {
                          "line": {
                            "color": "#E5ECF6",
                            "width": 0.5
                          },
                          "pattern": {
                            "fillmode": "overlay",
                            "size": 10,
                            "solidity": 0.2
                          }
                        },
                        "type": "barpolar"
                      }
                    ],
                    "carpet": [
                      {
                        "aaxis": {
                          "endlinecolor": "#2a3f5f",
                          "gridcolor": "white",
                          "linecolor": "white",
                          "minorgridcolor": "white",
                          "startlinecolor": "#2a3f5f"
                        },
                        "baxis": {
                          "endlinecolor": "#2a3f5f",
                          "gridcolor": "white",
                          "linecolor": "white",
                          "minorgridcolor": "white",
                          "startlinecolor": "#2a3f5f"
                        },
                        "type": "carpet"
                      }
                    ],
                    "choropleth": [
                      {
                        "colorbar": {
                          "outlinewidth": 0,
                          "ticks": ""
                        },
                        "type": "choropleth"
                      }
                    ],
                    "contour": [
                      {
                        "colorbar": {
                          "outlinewidth": 0,
                          "ticks": ""
                        },
                        "colorscale": [
                          [
                            0,
                            "#0d0887"
                          ],
                          [
                            0.1111111111111111,
                            "#46039f"
                          ],
                          [
                            0.2222222222222222,
                            "#7201a8"
                          ],
                          [
                            0.3333333333333333,
                            "#9c179e"
                          ],
                          [
                            0.4444444444444444,
                            "#bd3786"
                          ],
                          [
                            0.5555555555555556,
                            "#d8576b"
                          ],
                          [
                            0.6666666666666666,
                            "#ed7953"
                          ],
                          [
                            0.7777777777777778,
                            "#fb9f3a"
                          ],
                          [
                            0.8888888888888888,
                            "#fdca26"
                          ],
                          [
                            1,
                            "#f0f921"
                          ]
                        ],
                        "type": "contour"
                      }
                    ],
                    "contourcarpet": [
                      {
                        "colorbar": {
                          "outlinewidth": 0,
                          "ticks": ""
                        },
                        "type": "contourcarpet"
                      }
                    ],
                    "heatmap": [
                      {
                        "colorbar": {
                          "outlinewidth": 0,
                          "ticks": ""
                        },
                        "colorscale": [
                          [
                            0,
                            "#0d0887"
                          ],
                          [
                            0.1111111111111111,
                            "#46039f"
                          ],
                          [
                            0.2222222222222222,
                            "#7201a8"
                          ],
                          [
                            0.3333333333333333,
                            "#9c179e"
                          ],
                          [
                            0.4444444444444444,
                            "#bd3786"
                          ],
                          [
                            0.5555555555555556,
                            "#d8576b"
                          ],
                          [
                            0.6666666666666666,
                            "#ed7953"
                          ],
                          [
                            0.7777777777777778,
                            "#fb9f3a"
                          ],
                          [
                            0.8888888888888888,
                            "#fdca26"
                          ],
                          [
                            1,
                            "#f0f921"
                          ]
                        ],
                        "type": "heatmap"
                      }
                    ],
                    "heatmapgl": [
                      {
                        "colorbar": {
                          "outlinewidth": 0,
                          "ticks": ""
                        },
                        "colorscale": [
                          [
                            0,
                            "#0d0887"
                          ],
                          [
                            0.1111111111111111,
                            "#46039f"
                          ],
                          [
                            0.2222222222222222,
                            "#7201a8"
                          ],
                          [
                            0.3333333333333333,
                            "#9c179e"
                          ],
                          [
                            0.4444444444444444,
                            "#bd3786"
                          ],
                          [
                            0.5555555555555556,
                            "#d8576b"
                          ],
                          [
                            0.6666666666666666,
                            "#ed7953"
                          ],
                          [
                            0.7777777777777778,
                            "#fb9f3a"
                          ],
                          [
                            0.8888888888888888,
                            "#fdca26"
                          ],
                          [
                            1,
                            "#f0f921"
                          ]
                        ],
                        "type": "heatmapgl"
                      }
                    ],
                    "histogram": [
                      {
                        "marker": {
                          "pattern": {
                            "fillmode": "overlay",
                            "size": 10,
                            "solidity": 0.2
                          }
                        },
                        "type": "histogram"
                      }
                    ],
                    "histogram2d": [
                      {
                        "colorbar": {
                          "outlinewidth": 0,
                          "ticks": ""
                        },
                        "colorscale": [
                          [
                            0,
                            "#0d0887"
                          ],
                          [
                            0.1111111111111111,
                            "#46039f"
                          ],
                          [
                            0.2222222222222222,
                            "#7201a8"
                          ],
                          [
                            0.3333333333333333,
                            "#9c179e"
                          ],
                          [
                            0.4444444444444444,
                            "#bd3786"
                          ],
                          [
                            0.5555555555555556,
                            "#d8576b"
                          ],
                          [
                            0.6666666666666666,
                            "#ed7953"
                          ],
                          [
                            0.7777777777777778,
                            "#fb9f3a"
                          ],
                          [
                            0.8888888888888888,
                            "#fdca26"
                          ],
                          [
                            1,
                            "#f0f921"
                          ]
                        ],
                        "type": "histogram2d"
                      }
                    ],
                    "histogram2dcontour": [
                      {
                        "colorbar": {
                          "outlinewidth": 0,
                          "ticks": ""
                        },
                        "colorscale": [
                          [
                            0,
                            "#0d0887"
                          ],
                          [
                            0.1111111111111111,
                            "#46039f"
                          ],
                          [
                            0.2222222222222222,
                            "#7201a8"
                          ],
                          [
                            0.3333333333333333,
                            "#9c179e"
                          ],
                          [
                            0.4444444444444444,
                            "#bd3786"
                          ],
                          [
                            0.5555555555555556,
                            "#d8576b"
                          ],
                          [
                            0.6666666666666666,
                            "#ed7953"
                          ],
                          [
                            0.7777777777777778,
                            "#fb9f3a"
                          ],
                          [
                            0.8888888888888888,
                            "#fdca26"
                          ],
                          [
                            1,
                            "#f0f921"
                          ]
                        ],
                        "type": "histogram2dcontour"
                      }
                    ],
                    "mesh3d": [
                      {
                        "colorbar": {
                          "outlinewidth": 0,
                          "ticks": ""
                        },
                        "type": "mesh3d"
                      }
                    ],
                    "parcoords": [
                      {
                        "line": {
                          "colorbar": {
                            "outlinewidth": 0,
                            "ticks": ""
                          }
                        },
                        "type": "parcoords"
                      }
                    ],
                    "pie": [
                      {
                        "automargin": true,
                        "type": "pie"
                      }
                    ],
                    "scatter": [
                      {
                        "marker": {
                          "colorbar": {
                            "outlinewidth": 0,
                            "ticks": ""
                          }
                        },
                        "type": "scatter"
                      }
                    ],
                    "scatter3d": [
                      {
                        "line": {
                          "colorbar": {
                            "outlinewidth": 0,
                            "ticks": ""
                          }
                        },
                        "marker": {
                          "colorbar": {
                            "outlinewidth": 0,
                            "ticks": ""
                          }
                        },
                        "type": "scatter3d"
                      }
                    ],
                    "scattercarpet": [
                      {
                        "marker": {
                          "colorbar": {
                            "outlinewidth": 0,
                            "ticks": ""
                          }
                        },
                        "type": "scattercarpet"
                      }
                    ],
                    "scattergeo": [
                      {
                        "marker": {
                          "colorbar": {
                            "outlinewidth": 0,
                            "ticks": ""
                          }
                        },
                        "type": "scattergeo"
                      }
                    ],
                    "scattergl": [
                      {
                        "marker": {
                          "colorbar": {
                            "outlinewidth": 0,
                            "ticks": ""
                          }
                        },
                        "type": "scattergl"
                      }
                    ],
                    "scattermapbox": [
                      {
                        "marker": {
                          "colorbar": {
                            "outlinewidth": 0,
                            "ticks": ""
                          }
                        },
                        "type": "scattermapbox"
                      }
                    ],
                    "scatterpolar": [
                      {
                        "marker": {
                          "colorbar": {
                            "outlinewidth": 0,
                            "ticks": ""
                          }
                        },
                        "type": "scatterpolar"
                      }
                    ],
                    "scatterpolargl": [
                      {
                        "marker": {
                          "colorbar": {
                            "outlinewidth": 0,
                            "ticks": ""
                          }
                        },
                        "type": "scatterpolargl"
                      }
                    ],
                    "scatterternary": [
                      {
                        "marker": {
                          "colorbar": {
                            "outlinewidth": 0,
                            "ticks": ""
                          }
                        },
                        "type": "scatterternary"
                      }
                    ],
                    "surface": [
                      {
                        "colorbar": {
                          "outlinewidth": 0,
                          "ticks": ""
                        },
                        "colorscale": [
                          [
                            0,
                            "#0d0887"
                          ],
                          [
                            0.1111111111111111,
                            "#46039f"
                          ],
                          [
                            0.2222222222222222,
                            "#7201a8"
                          ],
                          [
                            0.3333333333333333,
                            "#9c179e"
                          ],
                          [
                            0.4444444444444444,
                            "#bd3786"
                          ],
                          [
                            0.5555555555555556,
                            "#d8576b"
                          ],
                          [
                            0.6666666666666666,
                            "#ed7953"
                          ],
                          [
                            0.7777777777777778,
                            "#fb9f3a"
                          ],
                          [
                            0.8888888888888888,
                            "#fdca26"
                          ],
                          [
                            1,
                            "#f0f921"
                          ]
                        ],
                        "type": "surface"
                      }
                    ],
                    "table": [
                      {
                        "cells": {
                          "fill": {
                            "color": "#EBF0F8"
                          },
                          "line": {
                            "color": "white"
                          }
                        },
                        "header": {
                          "fill": {
                            "color": "#C8D4E3"
                          },
                          "line": {
                            "color": "white"
                          }
                        },
                        "type": "table"
                      }
                    ]
                  },
                  "layout": {
                    "annotationdefaults": {
                      "arrowcolor": "#2a3f5f",
                      "arrowhead": 0,
                      "arrowwidth": 1
                    },
                    "autotypenumbers": "strict",
                    "coloraxis": {
                      "colorbar": {
                        "outlinewidth": 0,
                        "ticks": ""
                      }
                    },
                    "colorscale": {
                      "diverging": [
                        [
                          0,
                          "#8e0152"
                        ],
                        [
                          0.1,
                          "#c51b7d"
                        ],
                        [
                          0.2,
                          "#de77ae"
                        ],
                        [
                          0.3,
                          "#f1b6da"
                        ],
                        [
                          0.4,
                          "#fde0ef"
                        ],
                        [
                          0.5,
                          "#f7f7f7"
                        ],
                        [
                          0.6,
                          "#e6f5d0"
                        ],
                        [
                          0.7,
                          "#b8e186"
                        ],
                        [
                          0.8,
                          "#7fbc41"
                        ],
                        [
                          0.9,
                          "#4d9221"
                        ],
                        [
                          1,
                          "#276419"
                        ]
                      ],
                      "sequential": [
                        [
                          0,
                          "#0d0887"
                        ],
                        [
                          0.1111111111111111,
                          "#46039f"
                        ],
                        [
                          0.2222222222222222,
                          "#7201a8"
                        ],
                        [
                          0.3333333333333333,
                          "#9c179e"
                        ],
                        [
                          0.4444444444444444,
                          "#bd3786"
                        ],
                        [
                          0.5555555555555556,
                          "#d8576b"
                        ],
                        [
                          0.6666666666666666,
                          "#ed7953"
                        ],
                        [
                          0.7777777777777778,
                          "#fb9f3a"
                        ],
                        [
                          0.8888888888888888,
                          "#fdca26"
                        ],
                        [
                          1,
                          "#f0f921"
                        ]
                      ],
                      "sequentialminus": [
                        [
                          0,
                          "#0d0887"
                        ],
                        [
                          0.1111111111111111,
                          "#46039f"
                        ],
                        [
                          0.2222222222222222,
                          "#7201a8"
                        ],
                        [
                          0.3333333333333333,
                          "#9c179e"
                        ],
                        [
                          0.4444444444444444,
                          "#bd3786"
                        ],
                        [
                          0.5555555555555556,
                          "#d8576b"
                        ],
                        [
                          0.6666666666666666,
                          "#ed7953"
                        ],
                        [
                          0.7777777777777778,
                          "#fb9f3a"
                        ],
                        [
                          0.8888888888888888,
                          "#fdca26"
                        ],
                        [
                          1,
                          "#f0f921"
                        ]
                      ]
                    },
                    "colorway": [
                      "#636efa",
                      "#EF553B",
                      "#00cc96",
                      "#ab63fa",
                      "#FFA15A",
                      "#19d3f3",
                      "#FF6692",
                      "#B6E880",
                      "#FF97FF",
                      "#FECB52"
                    ],
                    "font": {
                      "color": "#2a3f5f"
                    },
                    "geo": {
                      "bgcolor": "white",
                      "lakecolor": "white",
                      "landcolor": "#E5ECF6",
                      "showlakes": true,
                      "showland": true,
                      "subunitcolor": "white"
                    },
                    "hoverlabel": {
                      "align": "left"
                    },
                    "hovermode": "closest",
                    "mapbox": {
                      "style": "light"
                    },
                    "paper_bgcolor": "white",
                    "plot_bgcolor": "#E5ECF6",
                    "polar": {
                      "angularaxis": {
                        "gridcolor": "white",
                        "linecolor": "white",
                        "ticks": ""
                      },
                      "bgcolor": "#E5ECF6",
                      "radialaxis": {
                        "gridcolor": "white",
                        "linecolor": "white",
                        "ticks": ""
                      }
                    },
                    "scene": {
                      "xaxis": {
                        "backgroundcolor": "#E5ECF6",
                        "gridcolor": "white",
                        "gridwidth": 2,
                        "linecolor": "white",
                        "showbackground": true,
                        "ticks": "",
                        "zerolinecolor": "white"
                      },
                      "yaxis": {
                        "backgroundcolor": "#E5ECF6",
                        "gridcolor": "white",
                        "gridwidth": 2,
                        "linecolor": "white",
                        "showbackground": true,
                        "ticks": "",
                        "zerolinecolor": "white"
                      },
                      "zaxis": {
                        "backgroundcolor": "#E5ECF6",
                        "gridcolor": "white",
                        "gridwidth": 2,
                        "linecolor": "white",
                        "showbackground": true,
                        "ticks": "",
                        "zerolinecolor": "white"
                      }
                    },
                    "shapedefaults": {
                      "line": {
                        "color": "#2a3f5f"
                      }
                    },
                    "ternary": {
                      "aaxis": {
                        "gridcolor": "white",
                        "linecolor": "white",
                        "ticks": ""
                      },
                      "baxis": {
                        "gridcolor": "white",
                        "linecolor": "white",
                        "ticks": ""
                      },
                      "bgcolor": "#E5ECF6",
                      "caxis": {
                        "gridcolor": "white",
                        "linecolor": "white",
                        "ticks": ""
                      }
                    },
                    "title": {
                      "x": 0.05
                    },
                    "xaxis": {
                      "automargin": true,
                      "gridcolor": "white",
                      "linecolor": "white",
                      "ticks": "",
                      "title": {
                        "standoff": 15
                      },
                      "zerolinecolor": "white",
                      "zerolinewidth": 2
                    },
                    "yaxis": {
                      "automargin": true,
                      "gridcolor": "white",
                      "linecolor": "white",
                      "ticks": "",
                      "title": {
                        "standoff": 15
                      },
                      "zerolinecolor": "white",
                      "zerolinewidth": 2
                    }
                  }
                },
                "title": {
                  "text": "Number of broken machines in each state"
                },
                "xaxis": {
                  "anchor": "y",
                  "domain": [
                    0,
                    1
                  ],
                  "title": {
                    "text": "index"
                  }
                },
                "yaxis": {
                  "anchor": "x",
                  "domain": [
                    0,
                    1
                  ],
                  "title": {
                    "text": "broken_machines_number"
                  }
                }
              }
            }
          },
          "metadata": {},
          "output_type": "display_data"
        }
      ],
      "source": [
        "# Visualize the data using plotly\n",
        "\n",
        "import plotly.express as px\n",
        "import pandas as pd\n",
        "\n",
        "\n",
        "# Create a dataframe for the data_for_analysis\n",
        "df = pd.DataFrame(data_for_analysis).T\n",
        "\n",
        "\n",
        "# Create a bar chart showing the number of broken machines in each state\n",
        "fig_bar_chart_broken_machines = px.bar(\n",
        "    df,\n",
        "    x=df.index,\n",
        "    y=\"broken_machines_number\",\n",
        "    title=\"Number of broken machines in each state\",\n",
        "    labels={\"x\": \"State\", \"y\": \"Number of broken machines\"},\n",
        ")\n",
        "\n",
        "fig_bar_chart_broken_machines.show()\n",
        "\n",
        "# Save the bar chart as a png file\n",
        "fig_bar_chart_broken_machines.write_image(\"mcbroken-bar-chart-broken-machines.png\")\n",
        "\n",
        "# Save the bar to dcc graph\n",
        "dcc_graph_bar_chart_broken_machines = dcc.Graph(figure=fig_bar_chart_broken_machines)\n"
      ]
    },
    {
      "cell_type": "code",
      "execution_count": 23,
      "metadata": {},
      "outputs": [
        {
          "data": {
            "application/vnd.plotly.v1+json": {
              "config": {
                "plotlyServerURL": "https://plot.ly"
              },
              "data": [
                {
                  "alignmentgroup": "True",
                  "hovertemplate": "index=%{x}<br>money_lost_due_to_broken_machines=%{y}<extra></extra>",
                  "legendgroup": "",
                  "marker": {
                    "color": "#636efa",
                    "pattern": {
                      "shape": ""
                    }
                  },
                  "name": "",
                  "offsetgroup": "",
                  "orientation": "v",
                  "showlegend": false,
                  "textposition": "auto",
                  "type": "bar",
                  "x": [
                    "New York",
                    "New Jersey",
                    "Connecticut",
                    "Pennsylvania",
                    "Delaware",
                    "Massachusetts",
                    "Maryland",
                    "Rhode Island",
                    "Vermont",
                    "New Hampshire",
                    "District of Columbia",
                    "Virginia",
                    "West Virginia",
                    "Maine",
                    "North Carolina",
                    "Ohio",
                    "Michigan",
                    "Kentucky",
                    "Tennessee",
                    "South Carolina",
                    "Indiana",
                    "Georgia",
                    "Illinois",
                    "Wisconsin",
                    "Alabama",
                    "Florida",
                    "Iowa",
                    "Missouri",
                    "Mississippi",
                    "Arkansas",
                    "Minnesota",
                    "Kansas",
                    "Louisiana",
                    "Nebraska",
                    "Oklahoma",
                    "South Dakota",
                    "North Dakota",
                    "Texas",
                    "Colorado",
                    "Wyoming",
                    "Montana",
                    "New Mexico",
                    "Utah",
                    "Arizona",
                    "Idaho",
                    "Nevada",
                    "Washington",
                    "Oregon",
                    "California",
                    "Alaska",
                    "Hawaii"
                  ],
                  "xaxis": "x",
                  "y": [
                    22815.719716711228,
                    9831.425156639005,
                    1688.3901336538463,
                    12806.980540789475,
                    349.0342914285714,
                    8810.347108445945,
                    7623.326503710938,
                    0,
                    327.49228125,
                    338.219552,
                    326.31435,
                    11937.85355105541,
                    877.0717505050504,
                    586.2142885964913,
                    11119.578813895216,
                    15471.862225042807,
                    11013.17615325,
                    4744.606217901235,
                    8048.284625326799,
                    9699.97907616279,
                    9541.784728030303,
                    19940.810017061613,
                    13082.53145436,
                    4598.178783629894,
                    4268.556693913044,
                    22368.925555745725,
                    2858.510060661765,
                    7407.593962670068,
                    6432.68487313433,
                    4170.591274528302,
                    4008.8926875000006,
                    2347.1300923357667,
                    6226.481720737327,
                    2907.723660810811,
                    6133.838384478022,
                    807.4965037037038,
                    820.4340782608697,
                    40550.539449597156,
                    5768.636419157609,
                    281.877061,
                    2138.897635795455,
                    1480.5058893678163,
                    5206.446722524752,
                    11555.106169565219,
                    2066.4051361607144,
                    3271.63166025641,
                    11577.706262288135,
                    8791.996109693879,
                    49504.7309119171,
                    1486.7156291666668,
                    2224.7629573943664
                  ],
                  "yaxis": "y"
                }
              ],
              "layout": {
                "barmode": "relative",
                "legend": {
                  "tracegroupgap": 0
                },
                "template": {
                  "data": {
                    "bar": [
                      {
                        "error_x": {
                          "color": "#2a3f5f"
                        },
                        "error_y": {
                          "color": "#2a3f5f"
                        },
                        "marker": {
                          "line": {
                            "color": "#E5ECF6",
                            "width": 0.5
                          },
                          "pattern": {
                            "fillmode": "overlay",
                            "size": 10,
                            "solidity": 0.2
                          }
                        },
                        "type": "bar"
                      }
                    ],
                    "barpolar": [
                      {
                        "marker": {
                          "line": {
                            "color": "#E5ECF6",
                            "width": 0.5
                          },
                          "pattern": {
                            "fillmode": "overlay",
                            "size": 10,
                            "solidity": 0.2
                          }
                        },
                        "type": "barpolar"
                      }
                    ],
                    "carpet": [
                      {
                        "aaxis": {
                          "endlinecolor": "#2a3f5f",
                          "gridcolor": "white",
                          "linecolor": "white",
                          "minorgridcolor": "white",
                          "startlinecolor": "#2a3f5f"
                        },
                        "baxis": {
                          "endlinecolor": "#2a3f5f",
                          "gridcolor": "white",
                          "linecolor": "white",
                          "minorgridcolor": "white",
                          "startlinecolor": "#2a3f5f"
                        },
                        "type": "carpet"
                      }
                    ],
                    "choropleth": [
                      {
                        "colorbar": {
                          "outlinewidth": 0,
                          "ticks": ""
                        },
                        "type": "choropleth"
                      }
                    ],
                    "contour": [
                      {
                        "colorbar": {
                          "outlinewidth": 0,
                          "ticks": ""
                        },
                        "colorscale": [
                          [
                            0,
                            "#0d0887"
                          ],
                          [
                            0.1111111111111111,
                            "#46039f"
                          ],
                          [
                            0.2222222222222222,
                            "#7201a8"
                          ],
                          [
                            0.3333333333333333,
                            "#9c179e"
                          ],
                          [
                            0.4444444444444444,
                            "#bd3786"
                          ],
                          [
                            0.5555555555555556,
                            "#d8576b"
                          ],
                          [
                            0.6666666666666666,
                            "#ed7953"
                          ],
                          [
                            0.7777777777777778,
                            "#fb9f3a"
                          ],
                          [
                            0.8888888888888888,
                            "#fdca26"
                          ],
                          [
                            1,
                            "#f0f921"
                          ]
                        ],
                        "type": "contour"
                      }
                    ],
                    "contourcarpet": [
                      {
                        "colorbar": {
                          "outlinewidth": 0,
                          "ticks": ""
                        },
                        "type": "contourcarpet"
                      }
                    ],
                    "heatmap": [
                      {
                        "colorbar": {
                          "outlinewidth": 0,
                          "ticks": ""
                        },
                        "colorscale": [
                          [
                            0,
                            "#0d0887"
                          ],
                          [
                            0.1111111111111111,
                            "#46039f"
                          ],
                          [
                            0.2222222222222222,
                            "#7201a8"
                          ],
                          [
                            0.3333333333333333,
                            "#9c179e"
                          ],
                          [
                            0.4444444444444444,
                            "#bd3786"
                          ],
                          [
                            0.5555555555555556,
                            "#d8576b"
                          ],
                          [
                            0.6666666666666666,
                            "#ed7953"
                          ],
                          [
                            0.7777777777777778,
                            "#fb9f3a"
                          ],
                          [
                            0.8888888888888888,
                            "#fdca26"
                          ],
                          [
                            1,
                            "#f0f921"
                          ]
                        ],
                        "type": "heatmap"
                      }
                    ],
                    "heatmapgl": [
                      {
                        "colorbar": {
                          "outlinewidth": 0,
                          "ticks": ""
                        },
                        "colorscale": [
                          [
                            0,
                            "#0d0887"
                          ],
                          [
                            0.1111111111111111,
                            "#46039f"
                          ],
                          [
                            0.2222222222222222,
                            "#7201a8"
                          ],
                          [
                            0.3333333333333333,
                            "#9c179e"
                          ],
                          [
                            0.4444444444444444,
                            "#bd3786"
                          ],
                          [
                            0.5555555555555556,
                            "#d8576b"
                          ],
                          [
                            0.6666666666666666,
                            "#ed7953"
                          ],
                          [
                            0.7777777777777778,
                            "#fb9f3a"
                          ],
                          [
                            0.8888888888888888,
                            "#fdca26"
                          ],
                          [
                            1,
                            "#f0f921"
                          ]
                        ],
                        "type": "heatmapgl"
                      }
                    ],
                    "histogram": [
                      {
                        "marker": {
                          "pattern": {
                            "fillmode": "overlay",
                            "size": 10,
                            "solidity": 0.2
                          }
                        },
                        "type": "histogram"
                      }
                    ],
                    "histogram2d": [
                      {
                        "colorbar": {
                          "outlinewidth": 0,
                          "ticks": ""
                        },
                        "colorscale": [
                          [
                            0,
                            "#0d0887"
                          ],
                          [
                            0.1111111111111111,
                            "#46039f"
                          ],
                          [
                            0.2222222222222222,
                            "#7201a8"
                          ],
                          [
                            0.3333333333333333,
                            "#9c179e"
                          ],
                          [
                            0.4444444444444444,
                            "#bd3786"
                          ],
                          [
                            0.5555555555555556,
                            "#d8576b"
                          ],
                          [
                            0.6666666666666666,
                            "#ed7953"
                          ],
                          [
                            0.7777777777777778,
                            "#fb9f3a"
                          ],
                          [
                            0.8888888888888888,
                            "#fdca26"
                          ],
                          [
                            1,
                            "#f0f921"
                          ]
                        ],
                        "type": "histogram2d"
                      }
                    ],
                    "histogram2dcontour": [
                      {
                        "colorbar": {
                          "outlinewidth": 0,
                          "ticks": ""
                        },
                        "colorscale": [
                          [
                            0,
                            "#0d0887"
                          ],
                          [
                            0.1111111111111111,
                            "#46039f"
                          ],
                          [
                            0.2222222222222222,
                            "#7201a8"
                          ],
                          [
                            0.3333333333333333,
                            "#9c179e"
                          ],
                          [
                            0.4444444444444444,
                            "#bd3786"
                          ],
                          [
                            0.5555555555555556,
                            "#d8576b"
                          ],
                          [
                            0.6666666666666666,
                            "#ed7953"
                          ],
                          [
                            0.7777777777777778,
                            "#fb9f3a"
                          ],
                          [
                            0.8888888888888888,
                            "#fdca26"
                          ],
                          [
                            1,
                            "#f0f921"
                          ]
                        ],
                        "type": "histogram2dcontour"
                      }
                    ],
                    "mesh3d": [
                      {
                        "colorbar": {
                          "outlinewidth": 0,
                          "ticks": ""
                        },
                        "type": "mesh3d"
                      }
                    ],
                    "parcoords": [
                      {
                        "line": {
                          "colorbar": {
                            "outlinewidth": 0,
                            "ticks": ""
                          }
                        },
                        "type": "parcoords"
                      }
                    ],
                    "pie": [
                      {
                        "automargin": true,
                        "type": "pie"
                      }
                    ],
                    "scatter": [
                      {
                        "marker": {
                          "colorbar": {
                            "outlinewidth": 0,
                            "ticks": ""
                          }
                        },
                        "type": "scatter"
                      }
                    ],
                    "scatter3d": [
                      {
                        "line": {
                          "colorbar": {
                            "outlinewidth": 0,
                            "ticks": ""
                          }
                        },
                        "marker": {
                          "colorbar": {
                            "outlinewidth": 0,
                            "ticks": ""
                          }
                        },
                        "type": "scatter3d"
                      }
                    ],
                    "scattercarpet": [
                      {
                        "marker": {
                          "colorbar": {
                            "outlinewidth": 0,
                            "ticks": ""
                          }
                        },
                        "type": "scattercarpet"
                      }
                    ],
                    "scattergeo": [
                      {
                        "marker": {
                          "colorbar": {
                            "outlinewidth": 0,
                            "ticks": ""
                          }
                        },
                        "type": "scattergeo"
                      }
                    ],
                    "scattergl": [
                      {
                        "marker": {
                          "colorbar": {
                            "outlinewidth": 0,
                            "ticks": ""
                          }
                        },
                        "type": "scattergl"
                      }
                    ],
                    "scattermapbox": [
                      {
                        "marker": {
                          "colorbar": {
                            "outlinewidth": 0,
                            "ticks": ""
                          }
                        },
                        "type": "scattermapbox"
                      }
                    ],
                    "scatterpolar": [
                      {
                        "marker": {
                          "colorbar": {
                            "outlinewidth": 0,
                            "ticks": ""
                          }
                        },
                        "type": "scatterpolar"
                      }
                    ],
                    "scatterpolargl": [
                      {
                        "marker": {
                          "colorbar": {
                            "outlinewidth": 0,
                            "ticks": ""
                          }
                        },
                        "type": "scatterpolargl"
                      }
                    ],
                    "scatterternary": [
                      {
                        "marker": {
                          "colorbar": {
                            "outlinewidth": 0,
                            "ticks": ""
                          }
                        },
                        "type": "scatterternary"
                      }
                    ],
                    "surface": [
                      {
                        "colorbar": {
                          "outlinewidth": 0,
                          "ticks": ""
                        },
                        "colorscale": [
                          [
                            0,
                            "#0d0887"
                          ],
                          [
                            0.1111111111111111,
                            "#46039f"
                          ],
                          [
                            0.2222222222222222,
                            "#7201a8"
                          ],
                          [
                            0.3333333333333333,
                            "#9c179e"
                          ],
                          [
                            0.4444444444444444,
                            "#bd3786"
                          ],
                          [
                            0.5555555555555556,
                            "#d8576b"
                          ],
                          [
                            0.6666666666666666,
                            "#ed7953"
                          ],
                          [
                            0.7777777777777778,
                            "#fb9f3a"
                          ],
                          [
                            0.8888888888888888,
                            "#fdca26"
                          ],
                          [
                            1,
                            "#f0f921"
                          ]
                        ],
                        "type": "surface"
                      }
                    ],
                    "table": [
                      {
                        "cells": {
                          "fill": {
                            "color": "#EBF0F8"
                          },
                          "line": {
                            "color": "white"
                          }
                        },
                        "header": {
                          "fill": {
                            "color": "#C8D4E3"
                          },
                          "line": {
                            "color": "white"
                          }
                        },
                        "type": "table"
                      }
                    ]
                  },
                  "layout": {
                    "annotationdefaults": {
                      "arrowcolor": "#2a3f5f",
                      "arrowhead": 0,
                      "arrowwidth": 1
                    },
                    "autotypenumbers": "strict",
                    "coloraxis": {
                      "colorbar": {
                        "outlinewidth": 0,
                        "ticks": ""
                      }
                    },
                    "colorscale": {
                      "diverging": [
                        [
                          0,
                          "#8e0152"
                        ],
                        [
                          0.1,
                          "#c51b7d"
                        ],
                        [
                          0.2,
                          "#de77ae"
                        ],
                        [
                          0.3,
                          "#f1b6da"
                        ],
                        [
                          0.4,
                          "#fde0ef"
                        ],
                        [
                          0.5,
                          "#f7f7f7"
                        ],
                        [
                          0.6,
                          "#e6f5d0"
                        ],
                        [
                          0.7,
                          "#b8e186"
                        ],
                        [
                          0.8,
                          "#7fbc41"
                        ],
                        [
                          0.9,
                          "#4d9221"
                        ],
                        [
                          1,
                          "#276419"
                        ]
                      ],
                      "sequential": [
                        [
                          0,
                          "#0d0887"
                        ],
                        [
                          0.1111111111111111,
                          "#46039f"
                        ],
                        [
                          0.2222222222222222,
                          "#7201a8"
                        ],
                        [
                          0.3333333333333333,
                          "#9c179e"
                        ],
                        [
                          0.4444444444444444,
                          "#bd3786"
                        ],
                        [
                          0.5555555555555556,
                          "#d8576b"
                        ],
                        [
                          0.6666666666666666,
                          "#ed7953"
                        ],
                        [
                          0.7777777777777778,
                          "#fb9f3a"
                        ],
                        [
                          0.8888888888888888,
                          "#fdca26"
                        ],
                        [
                          1,
                          "#f0f921"
                        ]
                      ],
                      "sequentialminus": [
                        [
                          0,
                          "#0d0887"
                        ],
                        [
                          0.1111111111111111,
                          "#46039f"
                        ],
                        [
                          0.2222222222222222,
                          "#7201a8"
                        ],
                        [
                          0.3333333333333333,
                          "#9c179e"
                        ],
                        [
                          0.4444444444444444,
                          "#bd3786"
                        ],
                        [
                          0.5555555555555556,
                          "#d8576b"
                        ],
                        [
                          0.6666666666666666,
                          "#ed7953"
                        ],
                        [
                          0.7777777777777778,
                          "#fb9f3a"
                        ],
                        [
                          0.8888888888888888,
                          "#fdca26"
                        ],
                        [
                          1,
                          "#f0f921"
                        ]
                      ]
                    },
                    "colorway": [
                      "#636efa",
                      "#EF553B",
                      "#00cc96",
                      "#ab63fa",
                      "#FFA15A",
                      "#19d3f3",
                      "#FF6692",
                      "#B6E880",
                      "#FF97FF",
                      "#FECB52"
                    ],
                    "font": {
                      "color": "#2a3f5f"
                    },
                    "geo": {
                      "bgcolor": "white",
                      "lakecolor": "white",
                      "landcolor": "#E5ECF6",
                      "showlakes": true,
                      "showland": true,
                      "subunitcolor": "white"
                    },
                    "hoverlabel": {
                      "align": "left"
                    },
                    "hovermode": "closest",
                    "mapbox": {
                      "style": "light"
                    },
                    "paper_bgcolor": "white",
                    "plot_bgcolor": "#E5ECF6",
                    "polar": {
                      "angularaxis": {
                        "gridcolor": "white",
                        "linecolor": "white",
                        "ticks": ""
                      },
                      "bgcolor": "#E5ECF6",
                      "radialaxis": {
                        "gridcolor": "white",
                        "linecolor": "white",
                        "ticks": ""
                      }
                    },
                    "scene": {
                      "xaxis": {
                        "backgroundcolor": "#E5ECF6",
                        "gridcolor": "white",
                        "gridwidth": 2,
                        "linecolor": "white",
                        "showbackground": true,
                        "ticks": "",
                        "zerolinecolor": "white"
                      },
                      "yaxis": {
                        "backgroundcolor": "#E5ECF6",
                        "gridcolor": "white",
                        "gridwidth": 2,
                        "linecolor": "white",
                        "showbackground": true,
                        "ticks": "",
                        "zerolinecolor": "white"
                      },
                      "zaxis": {
                        "backgroundcolor": "#E5ECF6",
                        "gridcolor": "white",
                        "gridwidth": 2,
                        "linecolor": "white",
                        "showbackground": true,
                        "ticks": "",
                        "zerolinecolor": "white"
                      }
                    },
                    "shapedefaults": {
                      "line": {
                        "color": "#2a3f5f"
                      }
                    },
                    "ternary": {
                      "aaxis": {
                        "gridcolor": "white",
                        "linecolor": "white",
                        "ticks": ""
                      },
                      "baxis": {
                        "gridcolor": "white",
                        "linecolor": "white",
                        "ticks": ""
                      },
                      "bgcolor": "#E5ECF6",
                      "caxis": {
                        "gridcolor": "white",
                        "linecolor": "white",
                        "ticks": ""
                      }
                    },
                    "title": {
                      "x": 0.05
                    },
                    "xaxis": {
                      "automargin": true,
                      "gridcolor": "white",
                      "linecolor": "white",
                      "ticks": "",
                      "title": {
                        "standoff": 15
                      },
                      "zerolinecolor": "white",
                      "zerolinewidth": 2
                    },
                    "yaxis": {
                      "automargin": true,
                      "gridcolor": "white",
                      "linecolor": "white",
                      "ticks": "",
                      "title": {
                        "standoff": 15
                      },
                      "zerolinecolor": "white",
                      "zerolinewidth": 2
                    }
                  }
                },
                "title": {
                  "text": "Total money lost due to broken machines in each state"
                },
                "xaxis": {
                  "anchor": "y",
                  "domain": [
                    0,
                    1
                  ],
                  "title": {
                    "text": "index"
                  }
                },
                "yaxis": {
                  "anchor": "x",
                  "domain": [
                    0,
                    1
                  ],
                  "title": {
                    "text": "money_lost_due_to_broken_machines"
                  }
                }
              }
            }
          },
          "metadata": {},
          "output_type": "display_data"
        }
      ],
      "source": [
        "# Create a bar chart showing the total money lost due to broken machines in each state\n",
        "fig = px.bar(df, x=df.index, y=\"money_lost_due_to_broken_machines\", title=\"Total money lost due to broken machines in each state\")\n",
        "fig.show()\n",
        "\n",
        "# Save the bar chart as a png file\n",
        "fig.write_image(\"mcbroken-bar-chart-money-lost-due-to-broken-machines.png\")\n",
        "\n",
        "# Save as dash dcc graph\n",
        "dcc_graph_bar_chart_money_lost_due_to_broken_machines = dcc.Graph(figure=fig)\n"
      ]
    },
    {
      "cell_type": "code",
      "execution_count": 24,
      "metadata": {},
      "outputs": [
        {
          "data": {
            "application/vnd.plotly.v1+json": {
              "config": {
                "plotlyServerURL": "https://plot.ly"
              },
              "data": [
                {
                  "alignmentgroup": "True",
                  "hovertemplate": "index=%{x}<br>money_lost_due_to_broken_machines_percentage=%{y}<extra></extra>",
                  "legendgroup": "",
                  "marker": {
                    "color": "#636efa",
                    "pattern": {
                      "shape": ""
                    }
                  },
                  "name": "",
                  "offsetgroup": "",
                  "orientation": "v",
                  "showlegend": false,
                  "textposition": "auto",
                  "type": "bar",
                  "x": [
                    "New York",
                    "New Jersey",
                    "Connecticut",
                    "Pennsylvania",
                    "Delaware",
                    "Massachusetts",
                    "Maryland",
                    "Rhode Island",
                    "Vermont",
                    "New Hampshire",
                    "District of Columbia",
                    "Virginia",
                    "West Virginia",
                    "Maine",
                    "North Carolina",
                    "Ohio",
                    "Michigan",
                    "Kentucky",
                    "Tennessee",
                    "South Carolina",
                    "Indiana",
                    "Georgia",
                    "Illinois",
                    "Wisconsin",
                    "Alabama",
                    "Florida",
                    "Iowa",
                    "Missouri",
                    "Mississippi",
                    "Arkansas",
                    "Minnesota",
                    "Kansas",
                    "Louisiana",
                    "Nebraska",
                    "Oklahoma",
                    "South Dakota",
                    "North Dakota",
                    "Texas",
                    "Colorado",
                    "Wyoming",
                    "Montana",
                    "New Mexico",
                    "Utah",
                    "Arizona",
                    "Idaho",
                    "Nevada",
                    "Washington",
                    "Oregon",
                    "California",
                    "Alaska",
                    "Hawaii"
                  ],
                  "xaxis": "x",
                  "y": [
                    9.44741532976827,
                    8.71369294605809,
                    3.8461538461538463,
                    8.114035087719298,
                    2.857142857142857,
                    10.360360360360358,
                    10.15625,
                    0,
                    4.166666666666666,
                    2,
                    4,
                    11.345646437994723,
                    4.040404040404041,
                    3.508771929824561,
                    8.656036446469248,
                    10.787671232876713,
                    9,
                    8.641975308641976,
                    9.477124183006536,
                    15.348837209302324,
                    11.515151515151514,
                    15.165876777251183,
                    8.48,
                    6.405693950177936,
                    6.956521739130435,
                    8.435207823960882,
                    7.352941176470589,
                    9.863945578231293,
                    17.91044776119403,
                    11.320754716981133,
                    5.769230769230769,
                    6.569343065693431,
                    11.059907834101383,
                    12.162162162162161,
                    12.637362637362637,
                    7.4074074074074066,
                    8.695652173913043,
                    11.27962085308057,
                    8.152173913043478,
                    4,
                    15.909090909090908,
                    5.747126436781609,
                    12.871287128712869,
                    13.043478260869565,
                    8.92857142857143,
                    8.547008547008545,
                    12.288135593220337,
                    17.006802721088434,
                    10.362694300518134,
                    16.666666666666668,
                    12.676056338028172
                  ],
                  "yaxis": "y"
                }
              ],
              "layout": {
                "barmode": "relative",
                "legend": {
                  "tracegroupgap": 0
                },
                "template": {
                  "data": {
                    "bar": [
                      {
                        "error_x": {
                          "color": "#2a3f5f"
                        },
                        "error_y": {
                          "color": "#2a3f5f"
                        },
                        "marker": {
                          "line": {
                            "color": "#E5ECF6",
                            "width": 0.5
                          },
                          "pattern": {
                            "fillmode": "overlay",
                            "size": 10,
                            "solidity": 0.2
                          }
                        },
                        "type": "bar"
                      }
                    ],
                    "barpolar": [
                      {
                        "marker": {
                          "line": {
                            "color": "#E5ECF6",
                            "width": 0.5
                          },
                          "pattern": {
                            "fillmode": "overlay",
                            "size": 10,
                            "solidity": 0.2
                          }
                        },
                        "type": "barpolar"
                      }
                    ],
                    "carpet": [
                      {
                        "aaxis": {
                          "endlinecolor": "#2a3f5f",
                          "gridcolor": "white",
                          "linecolor": "white",
                          "minorgridcolor": "white",
                          "startlinecolor": "#2a3f5f"
                        },
                        "baxis": {
                          "endlinecolor": "#2a3f5f",
                          "gridcolor": "white",
                          "linecolor": "white",
                          "minorgridcolor": "white",
                          "startlinecolor": "#2a3f5f"
                        },
                        "type": "carpet"
                      }
                    ],
                    "choropleth": [
                      {
                        "colorbar": {
                          "outlinewidth": 0,
                          "ticks": ""
                        },
                        "type": "choropleth"
                      }
                    ],
                    "contour": [
                      {
                        "colorbar": {
                          "outlinewidth": 0,
                          "ticks": ""
                        },
                        "colorscale": [
                          [
                            0,
                            "#0d0887"
                          ],
                          [
                            0.1111111111111111,
                            "#46039f"
                          ],
                          [
                            0.2222222222222222,
                            "#7201a8"
                          ],
                          [
                            0.3333333333333333,
                            "#9c179e"
                          ],
                          [
                            0.4444444444444444,
                            "#bd3786"
                          ],
                          [
                            0.5555555555555556,
                            "#d8576b"
                          ],
                          [
                            0.6666666666666666,
                            "#ed7953"
                          ],
                          [
                            0.7777777777777778,
                            "#fb9f3a"
                          ],
                          [
                            0.8888888888888888,
                            "#fdca26"
                          ],
                          [
                            1,
                            "#f0f921"
                          ]
                        ],
                        "type": "contour"
                      }
                    ],
                    "contourcarpet": [
                      {
                        "colorbar": {
                          "outlinewidth": 0,
                          "ticks": ""
                        },
                        "type": "contourcarpet"
                      }
                    ],
                    "heatmap": [
                      {
                        "colorbar": {
                          "outlinewidth": 0,
                          "ticks": ""
                        },
                        "colorscale": [
                          [
                            0,
                            "#0d0887"
                          ],
                          [
                            0.1111111111111111,
                            "#46039f"
                          ],
                          [
                            0.2222222222222222,
                            "#7201a8"
                          ],
                          [
                            0.3333333333333333,
                            "#9c179e"
                          ],
                          [
                            0.4444444444444444,
                            "#bd3786"
                          ],
                          [
                            0.5555555555555556,
                            "#d8576b"
                          ],
                          [
                            0.6666666666666666,
                            "#ed7953"
                          ],
                          [
                            0.7777777777777778,
                            "#fb9f3a"
                          ],
                          [
                            0.8888888888888888,
                            "#fdca26"
                          ],
                          [
                            1,
                            "#f0f921"
                          ]
                        ],
                        "type": "heatmap"
                      }
                    ],
                    "heatmapgl": [
                      {
                        "colorbar": {
                          "outlinewidth": 0,
                          "ticks": ""
                        },
                        "colorscale": [
                          [
                            0,
                            "#0d0887"
                          ],
                          [
                            0.1111111111111111,
                            "#46039f"
                          ],
                          [
                            0.2222222222222222,
                            "#7201a8"
                          ],
                          [
                            0.3333333333333333,
                            "#9c179e"
                          ],
                          [
                            0.4444444444444444,
                            "#bd3786"
                          ],
                          [
                            0.5555555555555556,
                            "#d8576b"
                          ],
                          [
                            0.6666666666666666,
                            "#ed7953"
                          ],
                          [
                            0.7777777777777778,
                            "#fb9f3a"
                          ],
                          [
                            0.8888888888888888,
                            "#fdca26"
                          ],
                          [
                            1,
                            "#f0f921"
                          ]
                        ],
                        "type": "heatmapgl"
                      }
                    ],
                    "histogram": [
                      {
                        "marker": {
                          "pattern": {
                            "fillmode": "overlay",
                            "size": 10,
                            "solidity": 0.2
                          }
                        },
                        "type": "histogram"
                      }
                    ],
                    "histogram2d": [
                      {
                        "colorbar": {
                          "outlinewidth": 0,
                          "ticks": ""
                        },
                        "colorscale": [
                          [
                            0,
                            "#0d0887"
                          ],
                          [
                            0.1111111111111111,
                            "#46039f"
                          ],
                          [
                            0.2222222222222222,
                            "#7201a8"
                          ],
                          [
                            0.3333333333333333,
                            "#9c179e"
                          ],
                          [
                            0.4444444444444444,
                            "#bd3786"
                          ],
                          [
                            0.5555555555555556,
                            "#d8576b"
                          ],
                          [
                            0.6666666666666666,
                            "#ed7953"
                          ],
                          [
                            0.7777777777777778,
                            "#fb9f3a"
                          ],
                          [
                            0.8888888888888888,
                            "#fdca26"
                          ],
                          [
                            1,
                            "#f0f921"
                          ]
                        ],
                        "type": "histogram2d"
                      }
                    ],
                    "histogram2dcontour": [
                      {
                        "colorbar": {
                          "outlinewidth": 0,
                          "ticks": ""
                        },
                        "colorscale": [
                          [
                            0,
                            "#0d0887"
                          ],
                          [
                            0.1111111111111111,
                            "#46039f"
                          ],
                          [
                            0.2222222222222222,
                            "#7201a8"
                          ],
                          [
                            0.3333333333333333,
                            "#9c179e"
                          ],
                          [
                            0.4444444444444444,
                            "#bd3786"
                          ],
                          [
                            0.5555555555555556,
                            "#d8576b"
                          ],
                          [
                            0.6666666666666666,
                            "#ed7953"
                          ],
                          [
                            0.7777777777777778,
                            "#fb9f3a"
                          ],
                          [
                            0.8888888888888888,
                            "#fdca26"
                          ],
                          [
                            1,
                            "#f0f921"
                          ]
                        ],
                        "type": "histogram2dcontour"
                      }
                    ],
                    "mesh3d": [
                      {
                        "colorbar": {
                          "outlinewidth": 0,
                          "ticks": ""
                        },
                        "type": "mesh3d"
                      }
                    ],
                    "parcoords": [
                      {
                        "line": {
                          "colorbar": {
                            "outlinewidth": 0,
                            "ticks": ""
                          }
                        },
                        "type": "parcoords"
                      }
                    ],
                    "pie": [
                      {
                        "automargin": true,
                        "type": "pie"
                      }
                    ],
                    "scatter": [
                      {
                        "marker": {
                          "colorbar": {
                            "outlinewidth": 0,
                            "ticks": ""
                          }
                        },
                        "type": "scatter"
                      }
                    ],
                    "scatter3d": [
                      {
                        "line": {
                          "colorbar": {
                            "outlinewidth": 0,
                            "ticks": ""
                          }
                        },
                        "marker": {
                          "colorbar": {
                            "outlinewidth": 0,
                            "ticks": ""
                          }
                        },
                        "type": "scatter3d"
                      }
                    ],
                    "scattercarpet": [
                      {
                        "marker": {
                          "colorbar": {
                            "outlinewidth": 0,
                            "ticks": ""
                          }
                        },
                        "type": "scattercarpet"
                      }
                    ],
                    "scattergeo": [
                      {
                        "marker": {
                          "colorbar": {
                            "outlinewidth": 0,
                            "ticks": ""
                          }
                        },
                        "type": "scattergeo"
                      }
                    ],
                    "scattergl": [
                      {
                        "marker": {
                          "colorbar": {
                            "outlinewidth": 0,
                            "ticks": ""
                          }
                        },
                        "type": "scattergl"
                      }
                    ],
                    "scattermapbox": [
                      {
                        "marker": {
                          "colorbar": {
                            "outlinewidth": 0,
                            "ticks": ""
                          }
                        },
                        "type": "scattermapbox"
                      }
                    ],
                    "scatterpolar": [
                      {
                        "marker": {
                          "colorbar": {
                            "outlinewidth": 0,
                            "ticks": ""
                          }
                        },
                        "type": "scatterpolar"
                      }
                    ],
                    "scatterpolargl": [
                      {
                        "marker": {
                          "colorbar": {
                            "outlinewidth": 0,
                            "ticks": ""
                          }
                        },
                        "type": "scatterpolargl"
                      }
                    ],
                    "scatterternary": [
                      {
                        "marker": {
                          "colorbar": {
                            "outlinewidth": 0,
                            "ticks": ""
                          }
                        },
                        "type": "scatterternary"
                      }
                    ],
                    "surface": [
                      {
                        "colorbar": {
                          "outlinewidth": 0,
                          "ticks": ""
                        },
                        "colorscale": [
                          [
                            0,
                            "#0d0887"
                          ],
                          [
                            0.1111111111111111,
                            "#46039f"
                          ],
                          [
                            0.2222222222222222,
                            "#7201a8"
                          ],
                          [
                            0.3333333333333333,
                            "#9c179e"
                          ],
                          [
                            0.4444444444444444,
                            "#bd3786"
                          ],
                          [
                            0.5555555555555556,
                            "#d8576b"
                          ],
                          [
                            0.6666666666666666,
                            "#ed7953"
                          ],
                          [
                            0.7777777777777778,
                            "#fb9f3a"
                          ],
                          [
                            0.8888888888888888,
                            "#fdca26"
                          ],
                          [
                            1,
                            "#f0f921"
                          ]
                        ],
                        "type": "surface"
                      }
                    ],
                    "table": [
                      {
                        "cells": {
                          "fill": {
                            "color": "#EBF0F8"
                          },
                          "line": {
                            "color": "white"
                          }
                        },
                        "header": {
                          "fill": {
                            "color": "#C8D4E3"
                          },
                          "line": {
                            "color": "white"
                          }
                        },
                        "type": "table"
                      }
                    ]
                  },
                  "layout": {
                    "annotationdefaults": {
                      "arrowcolor": "#2a3f5f",
                      "arrowhead": 0,
                      "arrowwidth": 1
                    },
                    "autotypenumbers": "strict",
                    "coloraxis": {
                      "colorbar": {
                        "outlinewidth": 0,
                        "ticks": ""
                      }
                    },
                    "colorscale": {
                      "diverging": [
                        [
                          0,
                          "#8e0152"
                        ],
                        [
                          0.1,
                          "#c51b7d"
                        ],
                        [
                          0.2,
                          "#de77ae"
                        ],
                        [
                          0.3,
                          "#f1b6da"
                        ],
                        [
                          0.4,
                          "#fde0ef"
                        ],
                        [
                          0.5,
                          "#f7f7f7"
                        ],
                        [
                          0.6,
                          "#e6f5d0"
                        ],
                        [
                          0.7,
                          "#b8e186"
                        ],
                        [
                          0.8,
                          "#7fbc41"
                        ],
                        [
                          0.9,
                          "#4d9221"
                        ],
                        [
                          1,
                          "#276419"
                        ]
                      ],
                      "sequential": [
                        [
                          0,
                          "#0d0887"
                        ],
                        [
                          0.1111111111111111,
                          "#46039f"
                        ],
                        [
                          0.2222222222222222,
                          "#7201a8"
                        ],
                        [
                          0.3333333333333333,
                          "#9c179e"
                        ],
                        [
                          0.4444444444444444,
                          "#bd3786"
                        ],
                        [
                          0.5555555555555556,
                          "#d8576b"
                        ],
                        [
                          0.6666666666666666,
                          "#ed7953"
                        ],
                        [
                          0.7777777777777778,
                          "#fb9f3a"
                        ],
                        [
                          0.8888888888888888,
                          "#fdca26"
                        ],
                        [
                          1,
                          "#f0f921"
                        ]
                      ],
                      "sequentialminus": [
                        [
                          0,
                          "#0d0887"
                        ],
                        [
                          0.1111111111111111,
                          "#46039f"
                        ],
                        [
                          0.2222222222222222,
                          "#7201a8"
                        ],
                        [
                          0.3333333333333333,
                          "#9c179e"
                        ],
                        [
                          0.4444444444444444,
                          "#bd3786"
                        ],
                        [
                          0.5555555555555556,
                          "#d8576b"
                        ],
                        [
                          0.6666666666666666,
                          "#ed7953"
                        ],
                        [
                          0.7777777777777778,
                          "#fb9f3a"
                        ],
                        [
                          0.8888888888888888,
                          "#fdca26"
                        ],
                        [
                          1,
                          "#f0f921"
                        ]
                      ]
                    },
                    "colorway": [
                      "#636efa",
                      "#EF553B",
                      "#00cc96",
                      "#ab63fa",
                      "#FFA15A",
                      "#19d3f3",
                      "#FF6692",
                      "#B6E880",
                      "#FF97FF",
                      "#FECB52"
                    ],
                    "font": {
                      "color": "#2a3f5f"
                    },
                    "geo": {
                      "bgcolor": "white",
                      "lakecolor": "white",
                      "landcolor": "#E5ECF6",
                      "showlakes": true,
                      "showland": true,
                      "subunitcolor": "white"
                    },
                    "hoverlabel": {
                      "align": "left"
                    },
                    "hovermode": "closest",
                    "mapbox": {
                      "style": "light"
                    },
                    "paper_bgcolor": "white",
                    "plot_bgcolor": "#E5ECF6",
                    "polar": {
                      "angularaxis": {
                        "gridcolor": "white",
                        "linecolor": "white",
                        "ticks": ""
                      },
                      "bgcolor": "#E5ECF6",
                      "radialaxis": {
                        "gridcolor": "white",
                        "linecolor": "white",
                        "ticks": ""
                      }
                    },
                    "scene": {
                      "xaxis": {
                        "backgroundcolor": "#E5ECF6",
                        "gridcolor": "white",
                        "gridwidth": 2,
                        "linecolor": "white",
                        "showbackground": true,
                        "ticks": "",
                        "zerolinecolor": "white"
                      },
                      "yaxis": {
                        "backgroundcolor": "#E5ECF6",
                        "gridcolor": "white",
                        "gridwidth": 2,
                        "linecolor": "white",
                        "showbackground": true,
                        "ticks": "",
                        "zerolinecolor": "white"
                      },
                      "zaxis": {
                        "backgroundcolor": "#E5ECF6",
                        "gridcolor": "white",
                        "gridwidth": 2,
                        "linecolor": "white",
                        "showbackground": true,
                        "ticks": "",
                        "zerolinecolor": "white"
                      }
                    },
                    "shapedefaults": {
                      "line": {
                        "color": "#2a3f5f"
                      }
                    },
                    "ternary": {
                      "aaxis": {
                        "gridcolor": "white",
                        "linecolor": "white",
                        "ticks": ""
                      },
                      "baxis": {
                        "gridcolor": "white",
                        "linecolor": "white",
                        "ticks": ""
                      },
                      "bgcolor": "#E5ECF6",
                      "caxis": {
                        "gridcolor": "white",
                        "linecolor": "white",
                        "ticks": ""
                      }
                    },
                    "title": {
                      "x": 0.05
                    },
                    "xaxis": {
                      "automargin": true,
                      "gridcolor": "white",
                      "linecolor": "white",
                      "ticks": "",
                      "title": {
                        "standoff": 15
                      },
                      "zerolinecolor": "white",
                      "zerolinewidth": 2
                    },
                    "yaxis": {
                      "automargin": true,
                      "gridcolor": "white",
                      "linecolor": "white",
                      "ticks": "",
                      "title": {
                        "standoff": 15
                      },
                      "zerolinecolor": "white",
                      "zerolinewidth": 2
                    }
                  }
                },
                "title": {
                  "text": "Total money lost due to broken machines in each state in percentage"
                },
                "xaxis": {
                  "anchor": "y",
                  "domain": [
                    0,
                    1
                  ],
                  "title": {
                    "text": "index"
                  }
                },
                "yaxis": {
                  "anchor": "x",
                  "domain": [
                    0,
                    1
                  ],
                  "title": {
                    "text": "money_lost_due_to_broken_machines_percentage"
                  }
                }
              }
            }
          },
          "metadata": {},
          "output_type": "display_data"
        }
      ],
      "source": [
        "# Create a bar chart showing the total money lost due to broken machines in each state in percentage\n",
        "fig = px.bar(df, x=df.index, y=\"money_lost_due_to_broken_machines_percentage\", title=\"Total money lost due to broken machines in each state in percentage\")\n",
        "fig.show()\n",
        "\n",
        "# Save the bar chart as a png file\n",
        "fig.write_image(\"mcbroken-bar-chart-money-lost-due-to-broken-machines-percentage.png\")\n",
        "\n",
        "# Save as dash dcc graph\n",
        "dcc_graph_bar_chart_money_lost_due_to_broken_machines_percentage = dcc.Graph(figure=fig)"
      ]
    },
    {
      "cell_type": "code",
      "execution_count": 25,
      "metadata": {},
      "outputs": [
        {
          "data": {
            "application/vnd.plotly.v1+json": {
              "config": {
                "plotlyServerURL": "https://plot.ly"
              },
              "data": [
                {
                  "alignmentgroup": "True",
                  "hovertemplate": "Type of money=total_revenue_possible<br>index=%{x}<br>Money in dollars=%{y}<extra></extra>",
                  "legendgroup": "total_revenue_possible",
                  "marker": {
                    "color": "#636efa",
                    "pattern": {
                      "shape": ""
                    }
                  },
                  "name": "total_revenue_possible",
                  "offsetgroup": "total_revenue_possible",
                  "orientation": "v",
                  "showlegend": true,
                  "textposition": "auto",
                  "type": "bar",
                  "x": [
                    "New York",
                    "New Jersey",
                    "Connecticut",
                    "Pennsylvania",
                    "Delaware",
                    "Massachusetts",
                    "Maryland",
                    "Rhode Island",
                    "Vermont",
                    "New Hampshire",
                    "District of Columbia",
                    "Virginia",
                    "West Virginia",
                    "Maine",
                    "North Carolina",
                    "Ohio",
                    "Michigan",
                    "Kentucky",
                    "Tennessee",
                    "South Carolina",
                    "Indiana",
                    "Georgia",
                    "Illinois",
                    "Wisconsin",
                    "Alabama",
                    "Florida",
                    "Iowa",
                    "Missouri",
                    "Mississippi",
                    "Arkansas",
                    "Minnesota",
                    "Kansas",
                    "Louisiana",
                    "Nebraska",
                    "Oklahoma",
                    "South Dakota",
                    "North Dakota",
                    "Texas",
                    "Colorado",
                    "Wyoming",
                    "Montana",
                    "New Mexico",
                    "Utah",
                    "Arizona",
                    "Idaho",
                    "Nevada",
                    "Washington",
                    "Oregon",
                    "California",
                    "Alaska",
                    "Hawaii"
                  ],
                  "xaxis": "x",
                  "y": [
                    241502.24077499998,
                    112827.30775000002,
                    43898.143475000004,
                    157837.3818,
                    12216.2002,
                    85039.002525,
                    75060.445575,
                    13339.05175,
                    7859.8147500000005,
                    16910.977600000002,
                    8157.858749999999,
                    105219.68595000001,
                    21707.525824999997,
                    16707.107225000003,
                    128460.39735,
                    143421.70697499998,
                    122368.623925,
                    54901.87195,
                    84923.27915000002,
                    63196.833375,
                    82862.867375,
                    131484.71605000002,
                    154275.135075,
                    71782.6799,
                    61360.50247500001,
                    265185.2334,
                    38875.736825,
                    75097.676725,
                    35915.82387500001,
                    36840.222925,
                    69487.47325000001,
                    35728.53585,
                    56297.772225,
                    23907.950100000002,
                    48537.329825,
                    10901.202800000001,
                    9434.9919,
                    359502.681675,
                    70761.940075,
                    7046.926525000001,
                    13444.499425000002,
                    25760.802475000004,
                    40450.086075,
                    88589.14730000001,
                    23143.737524999997,
                    38278.090425,
                    94218.5751,
                    51696.93712500001,
                    477720.6533,
                    8920.293775,
                    17550.907775
                  ],
                  "yaxis": "y"
                },
                {
                  "alignmentgroup": "True",
                  "hovertemplate": "Type of money=money_lost_due_to_broken_machines<br>index=%{x}<br>Money in dollars=%{y}<extra></extra>",
                  "legendgroup": "money_lost_due_to_broken_machines",
                  "marker": {
                    "color": "#EF553B",
                    "pattern": {
                      "shape": ""
                    }
                  },
                  "name": "money_lost_due_to_broken_machines",
                  "offsetgroup": "money_lost_due_to_broken_machines",
                  "orientation": "v",
                  "showlegend": true,
                  "textposition": "auto",
                  "type": "bar",
                  "x": [
                    "New York",
                    "New Jersey",
                    "Connecticut",
                    "Pennsylvania",
                    "Delaware",
                    "Massachusetts",
                    "Maryland",
                    "Rhode Island",
                    "Vermont",
                    "New Hampshire",
                    "District of Columbia",
                    "Virginia",
                    "West Virginia",
                    "Maine",
                    "North Carolina",
                    "Ohio",
                    "Michigan",
                    "Kentucky",
                    "Tennessee",
                    "South Carolina",
                    "Indiana",
                    "Georgia",
                    "Illinois",
                    "Wisconsin",
                    "Alabama",
                    "Florida",
                    "Iowa",
                    "Missouri",
                    "Mississippi",
                    "Arkansas",
                    "Minnesota",
                    "Kansas",
                    "Louisiana",
                    "Nebraska",
                    "Oklahoma",
                    "South Dakota",
                    "North Dakota",
                    "Texas",
                    "Colorado",
                    "Wyoming",
                    "Montana",
                    "New Mexico",
                    "Utah",
                    "Arizona",
                    "Idaho",
                    "Nevada",
                    "Washington",
                    "Oregon",
                    "California",
                    "Alaska",
                    "Hawaii"
                  ],
                  "xaxis": "x",
                  "y": [
                    22815.719716711228,
                    9831.425156639005,
                    1688.3901336538463,
                    12806.980540789475,
                    349.0342914285714,
                    8810.347108445945,
                    7623.326503710938,
                    0,
                    327.49228125,
                    338.219552,
                    326.31435,
                    11937.85355105541,
                    877.0717505050504,
                    586.2142885964913,
                    11119.578813895216,
                    15471.862225042807,
                    11013.17615325,
                    4744.606217901235,
                    8048.284625326799,
                    9699.97907616279,
                    9541.784728030303,
                    19940.810017061613,
                    13082.53145436,
                    4598.178783629894,
                    4268.556693913044,
                    22368.925555745725,
                    2858.510060661765,
                    7407.593962670068,
                    6432.68487313433,
                    4170.591274528302,
                    4008.8926875000006,
                    2347.1300923357667,
                    6226.481720737327,
                    2907.723660810811,
                    6133.838384478022,
                    807.4965037037038,
                    820.4340782608697,
                    40550.539449597156,
                    5768.636419157609,
                    281.877061,
                    2138.897635795455,
                    1480.5058893678163,
                    5206.446722524752,
                    11555.106169565219,
                    2066.4051361607144,
                    3271.63166025641,
                    11577.706262288135,
                    8791.996109693879,
                    49504.7309119171,
                    1486.7156291666668,
                    2224.7629573943664
                  ],
                  "yaxis": "y"
                }
              ],
              "layout": {
                "barmode": "group",
                "legend": {
                  "title": {
                    "text": "Type of money"
                  },
                  "tracegroupgap": 0
                },
                "template": {
                  "data": {
                    "bar": [
                      {
                        "error_x": {
                          "color": "#2a3f5f"
                        },
                        "error_y": {
                          "color": "#2a3f5f"
                        },
                        "marker": {
                          "line": {
                            "color": "#E5ECF6",
                            "width": 0.5
                          },
                          "pattern": {
                            "fillmode": "overlay",
                            "size": 10,
                            "solidity": 0.2
                          }
                        },
                        "type": "bar"
                      }
                    ],
                    "barpolar": [
                      {
                        "marker": {
                          "line": {
                            "color": "#E5ECF6",
                            "width": 0.5
                          },
                          "pattern": {
                            "fillmode": "overlay",
                            "size": 10,
                            "solidity": 0.2
                          }
                        },
                        "type": "barpolar"
                      }
                    ],
                    "carpet": [
                      {
                        "aaxis": {
                          "endlinecolor": "#2a3f5f",
                          "gridcolor": "white",
                          "linecolor": "white",
                          "minorgridcolor": "white",
                          "startlinecolor": "#2a3f5f"
                        },
                        "baxis": {
                          "endlinecolor": "#2a3f5f",
                          "gridcolor": "white",
                          "linecolor": "white",
                          "minorgridcolor": "white",
                          "startlinecolor": "#2a3f5f"
                        },
                        "type": "carpet"
                      }
                    ],
                    "choropleth": [
                      {
                        "colorbar": {
                          "outlinewidth": 0,
                          "ticks": ""
                        },
                        "type": "choropleth"
                      }
                    ],
                    "contour": [
                      {
                        "colorbar": {
                          "outlinewidth": 0,
                          "ticks": ""
                        },
                        "colorscale": [
                          [
                            0,
                            "#0d0887"
                          ],
                          [
                            0.1111111111111111,
                            "#46039f"
                          ],
                          [
                            0.2222222222222222,
                            "#7201a8"
                          ],
                          [
                            0.3333333333333333,
                            "#9c179e"
                          ],
                          [
                            0.4444444444444444,
                            "#bd3786"
                          ],
                          [
                            0.5555555555555556,
                            "#d8576b"
                          ],
                          [
                            0.6666666666666666,
                            "#ed7953"
                          ],
                          [
                            0.7777777777777778,
                            "#fb9f3a"
                          ],
                          [
                            0.8888888888888888,
                            "#fdca26"
                          ],
                          [
                            1,
                            "#f0f921"
                          ]
                        ],
                        "type": "contour"
                      }
                    ],
                    "contourcarpet": [
                      {
                        "colorbar": {
                          "outlinewidth": 0,
                          "ticks": ""
                        },
                        "type": "contourcarpet"
                      }
                    ],
                    "heatmap": [
                      {
                        "colorbar": {
                          "outlinewidth": 0,
                          "ticks": ""
                        },
                        "colorscale": [
                          [
                            0,
                            "#0d0887"
                          ],
                          [
                            0.1111111111111111,
                            "#46039f"
                          ],
                          [
                            0.2222222222222222,
                            "#7201a8"
                          ],
                          [
                            0.3333333333333333,
                            "#9c179e"
                          ],
                          [
                            0.4444444444444444,
                            "#bd3786"
                          ],
                          [
                            0.5555555555555556,
                            "#d8576b"
                          ],
                          [
                            0.6666666666666666,
                            "#ed7953"
                          ],
                          [
                            0.7777777777777778,
                            "#fb9f3a"
                          ],
                          [
                            0.8888888888888888,
                            "#fdca26"
                          ],
                          [
                            1,
                            "#f0f921"
                          ]
                        ],
                        "type": "heatmap"
                      }
                    ],
                    "heatmapgl": [
                      {
                        "colorbar": {
                          "outlinewidth": 0,
                          "ticks": ""
                        },
                        "colorscale": [
                          [
                            0,
                            "#0d0887"
                          ],
                          [
                            0.1111111111111111,
                            "#46039f"
                          ],
                          [
                            0.2222222222222222,
                            "#7201a8"
                          ],
                          [
                            0.3333333333333333,
                            "#9c179e"
                          ],
                          [
                            0.4444444444444444,
                            "#bd3786"
                          ],
                          [
                            0.5555555555555556,
                            "#d8576b"
                          ],
                          [
                            0.6666666666666666,
                            "#ed7953"
                          ],
                          [
                            0.7777777777777778,
                            "#fb9f3a"
                          ],
                          [
                            0.8888888888888888,
                            "#fdca26"
                          ],
                          [
                            1,
                            "#f0f921"
                          ]
                        ],
                        "type": "heatmapgl"
                      }
                    ],
                    "histogram": [
                      {
                        "marker": {
                          "pattern": {
                            "fillmode": "overlay",
                            "size": 10,
                            "solidity": 0.2
                          }
                        },
                        "type": "histogram"
                      }
                    ],
                    "histogram2d": [
                      {
                        "colorbar": {
                          "outlinewidth": 0,
                          "ticks": ""
                        },
                        "colorscale": [
                          [
                            0,
                            "#0d0887"
                          ],
                          [
                            0.1111111111111111,
                            "#46039f"
                          ],
                          [
                            0.2222222222222222,
                            "#7201a8"
                          ],
                          [
                            0.3333333333333333,
                            "#9c179e"
                          ],
                          [
                            0.4444444444444444,
                            "#bd3786"
                          ],
                          [
                            0.5555555555555556,
                            "#d8576b"
                          ],
                          [
                            0.6666666666666666,
                            "#ed7953"
                          ],
                          [
                            0.7777777777777778,
                            "#fb9f3a"
                          ],
                          [
                            0.8888888888888888,
                            "#fdca26"
                          ],
                          [
                            1,
                            "#f0f921"
                          ]
                        ],
                        "type": "histogram2d"
                      }
                    ],
                    "histogram2dcontour": [
                      {
                        "colorbar": {
                          "outlinewidth": 0,
                          "ticks": ""
                        },
                        "colorscale": [
                          [
                            0,
                            "#0d0887"
                          ],
                          [
                            0.1111111111111111,
                            "#46039f"
                          ],
                          [
                            0.2222222222222222,
                            "#7201a8"
                          ],
                          [
                            0.3333333333333333,
                            "#9c179e"
                          ],
                          [
                            0.4444444444444444,
                            "#bd3786"
                          ],
                          [
                            0.5555555555555556,
                            "#d8576b"
                          ],
                          [
                            0.6666666666666666,
                            "#ed7953"
                          ],
                          [
                            0.7777777777777778,
                            "#fb9f3a"
                          ],
                          [
                            0.8888888888888888,
                            "#fdca26"
                          ],
                          [
                            1,
                            "#f0f921"
                          ]
                        ],
                        "type": "histogram2dcontour"
                      }
                    ],
                    "mesh3d": [
                      {
                        "colorbar": {
                          "outlinewidth": 0,
                          "ticks": ""
                        },
                        "type": "mesh3d"
                      }
                    ],
                    "parcoords": [
                      {
                        "line": {
                          "colorbar": {
                            "outlinewidth": 0,
                            "ticks": ""
                          }
                        },
                        "type": "parcoords"
                      }
                    ],
                    "pie": [
                      {
                        "automargin": true,
                        "type": "pie"
                      }
                    ],
                    "scatter": [
                      {
                        "marker": {
                          "colorbar": {
                            "outlinewidth": 0,
                            "ticks": ""
                          }
                        },
                        "type": "scatter"
                      }
                    ],
                    "scatter3d": [
                      {
                        "line": {
                          "colorbar": {
                            "outlinewidth": 0,
                            "ticks": ""
                          }
                        },
                        "marker": {
                          "colorbar": {
                            "outlinewidth": 0,
                            "ticks": ""
                          }
                        },
                        "type": "scatter3d"
                      }
                    ],
                    "scattercarpet": [
                      {
                        "marker": {
                          "colorbar": {
                            "outlinewidth": 0,
                            "ticks": ""
                          }
                        },
                        "type": "scattercarpet"
                      }
                    ],
                    "scattergeo": [
                      {
                        "marker": {
                          "colorbar": {
                            "outlinewidth": 0,
                            "ticks": ""
                          }
                        },
                        "type": "scattergeo"
                      }
                    ],
                    "scattergl": [
                      {
                        "marker": {
                          "colorbar": {
                            "outlinewidth": 0,
                            "ticks": ""
                          }
                        },
                        "type": "scattergl"
                      }
                    ],
                    "scattermapbox": [
                      {
                        "marker": {
                          "colorbar": {
                            "outlinewidth": 0,
                            "ticks": ""
                          }
                        },
                        "type": "scattermapbox"
                      }
                    ],
                    "scatterpolar": [
                      {
                        "marker": {
                          "colorbar": {
                            "outlinewidth": 0,
                            "ticks": ""
                          }
                        },
                        "type": "scatterpolar"
                      }
                    ],
                    "scatterpolargl": [
                      {
                        "marker": {
                          "colorbar": {
                            "outlinewidth": 0,
                            "ticks": ""
                          }
                        },
                        "type": "scatterpolargl"
                      }
                    ],
                    "scatterternary": [
                      {
                        "marker": {
                          "colorbar": {
                            "outlinewidth": 0,
                            "ticks": ""
                          }
                        },
                        "type": "scatterternary"
                      }
                    ],
                    "surface": [
                      {
                        "colorbar": {
                          "outlinewidth": 0,
                          "ticks": ""
                        },
                        "colorscale": [
                          [
                            0,
                            "#0d0887"
                          ],
                          [
                            0.1111111111111111,
                            "#46039f"
                          ],
                          [
                            0.2222222222222222,
                            "#7201a8"
                          ],
                          [
                            0.3333333333333333,
                            "#9c179e"
                          ],
                          [
                            0.4444444444444444,
                            "#bd3786"
                          ],
                          [
                            0.5555555555555556,
                            "#d8576b"
                          ],
                          [
                            0.6666666666666666,
                            "#ed7953"
                          ],
                          [
                            0.7777777777777778,
                            "#fb9f3a"
                          ],
                          [
                            0.8888888888888888,
                            "#fdca26"
                          ],
                          [
                            1,
                            "#f0f921"
                          ]
                        ],
                        "type": "surface"
                      }
                    ],
                    "table": [
                      {
                        "cells": {
                          "fill": {
                            "color": "#EBF0F8"
                          },
                          "line": {
                            "color": "white"
                          }
                        },
                        "header": {
                          "fill": {
                            "color": "#C8D4E3"
                          },
                          "line": {
                            "color": "white"
                          }
                        },
                        "type": "table"
                      }
                    ]
                  },
                  "layout": {
                    "annotationdefaults": {
                      "arrowcolor": "#2a3f5f",
                      "arrowhead": 0,
                      "arrowwidth": 1
                    },
                    "autotypenumbers": "strict",
                    "coloraxis": {
                      "colorbar": {
                        "outlinewidth": 0,
                        "ticks": ""
                      }
                    },
                    "colorscale": {
                      "diverging": [
                        [
                          0,
                          "#8e0152"
                        ],
                        [
                          0.1,
                          "#c51b7d"
                        ],
                        [
                          0.2,
                          "#de77ae"
                        ],
                        [
                          0.3,
                          "#f1b6da"
                        ],
                        [
                          0.4,
                          "#fde0ef"
                        ],
                        [
                          0.5,
                          "#f7f7f7"
                        ],
                        [
                          0.6,
                          "#e6f5d0"
                        ],
                        [
                          0.7,
                          "#b8e186"
                        ],
                        [
                          0.8,
                          "#7fbc41"
                        ],
                        [
                          0.9,
                          "#4d9221"
                        ],
                        [
                          1,
                          "#276419"
                        ]
                      ],
                      "sequential": [
                        [
                          0,
                          "#0d0887"
                        ],
                        [
                          0.1111111111111111,
                          "#46039f"
                        ],
                        [
                          0.2222222222222222,
                          "#7201a8"
                        ],
                        [
                          0.3333333333333333,
                          "#9c179e"
                        ],
                        [
                          0.4444444444444444,
                          "#bd3786"
                        ],
                        [
                          0.5555555555555556,
                          "#d8576b"
                        ],
                        [
                          0.6666666666666666,
                          "#ed7953"
                        ],
                        [
                          0.7777777777777778,
                          "#fb9f3a"
                        ],
                        [
                          0.8888888888888888,
                          "#fdca26"
                        ],
                        [
                          1,
                          "#f0f921"
                        ]
                      ],
                      "sequentialminus": [
                        [
                          0,
                          "#0d0887"
                        ],
                        [
                          0.1111111111111111,
                          "#46039f"
                        ],
                        [
                          0.2222222222222222,
                          "#7201a8"
                        ],
                        [
                          0.3333333333333333,
                          "#9c179e"
                        ],
                        [
                          0.4444444444444444,
                          "#bd3786"
                        ],
                        [
                          0.5555555555555556,
                          "#d8576b"
                        ],
                        [
                          0.6666666666666666,
                          "#ed7953"
                        ],
                        [
                          0.7777777777777778,
                          "#fb9f3a"
                        ],
                        [
                          0.8888888888888888,
                          "#fdca26"
                        ],
                        [
                          1,
                          "#f0f921"
                        ]
                      ]
                    },
                    "colorway": [
                      "#636efa",
                      "#EF553B",
                      "#00cc96",
                      "#ab63fa",
                      "#FFA15A",
                      "#19d3f3",
                      "#FF6692",
                      "#B6E880",
                      "#FF97FF",
                      "#FECB52"
                    ],
                    "font": {
                      "color": "#2a3f5f"
                    },
                    "geo": {
                      "bgcolor": "white",
                      "lakecolor": "white",
                      "landcolor": "#E5ECF6",
                      "showlakes": true,
                      "showland": true,
                      "subunitcolor": "white"
                    },
                    "hoverlabel": {
                      "align": "left"
                    },
                    "hovermode": "closest",
                    "mapbox": {
                      "style": "light"
                    },
                    "paper_bgcolor": "white",
                    "plot_bgcolor": "#E5ECF6",
                    "polar": {
                      "angularaxis": {
                        "gridcolor": "white",
                        "linecolor": "white",
                        "ticks": ""
                      },
                      "bgcolor": "#E5ECF6",
                      "radialaxis": {
                        "gridcolor": "white",
                        "linecolor": "white",
                        "ticks": ""
                      }
                    },
                    "scene": {
                      "xaxis": {
                        "backgroundcolor": "#E5ECF6",
                        "gridcolor": "white",
                        "gridwidth": 2,
                        "linecolor": "white",
                        "showbackground": true,
                        "ticks": "",
                        "zerolinecolor": "white"
                      },
                      "yaxis": {
                        "backgroundcolor": "#E5ECF6",
                        "gridcolor": "white",
                        "gridwidth": 2,
                        "linecolor": "white",
                        "showbackground": true,
                        "ticks": "",
                        "zerolinecolor": "white"
                      },
                      "zaxis": {
                        "backgroundcolor": "#E5ECF6",
                        "gridcolor": "white",
                        "gridwidth": 2,
                        "linecolor": "white",
                        "showbackground": true,
                        "ticks": "",
                        "zerolinecolor": "white"
                      }
                    },
                    "shapedefaults": {
                      "line": {
                        "color": "#2a3f5f"
                      }
                    },
                    "ternary": {
                      "aaxis": {
                        "gridcolor": "white",
                        "linecolor": "white",
                        "ticks": ""
                      },
                      "baxis": {
                        "gridcolor": "white",
                        "linecolor": "white",
                        "ticks": ""
                      },
                      "bgcolor": "#E5ECF6",
                      "caxis": {
                        "gridcolor": "white",
                        "linecolor": "white",
                        "ticks": ""
                      }
                    },
                    "title": {
                      "x": 0.05
                    },
                    "xaxis": {
                      "automargin": true,
                      "gridcolor": "white",
                      "linecolor": "white",
                      "ticks": "",
                      "title": {
                        "standoff": 15
                      },
                      "zerolinecolor": "white",
                      "zerolinewidth": 2
                    },
                    "yaxis": {
                      "automargin": true,
                      "gridcolor": "white",
                      "linecolor": "white",
                      "ticks": "",
                      "title": {
                        "standoff": 15
                      },
                      "zerolinecolor": "white",
                      "zerolinewidth": 2
                    }
                  }
                },
                "title": {
                  "text": "Total revenue possible in each state comparing with money lost due to broken machines"
                },
                "xaxis": {
                  "anchor": "y",
                  "domain": [
                    0,
                    1
                  ],
                  "title": {
                    "text": "index"
                  }
                },
                "yaxis": {
                  "anchor": "x",
                  "domain": [
                    0,
                    1
                  ],
                  "title": {
                    "text": "Money in dollars"
                  }
                }
              }
            }
          },
          "metadata": {},
          "output_type": "display_data"
        }
      ],
      "source": [
        "# Create a bar chart showing side by side the total revenue possible in each state comparing with money lost due to broken machines \n",
        "fig = px.bar(\n",
        "    df,\n",
        "    x=df.index,\n",
        "    y=[\"total_revenue_possible\", \"money_lost_due_to_broken_machines\"],\n",
        "    title=\"Total revenue possible in each state comparing with money lost due to broken machines\",\n",
        "    labels={\"x\": \"State\", \"value\": \"Money in dollars\", \"variable\": \"Type of money\"},\n",
        "    barmode=\"group\",\n",
        ")\n",
        "fig.show()\n",
        "\n",
        "# Save as dash dcc graph\n",
        "dcc_graph_bar_chart_total_revenue_possible_vs_money_lost_due_to_broken_machines = dcc.Graph(figure=fig)"
      ]
    },
    {
      "cell_type": "code",
      "execution_count": 26,
      "metadata": {},
      "outputs": [
        {
          "data": {
            "application/vnd.plotly.v1+json": {
              "config": {
                "plotlyServerURL": "https://plot.ly"
              },
              "data": [
                {
                  "domain": {
                    "x": [
                      0,
                      1
                    ],
                    "y": [
                      0,
                      1
                    ]
                  },
                  "hovertemplate": "index=%{label}<br>broken_machines_number=%{value}<extra></extra>",
                  "labels": [
                    "New York",
                    "New Jersey",
                    "Connecticut",
                    "Pennsylvania",
                    "Delaware",
                    "Massachusetts",
                    "Maryland",
                    "Rhode Island",
                    "Vermont",
                    "New Hampshire",
                    "District of Columbia",
                    "Virginia",
                    "West Virginia",
                    "Maine",
                    "North Carolina",
                    "Ohio",
                    "Michigan",
                    "Kentucky",
                    "Tennessee",
                    "South Carolina",
                    "Indiana",
                    "Georgia",
                    "Illinois",
                    "Wisconsin",
                    "Alabama",
                    "Florida",
                    "Iowa",
                    "Missouri",
                    "Mississippi",
                    "Arkansas",
                    "Minnesota",
                    "Kansas",
                    "Louisiana",
                    "Nebraska",
                    "Oklahoma",
                    "South Dakota",
                    "North Dakota",
                    "Texas",
                    "Colorado",
                    "Wyoming",
                    "Montana",
                    "New Mexico",
                    "Utah",
                    "Arizona",
                    "Idaho",
                    "Nevada",
                    "Washington",
                    "Oregon",
                    "California",
                    "Alaska",
                    "Hawaii"
                  ],
                  "legendgroup": "",
                  "name": "",
                  "showlegend": true,
                  "textinfo": "percent+label",
                  "textposition": "inside",
                  "type": "pie",
                  "values": [
                    53,
                    21,
                    5,
                    37,
                    1,
                    23,
                    26,
                    0,
                    1,
                    1,
                    1,
                    43,
                    4,
                    2,
                    38,
                    63,
                    45,
                    21,
                    29,
                    33,
                    38,
                    64,
                    53,
                    18,
                    16,
                    69,
                    10,
                    29,
                    24,
                    18,
                    12,
                    9,
                    24,
                    9,
                    23,
                    2,
                    2,
                    119,
                    15,
                    1,
                    7,
                    5,
                    13,
                    33,
                    5,
                    10,
                    29,
                    25,
                    120,
                    4,
                    9
                  ]
                }
              ],
              "layout": {
                "legend": {
                  "tracegroupgap": 0
                },
                "template": {
                  "data": {
                    "bar": [
                      {
                        "error_x": {
                          "color": "#2a3f5f"
                        },
                        "error_y": {
                          "color": "#2a3f5f"
                        },
                        "marker": {
                          "line": {
                            "color": "#E5ECF6",
                            "width": 0.5
                          },
                          "pattern": {
                            "fillmode": "overlay",
                            "size": 10,
                            "solidity": 0.2
                          }
                        },
                        "type": "bar"
                      }
                    ],
                    "barpolar": [
                      {
                        "marker": {
                          "line": {
                            "color": "#E5ECF6",
                            "width": 0.5
                          },
                          "pattern": {
                            "fillmode": "overlay",
                            "size": 10,
                            "solidity": 0.2
                          }
                        },
                        "type": "barpolar"
                      }
                    ],
                    "carpet": [
                      {
                        "aaxis": {
                          "endlinecolor": "#2a3f5f",
                          "gridcolor": "white",
                          "linecolor": "white",
                          "minorgridcolor": "white",
                          "startlinecolor": "#2a3f5f"
                        },
                        "baxis": {
                          "endlinecolor": "#2a3f5f",
                          "gridcolor": "white",
                          "linecolor": "white",
                          "minorgridcolor": "white",
                          "startlinecolor": "#2a3f5f"
                        },
                        "type": "carpet"
                      }
                    ],
                    "choropleth": [
                      {
                        "colorbar": {
                          "outlinewidth": 0,
                          "ticks": ""
                        },
                        "type": "choropleth"
                      }
                    ],
                    "contour": [
                      {
                        "colorbar": {
                          "outlinewidth": 0,
                          "ticks": ""
                        },
                        "colorscale": [
                          [
                            0,
                            "#0d0887"
                          ],
                          [
                            0.1111111111111111,
                            "#46039f"
                          ],
                          [
                            0.2222222222222222,
                            "#7201a8"
                          ],
                          [
                            0.3333333333333333,
                            "#9c179e"
                          ],
                          [
                            0.4444444444444444,
                            "#bd3786"
                          ],
                          [
                            0.5555555555555556,
                            "#d8576b"
                          ],
                          [
                            0.6666666666666666,
                            "#ed7953"
                          ],
                          [
                            0.7777777777777778,
                            "#fb9f3a"
                          ],
                          [
                            0.8888888888888888,
                            "#fdca26"
                          ],
                          [
                            1,
                            "#f0f921"
                          ]
                        ],
                        "type": "contour"
                      }
                    ],
                    "contourcarpet": [
                      {
                        "colorbar": {
                          "outlinewidth": 0,
                          "ticks": ""
                        },
                        "type": "contourcarpet"
                      }
                    ],
                    "heatmap": [
                      {
                        "colorbar": {
                          "outlinewidth": 0,
                          "ticks": ""
                        },
                        "colorscale": [
                          [
                            0,
                            "#0d0887"
                          ],
                          [
                            0.1111111111111111,
                            "#46039f"
                          ],
                          [
                            0.2222222222222222,
                            "#7201a8"
                          ],
                          [
                            0.3333333333333333,
                            "#9c179e"
                          ],
                          [
                            0.4444444444444444,
                            "#bd3786"
                          ],
                          [
                            0.5555555555555556,
                            "#d8576b"
                          ],
                          [
                            0.6666666666666666,
                            "#ed7953"
                          ],
                          [
                            0.7777777777777778,
                            "#fb9f3a"
                          ],
                          [
                            0.8888888888888888,
                            "#fdca26"
                          ],
                          [
                            1,
                            "#f0f921"
                          ]
                        ],
                        "type": "heatmap"
                      }
                    ],
                    "heatmapgl": [
                      {
                        "colorbar": {
                          "outlinewidth": 0,
                          "ticks": ""
                        },
                        "colorscale": [
                          [
                            0,
                            "#0d0887"
                          ],
                          [
                            0.1111111111111111,
                            "#46039f"
                          ],
                          [
                            0.2222222222222222,
                            "#7201a8"
                          ],
                          [
                            0.3333333333333333,
                            "#9c179e"
                          ],
                          [
                            0.4444444444444444,
                            "#bd3786"
                          ],
                          [
                            0.5555555555555556,
                            "#d8576b"
                          ],
                          [
                            0.6666666666666666,
                            "#ed7953"
                          ],
                          [
                            0.7777777777777778,
                            "#fb9f3a"
                          ],
                          [
                            0.8888888888888888,
                            "#fdca26"
                          ],
                          [
                            1,
                            "#f0f921"
                          ]
                        ],
                        "type": "heatmapgl"
                      }
                    ],
                    "histogram": [
                      {
                        "marker": {
                          "pattern": {
                            "fillmode": "overlay",
                            "size": 10,
                            "solidity": 0.2
                          }
                        },
                        "type": "histogram"
                      }
                    ],
                    "histogram2d": [
                      {
                        "colorbar": {
                          "outlinewidth": 0,
                          "ticks": ""
                        },
                        "colorscale": [
                          [
                            0,
                            "#0d0887"
                          ],
                          [
                            0.1111111111111111,
                            "#46039f"
                          ],
                          [
                            0.2222222222222222,
                            "#7201a8"
                          ],
                          [
                            0.3333333333333333,
                            "#9c179e"
                          ],
                          [
                            0.4444444444444444,
                            "#bd3786"
                          ],
                          [
                            0.5555555555555556,
                            "#d8576b"
                          ],
                          [
                            0.6666666666666666,
                            "#ed7953"
                          ],
                          [
                            0.7777777777777778,
                            "#fb9f3a"
                          ],
                          [
                            0.8888888888888888,
                            "#fdca26"
                          ],
                          [
                            1,
                            "#f0f921"
                          ]
                        ],
                        "type": "histogram2d"
                      }
                    ],
                    "histogram2dcontour": [
                      {
                        "colorbar": {
                          "outlinewidth": 0,
                          "ticks": ""
                        },
                        "colorscale": [
                          [
                            0,
                            "#0d0887"
                          ],
                          [
                            0.1111111111111111,
                            "#46039f"
                          ],
                          [
                            0.2222222222222222,
                            "#7201a8"
                          ],
                          [
                            0.3333333333333333,
                            "#9c179e"
                          ],
                          [
                            0.4444444444444444,
                            "#bd3786"
                          ],
                          [
                            0.5555555555555556,
                            "#d8576b"
                          ],
                          [
                            0.6666666666666666,
                            "#ed7953"
                          ],
                          [
                            0.7777777777777778,
                            "#fb9f3a"
                          ],
                          [
                            0.8888888888888888,
                            "#fdca26"
                          ],
                          [
                            1,
                            "#f0f921"
                          ]
                        ],
                        "type": "histogram2dcontour"
                      }
                    ],
                    "mesh3d": [
                      {
                        "colorbar": {
                          "outlinewidth": 0,
                          "ticks": ""
                        },
                        "type": "mesh3d"
                      }
                    ],
                    "parcoords": [
                      {
                        "line": {
                          "colorbar": {
                            "outlinewidth": 0,
                            "ticks": ""
                          }
                        },
                        "type": "parcoords"
                      }
                    ],
                    "pie": [
                      {
                        "automargin": true,
                        "type": "pie"
                      }
                    ],
                    "scatter": [
                      {
                        "marker": {
                          "colorbar": {
                            "outlinewidth": 0,
                            "ticks": ""
                          }
                        },
                        "type": "scatter"
                      }
                    ],
                    "scatter3d": [
                      {
                        "line": {
                          "colorbar": {
                            "outlinewidth": 0,
                            "ticks": ""
                          }
                        },
                        "marker": {
                          "colorbar": {
                            "outlinewidth": 0,
                            "ticks": ""
                          }
                        },
                        "type": "scatter3d"
                      }
                    ],
                    "scattercarpet": [
                      {
                        "marker": {
                          "colorbar": {
                            "outlinewidth": 0,
                            "ticks": ""
                          }
                        },
                        "type": "scattercarpet"
                      }
                    ],
                    "scattergeo": [
                      {
                        "marker": {
                          "colorbar": {
                            "outlinewidth": 0,
                            "ticks": ""
                          }
                        },
                        "type": "scattergeo"
                      }
                    ],
                    "scattergl": [
                      {
                        "marker": {
                          "colorbar": {
                            "outlinewidth": 0,
                            "ticks": ""
                          }
                        },
                        "type": "scattergl"
                      }
                    ],
                    "scattermapbox": [
                      {
                        "marker": {
                          "colorbar": {
                            "outlinewidth": 0,
                            "ticks": ""
                          }
                        },
                        "type": "scattermapbox"
                      }
                    ],
                    "scatterpolar": [
                      {
                        "marker": {
                          "colorbar": {
                            "outlinewidth": 0,
                            "ticks": ""
                          }
                        },
                        "type": "scatterpolar"
                      }
                    ],
                    "scatterpolargl": [
                      {
                        "marker": {
                          "colorbar": {
                            "outlinewidth": 0,
                            "ticks": ""
                          }
                        },
                        "type": "scatterpolargl"
                      }
                    ],
                    "scatterternary": [
                      {
                        "marker": {
                          "colorbar": {
                            "outlinewidth": 0,
                            "ticks": ""
                          }
                        },
                        "type": "scatterternary"
                      }
                    ],
                    "surface": [
                      {
                        "colorbar": {
                          "outlinewidth": 0,
                          "ticks": ""
                        },
                        "colorscale": [
                          [
                            0,
                            "#0d0887"
                          ],
                          [
                            0.1111111111111111,
                            "#46039f"
                          ],
                          [
                            0.2222222222222222,
                            "#7201a8"
                          ],
                          [
                            0.3333333333333333,
                            "#9c179e"
                          ],
                          [
                            0.4444444444444444,
                            "#bd3786"
                          ],
                          [
                            0.5555555555555556,
                            "#d8576b"
                          ],
                          [
                            0.6666666666666666,
                            "#ed7953"
                          ],
                          [
                            0.7777777777777778,
                            "#fb9f3a"
                          ],
                          [
                            0.8888888888888888,
                            "#fdca26"
                          ],
                          [
                            1,
                            "#f0f921"
                          ]
                        ],
                        "type": "surface"
                      }
                    ],
                    "table": [
                      {
                        "cells": {
                          "fill": {
                            "color": "#EBF0F8"
                          },
                          "line": {
                            "color": "white"
                          }
                        },
                        "header": {
                          "fill": {
                            "color": "#C8D4E3"
                          },
                          "line": {
                            "color": "white"
                          }
                        },
                        "type": "table"
                      }
                    ]
                  },
                  "layout": {
                    "annotationdefaults": {
                      "arrowcolor": "#2a3f5f",
                      "arrowhead": 0,
                      "arrowwidth": 1
                    },
                    "autotypenumbers": "strict",
                    "coloraxis": {
                      "colorbar": {
                        "outlinewidth": 0,
                        "ticks": ""
                      }
                    },
                    "colorscale": {
                      "diverging": [
                        [
                          0,
                          "#8e0152"
                        ],
                        [
                          0.1,
                          "#c51b7d"
                        ],
                        [
                          0.2,
                          "#de77ae"
                        ],
                        [
                          0.3,
                          "#f1b6da"
                        ],
                        [
                          0.4,
                          "#fde0ef"
                        ],
                        [
                          0.5,
                          "#f7f7f7"
                        ],
                        [
                          0.6,
                          "#e6f5d0"
                        ],
                        [
                          0.7,
                          "#b8e186"
                        ],
                        [
                          0.8,
                          "#7fbc41"
                        ],
                        [
                          0.9,
                          "#4d9221"
                        ],
                        [
                          1,
                          "#276419"
                        ]
                      ],
                      "sequential": [
                        [
                          0,
                          "#0d0887"
                        ],
                        [
                          0.1111111111111111,
                          "#46039f"
                        ],
                        [
                          0.2222222222222222,
                          "#7201a8"
                        ],
                        [
                          0.3333333333333333,
                          "#9c179e"
                        ],
                        [
                          0.4444444444444444,
                          "#bd3786"
                        ],
                        [
                          0.5555555555555556,
                          "#d8576b"
                        ],
                        [
                          0.6666666666666666,
                          "#ed7953"
                        ],
                        [
                          0.7777777777777778,
                          "#fb9f3a"
                        ],
                        [
                          0.8888888888888888,
                          "#fdca26"
                        ],
                        [
                          1,
                          "#f0f921"
                        ]
                      ],
                      "sequentialminus": [
                        [
                          0,
                          "#0d0887"
                        ],
                        [
                          0.1111111111111111,
                          "#46039f"
                        ],
                        [
                          0.2222222222222222,
                          "#7201a8"
                        ],
                        [
                          0.3333333333333333,
                          "#9c179e"
                        ],
                        [
                          0.4444444444444444,
                          "#bd3786"
                        ],
                        [
                          0.5555555555555556,
                          "#d8576b"
                        ],
                        [
                          0.6666666666666666,
                          "#ed7953"
                        ],
                        [
                          0.7777777777777778,
                          "#fb9f3a"
                        ],
                        [
                          0.8888888888888888,
                          "#fdca26"
                        ],
                        [
                          1,
                          "#f0f921"
                        ]
                      ]
                    },
                    "colorway": [
                      "#636efa",
                      "#EF553B",
                      "#00cc96",
                      "#ab63fa",
                      "#FFA15A",
                      "#19d3f3",
                      "#FF6692",
                      "#B6E880",
                      "#FF97FF",
                      "#FECB52"
                    ],
                    "font": {
                      "color": "#2a3f5f"
                    },
                    "geo": {
                      "bgcolor": "white",
                      "lakecolor": "white",
                      "landcolor": "#E5ECF6",
                      "showlakes": true,
                      "showland": true,
                      "subunitcolor": "white"
                    },
                    "hoverlabel": {
                      "align": "left"
                    },
                    "hovermode": "closest",
                    "mapbox": {
                      "style": "light"
                    },
                    "paper_bgcolor": "white",
                    "plot_bgcolor": "#E5ECF6",
                    "polar": {
                      "angularaxis": {
                        "gridcolor": "white",
                        "linecolor": "white",
                        "ticks": ""
                      },
                      "bgcolor": "#E5ECF6",
                      "radialaxis": {
                        "gridcolor": "white",
                        "linecolor": "white",
                        "ticks": ""
                      }
                    },
                    "scene": {
                      "xaxis": {
                        "backgroundcolor": "#E5ECF6",
                        "gridcolor": "white",
                        "gridwidth": 2,
                        "linecolor": "white",
                        "showbackground": true,
                        "ticks": "",
                        "zerolinecolor": "white"
                      },
                      "yaxis": {
                        "backgroundcolor": "#E5ECF6",
                        "gridcolor": "white",
                        "gridwidth": 2,
                        "linecolor": "white",
                        "showbackground": true,
                        "ticks": "",
                        "zerolinecolor": "white"
                      },
                      "zaxis": {
                        "backgroundcolor": "#E5ECF6",
                        "gridcolor": "white",
                        "gridwidth": 2,
                        "linecolor": "white",
                        "showbackground": true,
                        "ticks": "",
                        "zerolinecolor": "white"
                      }
                    },
                    "shapedefaults": {
                      "line": {
                        "color": "#2a3f5f"
                      }
                    },
                    "ternary": {
                      "aaxis": {
                        "gridcolor": "white",
                        "linecolor": "white",
                        "ticks": ""
                      },
                      "baxis": {
                        "gridcolor": "white",
                        "linecolor": "white",
                        "ticks": ""
                      },
                      "bgcolor": "#E5ECF6",
                      "caxis": {
                        "gridcolor": "white",
                        "linecolor": "white",
                        "ticks": ""
                      }
                    },
                    "title": {
                      "x": 0.05
                    },
                    "xaxis": {
                      "automargin": true,
                      "gridcolor": "white",
                      "linecolor": "white",
                      "ticks": "",
                      "title": {
                        "standoff": 15
                      },
                      "zerolinecolor": "white",
                      "zerolinewidth": 2
                    },
                    "yaxis": {
                      "automargin": true,
                      "gridcolor": "white",
                      "linecolor": "white",
                      "ticks": "",
                      "title": {
                        "standoff": 15
                      },
                      "zerolinecolor": "white",
                      "zerolinewidth": 2
                    }
                  }
                },
                "title": {
                  "text": "Percentage of broken machines in each state"
                }
              }
            }
          },
          "metadata": {},
          "output_type": "display_data"
        }
      ],
      "source": [
        "# Create a pie chart showing the percentage of broken machines in each state\n",
        "fig = px.pie(df, values=\"broken_machines_number\", names=df.index, title=\"Percentage of broken machines in each state\")\n",
        "fig.update_traces(textposition='inside', textinfo='percent+label')\n",
        "fig.show()\n",
        "\n",
        "# Save the pie chart as a png file\n",
        "fig.write_image(\"mcbroken-pie-chart-broken-machines-percentage.png\")\n",
        "\n",
        "# Save as dash dcc graph\n",
        "dcc_graph_pie_chart_broken_machines_percentage = dcc.Graph(figure=fig)"
      ]
    },
    {
      "cell_type": "code",
      "execution_count": null,
      "metadata": {},
      "outputs": [
        {
          "data": {
            "application/vnd.plotly.v1+json": {
              "config": {
                "plotlyServerURL": "https://plot.ly"
              },
              "data": [
                {
                  "domain": {
                    "x": [
                      0,
                      1
                    ],
                    "y": [
                      0,
                      1
                    ]
                  },
                  "hovertemplate": "index=%{label}<br>money_lost_due_to_broken_machines=%{value}<extra></extra>",
                  "labels": [
                    "New York",
                    "New Jersey",
                    "Connecticut",
                    "Pennsylvania",
                    "Delaware",
                    "Massachusetts",
                    "Maryland",
                    "Rhode Island",
                    "Vermont",
                    "New Hampshire",
                    "District of Columbia",
                    "Virginia",
                    "West Virginia",
                    "Maine",
                    "North Carolina",
                    "Ohio",
                    "Michigan",
                    "Kentucky",
                    "Tennessee",
                    "South Carolina",
                    "Indiana",
                    "Georgia",
                    "Illinois",
                    "Wisconsin",
                    "Alabama",
                    "Florida",
                    "Iowa",
                    "Missouri",
                    "Mississippi",
                    "Arkansas",
                    "Minnesota",
                    "Kansas",
                    "Louisiana",
                    "Nebraska",
                    "Oklahoma",
                    "South Dakota",
                    "North Dakota",
                    "Texas",
                    "Colorado",
                    "Wyoming",
                    "Montana",
                    "New Mexico",
                    "Utah",
                    "Arizona",
                    "Idaho",
                    "Nevada",
                    "Washington",
                    "Oregon",
                    "California",
                    "Alaska",
                    "Hawaii"
                  ],
                  "legendgroup": "",
                  "name": "",
                  "showlegend": true,
                  "textinfo": "percent+label",
                  "textposition": "inside",
                  "type": "pie",
                  "values": [
                    22815.719716711228,
                    9831.425156639005,
                    1688.3901336538463,
                    12806.980540789475,
                    349.0342914285714,
                    8810.347108445945,
                    7623.326503710938,
                    0,
                    327.49228125,
                    338.219552,
                    326.31435,
                    11937.85355105541,
                    877.0717505050504,
                    586.2142885964913,
                    11119.578813895216,
                    15471.862225042807,
                    11013.17615325,
                    4744.606217901235,
                    8048.284625326799,
                    9699.97907616279,
                    9541.784728030303,
                    19940.810017061613,
                    13082.53145436,
                    4598.178783629894,
                    4268.556693913044,
                    22368.925555745725,
                    2858.510060661765,
                    7407.593962670068,
                    6432.68487313433,
                    4170.591274528302,
                    4008.8926875000006,
                    2347.1300923357667,
                    6226.481720737327,
                    2907.723660810811,
                    6133.838384478022,
                    807.4965037037038,
                    820.4340782608697,
                    40550.539449597156,
                    5768.636419157609,
                    281.877061,
                    2138.897635795455,
                    1480.5058893678163,
                    5206.446722524752,
                    11555.106169565219,
                    2066.4051361607144,
                    3271.63166025641,
                    11577.706262288135,
                    8791.996109693879,
                    49504.7309119171,
                    1486.7156291666668,
                    2224.7629573943664
                  ]
                }
              ],
              "layout": {
                "legend": {
                  "tracegroupgap": 0
                },
                "template": {
                  "data": {
                    "bar": [
                      {
                        "error_x": {
                          "color": "#2a3f5f"
                        },
                        "error_y": {
                          "color": "#2a3f5f"
                        },
                        "marker": {
                          "line": {
                            "color": "#E5ECF6",
                            "width": 0.5
                          },
                          "pattern": {
                            "fillmode": "overlay",
                            "size": 10,
                            "solidity": 0.2
                          }
                        },
                        "type": "bar"
                      }
                    ],
                    "barpolar": [
                      {
                        "marker": {
                          "line": {
                            "color": "#E5ECF6",
                            "width": 0.5
                          },
                          "pattern": {
                            "fillmode": "overlay",
                            "size": 10,
                            "solidity": 0.2
                          }
                        },
                        "type": "barpolar"
                      }
                    ],
                    "carpet": [
                      {
                        "aaxis": {
                          "endlinecolor": "#2a3f5f",
                          "gridcolor": "white",
                          "linecolor": "white",
                          "minorgridcolor": "white",
                          "startlinecolor": "#2a3f5f"
                        },
                        "baxis": {
                          "endlinecolor": "#2a3f5f",
                          "gridcolor": "white",
                          "linecolor": "white",
                          "minorgridcolor": "white",
                          "startlinecolor": "#2a3f5f"
                        },
                        "type": "carpet"
                      }
                    ],
                    "choropleth": [
                      {
                        "colorbar": {
                          "outlinewidth": 0,
                          "ticks": ""
                        },
                        "type": "choropleth"
                      }
                    ],
                    "contour": [
                      {
                        "colorbar": {
                          "outlinewidth": 0,
                          "ticks": ""
                        },
                        "colorscale": [
                          [
                            0,
                            "#0d0887"
                          ],
                          [
                            0.1111111111111111,
                            "#46039f"
                          ],
                          [
                            0.2222222222222222,
                            "#7201a8"
                          ],
                          [
                            0.3333333333333333,
                            "#9c179e"
                          ],
                          [
                            0.4444444444444444,
                            "#bd3786"
                          ],
                          [
                            0.5555555555555556,
                            "#d8576b"
                          ],
                          [
                            0.6666666666666666,
                            "#ed7953"
                          ],
                          [
                            0.7777777777777778,
                            "#fb9f3a"
                          ],
                          [
                            0.8888888888888888,
                            "#fdca26"
                          ],
                          [
                            1,
                            "#f0f921"
                          ]
                        ],
                        "type": "contour"
                      }
                    ],
                    "contourcarpet": [
                      {
                        "colorbar": {
                          "outlinewidth": 0,
                          "ticks": ""
                        },
                        "type": "contourcarpet"
                      }
                    ],
                    "heatmap": [
                      {
                        "colorbar": {
                          "outlinewidth": 0,
                          "ticks": ""
                        },
                        "colorscale": [
                          [
                            0,
                            "#0d0887"
                          ],
                          [
                            0.1111111111111111,
                            "#46039f"
                          ],
                          [
                            0.2222222222222222,
                            "#7201a8"
                          ],
                          [
                            0.3333333333333333,
                            "#9c179e"
                          ],
                          [
                            0.4444444444444444,
                            "#bd3786"
                          ],
                          [
                            0.5555555555555556,
                            "#d8576b"
                          ],
                          [
                            0.6666666666666666,
                            "#ed7953"
                          ],
                          [
                            0.7777777777777778,
                            "#fb9f3a"
                          ],
                          [
                            0.8888888888888888,
                            "#fdca26"
                          ],
                          [
                            1,
                            "#f0f921"
                          ]
                        ],
                        "type": "heatmap"
                      }
                    ],
                    "heatmapgl": [
                      {
                        "colorbar": {
                          "outlinewidth": 0,
                          "ticks": ""
                        },
                        "colorscale": [
                          [
                            0,
                            "#0d0887"
                          ],
                          [
                            0.1111111111111111,
                            "#46039f"
                          ],
                          [
                            0.2222222222222222,
                            "#7201a8"
                          ],
                          [
                            0.3333333333333333,
                            "#9c179e"
                          ],
                          [
                            0.4444444444444444,
                            "#bd3786"
                          ],
                          [
                            0.5555555555555556,
                            "#d8576b"
                          ],
                          [
                            0.6666666666666666,
                            "#ed7953"
                          ],
                          [
                            0.7777777777777778,
                            "#fb9f3a"
                          ],
                          [
                            0.8888888888888888,
                            "#fdca26"
                          ],
                          [
                            1,
                            "#f0f921"
                          ]
                        ],
                        "type": "heatmapgl"
                      }
                    ],
                    "histogram": [
                      {
                        "marker": {
                          "pattern": {
                            "fillmode": "overlay",
                            "size": 10,
                            "solidity": 0.2
                          }
                        },
                        "type": "histogram"
                      }
                    ],
                    "histogram2d": [
                      {
                        "colorbar": {
                          "outlinewidth": 0,
                          "ticks": ""
                        },
                        "colorscale": [
                          [
                            0,
                            "#0d0887"
                          ],
                          [
                            0.1111111111111111,
                            "#46039f"
                          ],
                          [
                            0.2222222222222222,
                            "#7201a8"
                          ],
                          [
                            0.3333333333333333,
                            "#9c179e"
                          ],
                          [
                            0.4444444444444444,
                            "#bd3786"
                          ],
                          [
                            0.5555555555555556,
                            "#d8576b"
                          ],
                          [
                            0.6666666666666666,
                            "#ed7953"
                          ],
                          [
                            0.7777777777777778,
                            "#fb9f3a"
                          ],
                          [
                            0.8888888888888888,
                            "#fdca26"
                          ],
                          [
                            1,
                            "#f0f921"
                          ]
                        ],
                        "type": "histogram2d"
                      }
                    ],
                    "histogram2dcontour": [
                      {
                        "colorbar": {
                          "outlinewidth": 0,
                          "ticks": ""
                        },
                        "colorscale": [
                          [
                            0,
                            "#0d0887"
                          ],
                          [
                            0.1111111111111111,
                            "#46039f"
                          ],
                          [
                            0.2222222222222222,
                            "#7201a8"
                          ],
                          [
                            0.3333333333333333,
                            "#9c179e"
                          ],
                          [
                            0.4444444444444444,
                            "#bd3786"
                          ],
                          [
                            0.5555555555555556,
                            "#d8576b"
                          ],
                          [
                            0.6666666666666666,
                            "#ed7953"
                          ],
                          [
                            0.7777777777777778,
                            "#fb9f3a"
                          ],
                          [
                            0.8888888888888888,
                            "#fdca26"
                          ],
                          [
                            1,
                            "#f0f921"
                          ]
                        ],
                        "type": "histogram2dcontour"
                      }
                    ],
                    "mesh3d": [
                      {
                        "colorbar": {
                          "outlinewidth": 0,
                          "ticks": ""
                        },
                        "type": "mesh3d"
                      }
                    ],
                    "parcoords": [
                      {
                        "line": {
                          "colorbar": {
                            "outlinewidth": 0,
                            "ticks": ""
                          }
                        },
                        "type": "parcoords"
                      }
                    ],
                    "pie": [
                      {
                        "automargin": true,
                        "type": "pie"
                      }
                    ],
                    "scatter": [
                      {
                        "marker": {
                          "colorbar": {
                            "outlinewidth": 0,
                            "ticks": ""
                          }
                        },
                        "type": "scatter"
                      }
                    ],
                    "scatter3d": [
                      {
                        "line": {
                          "colorbar": {
                            "outlinewidth": 0,
                            "ticks": ""
                          }
                        },
                        "marker": {
                          "colorbar": {
                            "outlinewidth": 0,
                            "ticks": ""
                          }
                        },
                        "type": "scatter3d"
                      }
                    ],
                    "scattercarpet": [
                      {
                        "marker": {
                          "colorbar": {
                            "outlinewidth": 0,
                            "ticks": ""
                          }
                        },
                        "type": "scattercarpet"
                      }
                    ],
                    "scattergeo": [
                      {
                        "marker": {
                          "colorbar": {
                            "outlinewidth": 0,
                            "ticks": ""
                          }
                        },
                        "type": "scattergeo"
                      }
                    ],
                    "scattergl": [
                      {
                        "marker": {
                          "colorbar": {
                            "outlinewidth": 0,
                            "ticks": ""
                          }
                        },
                        "type": "scattergl"
                      }
                    ],
                    "scattermapbox": [
                      {
                        "marker": {
                          "colorbar": {
                            "outlinewidth": 0,
                            "ticks": ""
                          }
                        },
                        "type": "scattermapbox"
                      }
                    ],
                    "scatterpolar": [
                      {
                        "marker": {
                          "colorbar": {
                            "outlinewidth": 0,
                            "ticks": ""
                          }
                        },
                        "type": "scatterpolar"
                      }
                    ],
                    "scatterpolargl": [
                      {
                        "marker": {
                          "colorbar": {
                            "outlinewidth": 0,
                            "ticks": ""
                          }
                        },
                        "type": "scatterpolargl"
                      }
                    ],
                    "scatterternary": [
                      {
                        "marker": {
                          "colorbar": {
                            "outlinewidth": 0,
                            "ticks": ""
                          }
                        },
                        "type": "scatterternary"
                      }
                    ],
                    "surface": [
                      {
                        "colorbar": {
                          "outlinewidth": 0,
                          "ticks": ""
                        },
                        "colorscale": [
                          [
                            0,
                            "#0d0887"
                          ],
                          [
                            0.1111111111111111,
                            "#46039f"
                          ],
                          [
                            0.2222222222222222,
                            "#7201a8"
                          ],
                          [
                            0.3333333333333333,
                            "#9c179e"
                          ],
                          [
                            0.4444444444444444,
                            "#bd3786"
                          ],
                          [
                            0.5555555555555556,
                            "#d8576b"
                          ],
                          [
                            0.6666666666666666,
                            "#ed7953"
                          ],
                          [
                            0.7777777777777778,
                            "#fb9f3a"
                          ],
                          [
                            0.8888888888888888,
                            "#fdca26"
                          ],
                          [
                            1,
                            "#f0f921"
                          ]
                        ],
                        "type": "surface"
                      }
                    ],
                    "table": [
                      {
                        "cells": {
                          "fill": {
                            "color": "#EBF0F8"
                          },
                          "line": {
                            "color": "white"
                          }
                        },
                        "header": {
                          "fill": {
                            "color": "#C8D4E3"
                          },
                          "line": {
                            "color": "white"
                          }
                        },
                        "type": "table"
                      }
                    ]
                  },
                  "layout": {
                    "annotationdefaults": {
                      "arrowcolor": "#2a3f5f",
                      "arrowhead": 0,
                      "arrowwidth": 1
                    },
                    "autotypenumbers": "strict",
                    "coloraxis": {
                      "colorbar": {
                        "outlinewidth": 0,
                        "ticks": ""
                      }
                    },
                    "colorscale": {
                      "diverging": [
                        [
                          0,
                          "#8e0152"
                        ],
                        [
                          0.1,
                          "#c51b7d"
                        ],
                        [
                          0.2,
                          "#de77ae"
                        ],
                        [
                          0.3,
                          "#f1b6da"
                        ],
                        [
                          0.4,
                          "#fde0ef"
                        ],
                        [
                          0.5,
                          "#f7f7f7"
                        ],
                        [
                          0.6,
                          "#e6f5d0"
                        ],
                        [
                          0.7,
                          "#b8e186"
                        ],
                        [
                          0.8,
                          "#7fbc41"
                        ],
                        [
                          0.9,
                          "#4d9221"
                        ],
                        [
                          1,
                          "#276419"
                        ]
                      ],
                      "sequential": [
                        [
                          0,
                          "#0d0887"
                        ],
                        [
                          0.1111111111111111,
                          "#46039f"
                        ],
                        [
                          0.2222222222222222,
                          "#7201a8"
                        ],
                        [
                          0.3333333333333333,
                          "#9c179e"
                        ],
                        [
                          0.4444444444444444,
                          "#bd3786"
                        ],
                        [
                          0.5555555555555556,
                          "#d8576b"
                        ],
                        [
                          0.6666666666666666,
                          "#ed7953"
                        ],
                        [
                          0.7777777777777778,
                          "#fb9f3a"
                        ],
                        [
                          0.8888888888888888,
                          "#fdca26"
                        ],
                        [
                          1,
                          "#f0f921"
                        ]
                      ],
                      "sequentialminus": [
                        [
                          0,
                          "#0d0887"
                        ],
                        [
                          0.1111111111111111,
                          "#46039f"
                        ],
                        [
                          0.2222222222222222,
                          "#7201a8"
                        ],
                        [
                          0.3333333333333333,
                          "#9c179e"
                        ],
                        [
                          0.4444444444444444,
                          "#bd3786"
                        ],
                        [
                          0.5555555555555556,
                          "#d8576b"
                        ],
                        [
                          0.6666666666666666,
                          "#ed7953"
                        ],
                        [
                          0.7777777777777778,
                          "#fb9f3a"
                        ],
                        [
                          0.8888888888888888,
                          "#fdca26"
                        ],
                        [
                          1,
                          "#f0f921"
                        ]
                      ]
                    },
                    "colorway": [
                      "#636efa",
                      "#EF553B",
                      "#00cc96",
                      "#ab63fa",
                      "#FFA15A",
                      "#19d3f3",
                      "#FF6692",
                      "#B6E880",
                      "#FF97FF",
                      "#FECB52"
                    ],
                    "font": {
                      "color": "#2a3f5f"
                    },
                    "geo": {
                      "bgcolor": "white",
                      "lakecolor": "white",
                      "landcolor": "#E5ECF6",
                      "showlakes": true,
                      "showland": true,
                      "subunitcolor": "white"
                    },
                    "hoverlabel": {
                      "align": "left"
                    },
                    "hovermode": "closest",
                    "mapbox": {
                      "style": "light"
                    },
                    "paper_bgcolor": "white",
                    "plot_bgcolor": "#E5ECF6",
                    "polar": {
                      "angularaxis": {
                        "gridcolor": "white",
                        "linecolor": "white",
                        "ticks": ""
                      },
                      "bgcolor": "#E5ECF6",
                      "radialaxis": {
                        "gridcolor": "white",
                        "linecolor": "white",
                        "ticks": ""
                      }
                    },
                    "scene": {
                      "xaxis": {
                        "backgroundcolor": "#E5ECF6",
                        "gridcolor": "white",
                        "gridwidth": 2,
                        "linecolor": "white",
                        "showbackground": true,
                        "ticks": "",
                        "zerolinecolor": "white"
                      },
                      "yaxis": {
                        "backgroundcolor": "#E5ECF6",
                        "gridcolor": "white",
                        "gridwidth": 2,
                        "linecolor": "white",
                        "showbackground": true,
                        "ticks": "",
                        "zerolinecolor": "white"
                      },
                      "zaxis": {
                        "backgroundcolor": "#E5ECF6",
                        "gridcolor": "white",
                        "gridwidth": 2,
                        "linecolor": "white",
                        "showbackground": true,
                        "ticks": "",
                        "zerolinecolor": "white"
                      }
                    },
                    "shapedefaults": {
                      "line": {
                        "color": "#2a3f5f"
                      }
                    },
                    "ternary": {
                      "aaxis": {
                        "gridcolor": "white",
                        "linecolor": "white",
                        "ticks": ""
                      },
                      "baxis": {
                        "gridcolor": "white",
                        "linecolor": "white",
                        "ticks": ""
                      },
                      "bgcolor": "#E5ECF6",
                      "caxis": {
                        "gridcolor": "white",
                        "linecolor": "white",
                        "ticks": ""
                      }
                    },
                    "title": {
                      "x": 0.05
                    },
                    "xaxis": {
                      "automargin": true,
                      "gridcolor": "white",
                      "linecolor": "white",
                      "ticks": "",
                      "title": {
                        "standoff": 15
                      },
                      "zerolinecolor": "white",
                      "zerolinewidth": 2
                    },
                    "yaxis": {
                      "automargin": true,
                      "gridcolor": "white",
                      "linecolor": "white",
                      "ticks": "",
                      "title": {
                        "standoff": 15
                      },
                      "zerolinecolor": "white",
                      "zerolinewidth": 2
                    }
                  }
                },
                "title": {
                  "text": "Percentage of money lost due to broken machines in each state"
                }
              }
            }
          },
          "metadata": {},
          "output_type": "display_data"
        }
      ],
      "source": [
        "# Create a pie chart showing the percentage of money lost due to broken machines in each state\n",
        "fig = px.pie(df, values=\"money_lost_due_to_broken_machines\", names=df.index, title=\"Percentage of money lost due to broken machines in each state\")\n",
        "fig.update_traces(textposition='inside', textinfo='percent+label')\n",
        "fig.show()\n",
        "\n",
        "# Save the pie chart as a png file\n",
        "fig.write_image(\"mcbroken-pie-chart-money-lost-due-to-broken-machines-percentage.png\")\n",
        "\n",
        "# Save as dash dcc graph\n",
        "dcc_graph_pie_chart_money_lost_due_to_broken_machines_percentage = dcc.Graph(figure=fig)"
      ]
    },
    {
      "cell_type": "code",
      "execution_count": 31,
      "metadata": {},
      "outputs": [
        {
          "data": {
            "application/vnd.plotly.v1+json": {
              "config": {
                "plotlyServerURL": "https://plot.ly"
              },
              "data": [
                {
                  "customdata": [
                    [
                      19835913,
                      241502.24077499998,
                      9.44741532976827
                    ],
                    [
                      9267130,
                      112827.30775000002,
                      8.71369294605809
                    ],
                    [
                      3605597,
                      43898.143475000004,
                      3.8461538461538463
                    ],
                    [
                      12964056,
                      157837.3818,
                      8.114035087719298
                    ],
                    [
                      1003384,
                      12216.2002,
                      2.857142857142857
                    ],
                    [
                      6984723,
                      85039.002525,
                      10.360360360360358
                    ],
                    [
                      6165129,
                      75060.445575,
                      10.15625
                    ],
                    [
                      1095610,
                      13339.05175,
                      0
                    ],
                    [
                      645570,
                      7859.8147500000005,
                      4.166666666666666
                    ],
                    [
                      1388992,
                      16910.977600000002,
                      2
                    ],
                    [
                      670050,
                      8157.858749999999,
                      4
                    ],
                    [
                      8642274,
                      105219.68595000001,
                      11.345646437994723
                    ],
                    [
                      1782959,
                      21707.525824999997,
                      4.040404040404041
                    ],
                    [
                      1372247,
                      16707.107225000003,
                      3.508771929824561
                    ],
                    [
                      10551162,
                      128460.39735,
                      8.656036446469248
                    ],
                    [
                      11780017,
                      143421.70697499998,
                      10.787671232876713
                    ],
                    [
                      10050811,
                      122368.623925,
                      9
                    ],
                    [
                      4509394,
                      54901.87195,
                      8.641975308641976
                    ],
                    [
                      6975218,
                      84923.27915000002,
                      9.477124183006536
                    ],
                    [
                      5190705,
                      63196.833375,
                      15.348837209302324
                    ],
                    [
                      6805985,
                      82862.867375,
                      11.515151515151514
                    ],
                    [
                      10799566,
                      131484.71605000002,
                      15.165876777251183
                    ],
                    [
                      12671469,
                      154275.135075,
                      8.48
                    ],
                    [
                      5895908,
                      71782.6799,
                      6.405693950177936
                    ],
                    [
                      5039877,
                      61360.50247500001,
                      6.956521739130435
                    ],
                    [
                      21781128,
                      265185.2334,
                      8.435207823960882
                    ],
                    [
                      3193079,
                      38875.736825,
                      7.352941176470589
                    ],
                    [
                      6168187,
                      75097.676725,
                      9.863945578231293
                    ],
                    [
                      2949965,
                      35915.82387500001,
                      17.91044776119403
                    ],
                    [
                      3025891,
                      36840.222925,
                      11.320754716981133
                    ],
                    [
                      5707390,
                      69487.47325000001,
                      5.769230769230769
                    ],
                    [
                      2934582,
                      35728.53585,
                      6.569343065693431
                    ],
                    [
                      4624047,
                      56297.772225,
                      11.059907834101383
                    ],
                    [
                      1963692,
                      23907.950100000002,
                      12.162162162162161
                    ],
                    [
                      3986639,
                      48537.329825,
                      12.637362637362637
                    ],
                    [
                      895376,
                      10901.202800000001,
                      7.4074074074074066
                    ],
                    [
                      774948,
                      9434.9919,
                      8.695652173913043
                    ],
                    [
                      29527941,
                      359502.681675,
                      11.27962085308057
                    ],
                    [
                      5812069,
                      70761.940075,
                      8.152173913043478
                    ],
                    [
                      578803,
                      7046.926525000001,
                      4
                    ],
                    [
                      1104271,
                      13444.499425000002,
                      15.909090909090908
                    ],
                    [
                      2115877,
                      25760.802475000004,
                      5.747126436781609
                    ],
                    [
                      3322389,
                      40450.086075,
                      12.871287128712869
                    ],
                    [
                      7276316,
                      88589.14730000001,
                      13.043478260869565
                    ],
                    [
                      1900923,
                      23143.737524999997,
                      8.92857142857143
                    ],
                    [
                      3143991,
                      38278.090425,
                      8.547008547008545
                    ],
                    [
                      7738692,
                      94218.5751,
                      12.288135593220337
                    ],
                    [
                      4246155,
                      51696.93712500001,
                      17.006802721088434
                    ],
                    [
                      39237836,
                      477720.6533,
                      10.362694300518134
                    ],
                    [
                      732673,
                      8920.293775,
                      16.666666666666668
                    ],
                    [
                      1441553,
                      17550.907775,
                      12.676056338028172
                    ]
                  ],
                  "hovertemplate": "<b>%{hovertext}</b><br><br>broken_machines_number=%{x}<br>money_lost_due_to_broken_machines=%{y}<br>population=%{marker.color}<br>total_revenue_possible=%{customdata[1]}<br>money_lost_due_to_broken_machines_percentage=%{customdata[2]}<extra></extra>",
                  "hovertext": [
                    "New York",
                    "New Jersey",
                    "Connecticut",
                    "Pennsylvania",
                    "Delaware",
                    "Massachusetts",
                    "Maryland",
                    "Rhode Island",
                    "Vermont",
                    "New Hampshire",
                    "District of Columbia",
                    "Virginia",
                    "West Virginia",
                    "Maine",
                    "North Carolina",
                    "Ohio",
                    "Michigan",
                    "Kentucky",
                    "Tennessee",
                    "South Carolina",
                    "Indiana",
                    "Georgia",
                    "Illinois",
                    "Wisconsin",
                    "Alabama",
                    "Florida",
                    "Iowa",
                    "Missouri",
                    "Mississippi",
                    "Arkansas",
                    "Minnesota",
                    "Kansas",
                    "Louisiana",
                    "Nebraska",
                    "Oklahoma",
                    "South Dakota",
                    "North Dakota",
                    "Texas",
                    "Colorado",
                    "Wyoming",
                    "Montana",
                    "New Mexico",
                    "Utah",
                    "Arizona",
                    "Idaho",
                    "Nevada",
                    "Washington",
                    "Oregon",
                    "California",
                    "Alaska",
                    "Hawaii"
                  ],
                  "legendgroup": "",
                  "marker": {
                    "color": [
                      19835913,
                      9267130,
                      3605597,
                      12964056,
                      1003384,
                      6984723,
                      6165129,
                      1095610,
                      645570,
                      1388992,
                      670050,
                      8642274,
                      1782959,
                      1372247,
                      10551162,
                      11780017,
                      10050811,
                      4509394,
                      6975218,
                      5190705,
                      6805985,
                      10799566,
                      12671469,
                      5895908,
                      5039877,
                      21781128,
                      3193079,
                      6168187,
                      2949965,
                      3025891,
                      5707390,
                      2934582,
                      4624047,
                      1963692,
                      3986639,
                      895376,
                      774948,
                      29527941,
                      5812069,
                      578803,
                      1104271,
                      2115877,
                      3322389,
                      7276316,
                      1900923,
                      3143991,
                      7738692,
                      4246155,
                      39237836,
                      732673,
                      1441553
                    ],
                    "coloraxis": "coloraxis",
                    "size": [
                      19835913,
                      9267130,
                      3605597,
                      12964056,
                      1003384,
                      6984723,
                      6165129,
                      1095610,
                      645570,
                      1388992,
                      670050,
                      8642274,
                      1782959,
                      1372247,
                      10551162,
                      11780017,
                      10050811,
                      4509394,
                      6975218,
                      5190705,
                      6805985,
                      10799566,
                      12671469,
                      5895908,
                      5039877,
                      21781128,
                      3193079,
                      6168187,
                      2949965,
                      3025891,
                      5707390,
                      2934582,
                      4624047,
                      1963692,
                      3986639,
                      895376,
                      774948,
                      29527941,
                      5812069,
                      578803,
                      1104271,
                      2115877,
                      3322389,
                      7276316,
                      1900923,
                      3143991,
                      7738692,
                      4246155,
                      39237836,
                      732673,
                      1441553
                    ],
                    "sizemode": "area",
                    "sizeref": 98094.59,
                    "symbol": "circle"
                  },
                  "mode": "markers",
                  "name": "",
                  "orientation": "v",
                  "showlegend": false,
                  "type": "scatter",
                  "x": [
                    53,
                    21,
                    5,
                    37,
                    1,
                    23,
                    26,
                    0,
                    1,
                    1,
                    1,
                    43,
                    4,
                    2,
                    38,
                    63,
                    45,
                    21,
                    29,
                    33,
                    38,
                    64,
                    53,
                    18,
                    16,
                    69,
                    10,
                    29,
                    24,
                    18,
                    12,
                    9,
                    24,
                    9,
                    23,
                    2,
                    2,
                    119,
                    15,
                    1,
                    7,
                    5,
                    13,
                    33,
                    5,
                    10,
                    29,
                    25,
                    120,
                    4,
                    9
                  ],
                  "xaxis": "x",
                  "y": [
                    22815.719716711228,
                    9831.425156639005,
                    1688.3901336538463,
                    12806.980540789475,
                    349.0342914285714,
                    8810.347108445945,
                    7623.326503710938,
                    0,
                    327.49228125,
                    338.219552,
                    326.31435,
                    11937.85355105541,
                    877.0717505050504,
                    586.2142885964913,
                    11119.578813895216,
                    15471.862225042807,
                    11013.17615325,
                    4744.606217901235,
                    8048.284625326799,
                    9699.97907616279,
                    9541.784728030303,
                    19940.810017061613,
                    13082.53145436,
                    4598.178783629894,
                    4268.556693913044,
                    22368.925555745725,
                    2858.510060661765,
                    7407.593962670068,
                    6432.68487313433,
                    4170.591274528302,
                    4008.8926875000006,
                    2347.1300923357667,
                    6226.481720737327,
                    2907.723660810811,
                    6133.838384478022,
                    807.4965037037038,
                    820.4340782608697,
                    40550.539449597156,
                    5768.636419157609,
                    281.877061,
                    2138.897635795455,
                    1480.5058893678163,
                    5206.446722524752,
                    11555.106169565219,
                    2066.4051361607144,
                    3271.63166025641,
                    11577.706262288135,
                    8791.996109693879,
                    49504.7309119171,
                    1486.7156291666668,
                    2224.7629573943664
                  ],
                  "yaxis": "y"
                }
              ],
              "layout": {
                "coloraxis": {
                  "colorbar": {
                    "title": {
                      "text": "population"
                    }
                  },
                  "colorscale": [
                    [
                      0,
                      "#0d0887"
                    ],
                    [
                      0.1111111111111111,
                      "#46039f"
                    ],
                    [
                      0.2222222222222222,
                      "#7201a8"
                    ],
                    [
                      0.3333333333333333,
                      "#9c179e"
                    ],
                    [
                      0.4444444444444444,
                      "#bd3786"
                    ],
                    [
                      0.5555555555555556,
                      "#d8576b"
                    ],
                    [
                      0.6666666666666666,
                      "#ed7953"
                    ],
                    [
                      0.7777777777777778,
                      "#fb9f3a"
                    ],
                    [
                      0.8888888888888888,
                      "#fdca26"
                    ],
                    [
                      1,
                      "#f0f921"
                    ]
                  ]
                },
                "legend": {
                  "itemsizing": "constant",
                  "tracegroupgap": 0
                },
                "template": {
                  "data": {
                    "bar": [
                      {
                        "error_x": {
                          "color": "#2a3f5f"
                        },
                        "error_y": {
                          "color": "#2a3f5f"
                        },
                        "marker": {
                          "line": {
                            "color": "#E5ECF6",
                            "width": 0.5
                          },
                          "pattern": {
                            "fillmode": "overlay",
                            "size": 10,
                            "solidity": 0.2
                          }
                        },
                        "type": "bar"
                      }
                    ],
                    "barpolar": [
                      {
                        "marker": {
                          "line": {
                            "color": "#E5ECF6",
                            "width": 0.5
                          },
                          "pattern": {
                            "fillmode": "overlay",
                            "size": 10,
                            "solidity": 0.2
                          }
                        },
                        "type": "barpolar"
                      }
                    ],
                    "carpet": [
                      {
                        "aaxis": {
                          "endlinecolor": "#2a3f5f",
                          "gridcolor": "white",
                          "linecolor": "white",
                          "minorgridcolor": "white",
                          "startlinecolor": "#2a3f5f"
                        },
                        "baxis": {
                          "endlinecolor": "#2a3f5f",
                          "gridcolor": "white",
                          "linecolor": "white",
                          "minorgridcolor": "white",
                          "startlinecolor": "#2a3f5f"
                        },
                        "type": "carpet"
                      }
                    ],
                    "choropleth": [
                      {
                        "colorbar": {
                          "outlinewidth": 0,
                          "ticks": ""
                        },
                        "type": "choropleth"
                      }
                    ],
                    "contour": [
                      {
                        "colorbar": {
                          "outlinewidth": 0,
                          "ticks": ""
                        },
                        "colorscale": [
                          [
                            0,
                            "#0d0887"
                          ],
                          [
                            0.1111111111111111,
                            "#46039f"
                          ],
                          [
                            0.2222222222222222,
                            "#7201a8"
                          ],
                          [
                            0.3333333333333333,
                            "#9c179e"
                          ],
                          [
                            0.4444444444444444,
                            "#bd3786"
                          ],
                          [
                            0.5555555555555556,
                            "#d8576b"
                          ],
                          [
                            0.6666666666666666,
                            "#ed7953"
                          ],
                          [
                            0.7777777777777778,
                            "#fb9f3a"
                          ],
                          [
                            0.8888888888888888,
                            "#fdca26"
                          ],
                          [
                            1,
                            "#f0f921"
                          ]
                        ],
                        "type": "contour"
                      }
                    ],
                    "contourcarpet": [
                      {
                        "colorbar": {
                          "outlinewidth": 0,
                          "ticks": ""
                        },
                        "type": "contourcarpet"
                      }
                    ],
                    "heatmap": [
                      {
                        "colorbar": {
                          "outlinewidth": 0,
                          "ticks": ""
                        },
                        "colorscale": [
                          [
                            0,
                            "#0d0887"
                          ],
                          [
                            0.1111111111111111,
                            "#46039f"
                          ],
                          [
                            0.2222222222222222,
                            "#7201a8"
                          ],
                          [
                            0.3333333333333333,
                            "#9c179e"
                          ],
                          [
                            0.4444444444444444,
                            "#bd3786"
                          ],
                          [
                            0.5555555555555556,
                            "#d8576b"
                          ],
                          [
                            0.6666666666666666,
                            "#ed7953"
                          ],
                          [
                            0.7777777777777778,
                            "#fb9f3a"
                          ],
                          [
                            0.8888888888888888,
                            "#fdca26"
                          ],
                          [
                            1,
                            "#f0f921"
                          ]
                        ],
                        "type": "heatmap"
                      }
                    ],
                    "heatmapgl": [
                      {
                        "colorbar": {
                          "outlinewidth": 0,
                          "ticks": ""
                        },
                        "colorscale": [
                          [
                            0,
                            "#0d0887"
                          ],
                          [
                            0.1111111111111111,
                            "#46039f"
                          ],
                          [
                            0.2222222222222222,
                            "#7201a8"
                          ],
                          [
                            0.3333333333333333,
                            "#9c179e"
                          ],
                          [
                            0.4444444444444444,
                            "#bd3786"
                          ],
                          [
                            0.5555555555555556,
                            "#d8576b"
                          ],
                          [
                            0.6666666666666666,
                            "#ed7953"
                          ],
                          [
                            0.7777777777777778,
                            "#fb9f3a"
                          ],
                          [
                            0.8888888888888888,
                            "#fdca26"
                          ],
                          [
                            1,
                            "#f0f921"
                          ]
                        ],
                        "type": "heatmapgl"
                      }
                    ],
                    "histogram": [
                      {
                        "marker": {
                          "pattern": {
                            "fillmode": "overlay",
                            "size": 10,
                            "solidity": 0.2
                          }
                        },
                        "type": "histogram"
                      }
                    ],
                    "histogram2d": [
                      {
                        "colorbar": {
                          "outlinewidth": 0,
                          "ticks": ""
                        },
                        "colorscale": [
                          [
                            0,
                            "#0d0887"
                          ],
                          [
                            0.1111111111111111,
                            "#46039f"
                          ],
                          [
                            0.2222222222222222,
                            "#7201a8"
                          ],
                          [
                            0.3333333333333333,
                            "#9c179e"
                          ],
                          [
                            0.4444444444444444,
                            "#bd3786"
                          ],
                          [
                            0.5555555555555556,
                            "#d8576b"
                          ],
                          [
                            0.6666666666666666,
                            "#ed7953"
                          ],
                          [
                            0.7777777777777778,
                            "#fb9f3a"
                          ],
                          [
                            0.8888888888888888,
                            "#fdca26"
                          ],
                          [
                            1,
                            "#f0f921"
                          ]
                        ],
                        "type": "histogram2d"
                      }
                    ],
                    "histogram2dcontour": [
                      {
                        "colorbar": {
                          "outlinewidth": 0,
                          "ticks": ""
                        },
                        "colorscale": [
                          [
                            0,
                            "#0d0887"
                          ],
                          [
                            0.1111111111111111,
                            "#46039f"
                          ],
                          [
                            0.2222222222222222,
                            "#7201a8"
                          ],
                          [
                            0.3333333333333333,
                            "#9c179e"
                          ],
                          [
                            0.4444444444444444,
                            "#bd3786"
                          ],
                          [
                            0.5555555555555556,
                            "#d8576b"
                          ],
                          [
                            0.6666666666666666,
                            "#ed7953"
                          ],
                          [
                            0.7777777777777778,
                            "#fb9f3a"
                          ],
                          [
                            0.8888888888888888,
                            "#fdca26"
                          ],
                          [
                            1,
                            "#f0f921"
                          ]
                        ],
                        "type": "histogram2dcontour"
                      }
                    ],
                    "mesh3d": [
                      {
                        "colorbar": {
                          "outlinewidth": 0,
                          "ticks": ""
                        },
                        "type": "mesh3d"
                      }
                    ],
                    "parcoords": [
                      {
                        "line": {
                          "colorbar": {
                            "outlinewidth": 0,
                            "ticks": ""
                          }
                        },
                        "type": "parcoords"
                      }
                    ],
                    "pie": [
                      {
                        "automargin": true,
                        "type": "pie"
                      }
                    ],
                    "scatter": [
                      {
                        "marker": {
                          "colorbar": {
                            "outlinewidth": 0,
                            "ticks": ""
                          }
                        },
                        "type": "scatter"
                      }
                    ],
                    "scatter3d": [
                      {
                        "line": {
                          "colorbar": {
                            "outlinewidth": 0,
                            "ticks": ""
                          }
                        },
                        "marker": {
                          "colorbar": {
                            "outlinewidth": 0,
                            "ticks": ""
                          }
                        },
                        "type": "scatter3d"
                      }
                    ],
                    "scattercarpet": [
                      {
                        "marker": {
                          "colorbar": {
                            "outlinewidth": 0,
                            "ticks": ""
                          }
                        },
                        "type": "scattercarpet"
                      }
                    ],
                    "scattergeo": [
                      {
                        "marker": {
                          "colorbar": {
                            "outlinewidth": 0,
                            "ticks": ""
                          }
                        },
                        "type": "scattergeo"
                      }
                    ],
                    "scattergl": [
                      {
                        "marker": {
                          "colorbar": {
                            "outlinewidth": 0,
                            "ticks": ""
                          }
                        },
                        "type": "scattergl"
                      }
                    ],
                    "scattermapbox": [
                      {
                        "marker": {
                          "colorbar": {
                            "outlinewidth": 0,
                            "ticks": ""
                          }
                        },
                        "type": "scattermapbox"
                      }
                    ],
                    "scatterpolar": [
                      {
                        "marker": {
                          "colorbar": {
                            "outlinewidth": 0,
                            "ticks": ""
                          }
                        },
                        "type": "scatterpolar"
                      }
                    ],
                    "scatterpolargl": [
                      {
                        "marker": {
                          "colorbar": {
                            "outlinewidth": 0,
                            "ticks": ""
                          }
                        },
                        "type": "scatterpolargl"
                      }
                    ],
                    "scatterternary": [
                      {
                        "marker": {
                          "colorbar": {
                            "outlinewidth": 0,
                            "ticks": ""
                          }
                        },
                        "type": "scatterternary"
                      }
                    ],
                    "surface": [
                      {
                        "colorbar": {
                          "outlinewidth": 0,
                          "ticks": ""
                        },
                        "colorscale": [
                          [
                            0,
                            "#0d0887"
                          ],
                          [
                            0.1111111111111111,
                            "#46039f"
                          ],
                          [
                            0.2222222222222222,
                            "#7201a8"
                          ],
                          [
                            0.3333333333333333,
                            "#9c179e"
                          ],
                          [
                            0.4444444444444444,
                            "#bd3786"
                          ],
                          [
                            0.5555555555555556,
                            "#d8576b"
                          ],
                          [
                            0.6666666666666666,
                            "#ed7953"
                          ],
                          [
                            0.7777777777777778,
                            "#fb9f3a"
                          ],
                          [
                            0.8888888888888888,
                            "#fdca26"
                          ],
                          [
                            1,
                            "#f0f921"
                          ]
                        ],
                        "type": "surface"
                      }
                    ],
                    "table": [
                      {
                        "cells": {
                          "fill": {
                            "color": "#EBF0F8"
                          },
                          "line": {
                            "color": "white"
                          }
                        },
                        "header": {
                          "fill": {
                            "color": "#C8D4E3"
                          },
                          "line": {
                            "color": "white"
                          }
                        },
                        "type": "table"
                      }
                    ]
                  },
                  "layout": {
                    "annotationdefaults": {
                      "arrowcolor": "#2a3f5f",
                      "arrowhead": 0,
                      "arrowwidth": 1
                    },
                    "autotypenumbers": "strict",
                    "coloraxis": {
                      "colorbar": {
                        "outlinewidth": 0,
                        "ticks": ""
                      }
                    },
                    "colorscale": {
                      "diverging": [
                        [
                          0,
                          "#8e0152"
                        ],
                        [
                          0.1,
                          "#c51b7d"
                        ],
                        [
                          0.2,
                          "#de77ae"
                        ],
                        [
                          0.3,
                          "#f1b6da"
                        ],
                        [
                          0.4,
                          "#fde0ef"
                        ],
                        [
                          0.5,
                          "#f7f7f7"
                        ],
                        [
                          0.6,
                          "#e6f5d0"
                        ],
                        [
                          0.7,
                          "#b8e186"
                        ],
                        [
                          0.8,
                          "#7fbc41"
                        ],
                        [
                          0.9,
                          "#4d9221"
                        ],
                        [
                          1,
                          "#276419"
                        ]
                      ],
                      "sequential": [
                        [
                          0,
                          "#0d0887"
                        ],
                        [
                          0.1111111111111111,
                          "#46039f"
                        ],
                        [
                          0.2222222222222222,
                          "#7201a8"
                        ],
                        [
                          0.3333333333333333,
                          "#9c179e"
                        ],
                        [
                          0.4444444444444444,
                          "#bd3786"
                        ],
                        [
                          0.5555555555555556,
                          "#d8576b"
                        ],
                        [
                          0.6666666666666666,
                          "#ed7953"
                        ],
                        [
                          0.7777777777777778,
                          "#fb9f3a"
                        ],
                        [
                          0.8888888888888888,
                          "#fdca26"
                        ],
                        [
                          1,
                          "#f0f921"
                        ]
                      ],
                      "sequentialminus": [
                        [
                          0,
                          "#0d0887"
                        ],
                        [
                          0.1111111111111111,
                          "#46039f"
                        ],
                        [
                          0.2222222222222222,
                          "#7201a8"
                        ],
                        [
                          0.3333333333333333,
                          "#9c179e"
                        ],
                        [
                          0.4444444444444444,
                          "#bd3786"
                        ],
                        [
                          0.5555555555555556,
                          "#d8576b"
                        ],
                        [
                          0.6666666666666666,
                          "#ed7953"
                        ],
                        [
                          0.7777777777777778,
                          "#fb9f3a"
                        ],
                        [
                          0.8888888888888888,
                          "#fdca26"
                        ],
                        [
                          1,
                          "#f0f921"
                        ]
                      ]
                    },
                    "colorway": [
                      "#636efa",
                      "#EF553B",
                      "#00cc96",
                      "#ab63fa",
                      "#FFA15A",
                      "#19d3f3",
                      "#FF6692",
                      "#B6E880",
                      "#FF97FF",
                      "#FECB52"
                    ],
                    "font": {
                      "color": "#2a3f5f"
                    },
                    "geo": {
                      "bgcolor": "white",
                      "lakecolor": "white",
                      "landcolor": "#E5ECF6",
                      "showlakes": true,
                      "showland": true,
                      "subunitcolor": "white"
                    },
                    "hoverlabel": {
                      "align": "left"
                    },
                    "hovermode": "closest",
                    "mapbox": {
                      "style": "light"
                    },
                    "paper_bgcolor": "white",
                    "plot_bgcolor": "#E5ECF6",
                    "polar": {
                      "angularaxis": {
                        "gridcolor": "white",
                        "linecolor": "white",
                        "ticks": ""
                      },
                      "bgcolor": "#E5ECF6",
                      "radialaxis": {
                        "gridcolor": "white",
                        "linecolor": "white",
                        "ticks": ""
                      }
                    },
                    "scene": {
                      "xaxis": {
                        "backgroundcolor": "#E5ECF6",
                        "gridcolor": "white",
                        "gridwidth": 2,
                        "linecolor": "white",
                        "showbackground": true,
                        "ticks": "",
                        "zerolinecolor": "white"
                      },
                      "yaxis": {
                        "backgroundcolor": "#E5ECF6",
                        "gridcolor": "white",
                        "gridwidth": 2,
                        "linecolor": "white",
                        "showbackground": true,
                        "ticks": "",
                        "zerolinecolor": "white"
                      },
                      "zaxis": {
                        "backgroundcolor": "#E5ECF6",
                        "gridcolor": "white",
                        "gridwidth": 2,
                        "linecolor": "white",
                        "showbackground": true,
                        "ticks": "",
                        "zerolinecolor": "white"
                      }
                    },
                    "shapedefaults": {
                      "line": {
                        "color": "#2a3f5f"
                      }
                    },
                    "ternary": {
                      "aaxis": {
                        "gridcolor": "white",
                        "linecolor": "white",
                        "ticks": ""
                      },
                      "baxis": {
                        "gridcolor": "white",
                        "linecolor": "white",
                        "ticks": ""
                      },
                      "bgcolor": "#E5ECF6",
                      "caxis": {
                        "gridcolor": "white",
                        "linecolor": "white",
                        "ticks": ""
                      }
                    },
                    "title": {
                      "x": 0.05
                    },
                    "xaxis": {
                      "automargin": true,
                      "gridcolor": "white",
                      "linecolor": "white",
                      "ticks": "",
                      "title": {
                        "standoff": 15
                      },
                      "zerolinecolor": "white",
                      "zerolinewidth": 2
                    },
                    "yaxis": {
                      "automargin": true,
                      "gridcolor": "white",
                      "linecolor": "white",
                      "ticks": "",
                      "title": {
                        "standoff": 15
                      },
                      "zerolinecolor": "white",
                      "zerolinewidth": 2
                    }
                  }
                },
                "title": {
                  "text": "Relation between the number of broken machines and the total money lost due to broken machines according to a state"
                },
                "xaxis": {
                  "anchor": "y",
                  "domain": [
                    0,
                    1
                  ],
                  "title": {
                    "text": "broken_machines_number"
                  }
                },
                "yaxis": {
                  "anchor": "x",
                  "domain": [
                    0,
                    1
                  ],
                  "title": {
                    "text": "money_lost_due_to_broken_machines"
                  }
                }
              }
            }
          },
          "metadata": {},
          "output_type": "display_data"
        }
      ],
      "source": [
        "# Create a scatter plot showing the relation between the number of broken machines and the total money lost due to broken machines according to a state\n",
        "fig_ = px.scatter(\n",
        "    df,\n",
        "    x=\"broken_machines_number\",\n",
        "    y=\"money_lost_due_to_broken_machines\",\n",
        "    title=\"Relation between the number of broken machines and the total money lost due to broken machines according to a state\",\n",
        "    size=\"population\",\n",
        "    labels={\"x\": \"Number of broken machines\", \"y\": \"Total money lost due to broken machines\"},\n",
        "    hover_data=[\"population\", \"total_revenue_possible\", \"money_lost_due_to_broken_machines_percentage\"],\n",
        "    hover_name=df.index,\n",
        "    color=\"population\",\n",
        ")\n",
        "\n",
        "fig_.show()\n",
        "\n",
        "# Save the scatter plot as dcc graph\n",
        "dcc_graph_scatter_plot_broken_machines_vs_money_lost_due_to_broken_machines = dcc.Graph(figure=fig_)\n"
      ]
    },
    {
      "cell_type": "code",
      "execution_count": 32,
      "metadata": {},
      "outputs": [
        {
          "name": "stdout",
          "output_type": "stream",
          "text": [
            "Dash is running on http://127.0.0.1:8050/\n",
            "\n",
            "Dash is running on http://127.0.0.1:8050/\n",
            "\n",
            "Dash is running on http://127.0.0.1:8050/\n",
            "\n",
            " * Serving Flask app \"__main__\" (lazy loading)\n",
            " * Environment: production\n",
            "\u001b[31m   WARNING: This is a development server. Do not use it in a production deployment.\u001b[0m\n",
            "\u001b[2m   Use a production WSGI server instead.\u001b[0m\n",
            " * Debug mode: off\n"
          ]
        },
        {
          "name": "stderr",
          "output_type": "stream",
          "text": [
            " * Running on http://127.0.0.1:8050/ (Press CTRL+C to quit)\n",
            "127.0.0.1 - - [23/Sep/2022 22:51:48] \"GET / HTTP/1.1\" 200 -\n",
            "127.0.0.1 - - [23/Sep/2022 22:51:48] \"GET /_dash-layout HTTP/1.1\" 200 -\n",
            "127.0.0.1 - - [23/Sep/2022 22:51:48] \"GET /_dash-dependencies HTTP/1.1\" 200 -\n",
            "127.0.0.1 - - [23/Sep/2022 22:51:48] \"GET /_favicon.ico?v=2.6.2 HTTP/1.1\" 200 -\n",
            "127.0.0.1 - - [23/Sep/2022 22:51:48] \"GET /_dash-component-suites/dash/dcc/async-graph.js HTTP/1.1\" 200 -\n",
            "127.0.0.1 - - [23/Sep/2022 22:51:48] \"GET /_dash-component-suites/dash/dcc/async-plotlyjs.js HTTP/1.1\" 304 -\n"
          ]
        }
      ],
      "source": [
        "# Create dash application with statistics and charts\n",
        "\n",
        "from turtle import st\n",
        "import dash\n",
        "import dash_core_components as dcc\n",
        "import dash_html_components as html\n",
        "from dash.dependencies import Input, Output\n",
        "import dash_bootstrap_components as dbc\n",
        "import plotly.express as px\n",
        "\n",
        "# Create dash application\n",
        "app = dash.Dash(__name__, external_stylesheets=[dbc.themes.BOOTSTRAP])\n",
        "\n",
        "\n",
        "# Create dash table with statistics from the data\n",
        "# Include index as a column\n",
        "table = dbc.Table.from_dataframe(df.reset_index(), striped=True, bordered=True, hover=True)\n",
        "\n",
        "\n",
        "def create_dbc_card_for_table(title, table):\n",
        "    return dbc.Card(\n",
        "        [\n",
        "            dbc.CardHeader(title),\n",
        "            dbc.CardBody(\n",
        "                [\n",
        "                    table,\n",
        "                ], style={\"maxWidth\": \"100%\", \"maxHeight\": \"500px\", \"overflow\": \"scroll\"}\n",
        "            ),\n",
        "        ]\n",
        "    )\n",
        "\n",
        "\n",
        "# Put the table in a card\n",
        "card_table = create_dbc_card_for_table(\"Statistics\", table)\n",
        "\n",
        "# Change app title\n",
        "app.title = \"Machines broken report\"\n",
        "\n",
        "# Create dash layout\n",
        "app.layout = dbc.Container([\n",
        "    dbc.Row([\n",
        "        dbc.Col([\n",
        "            html.H2(\"McBroken Report\"),\n",
        "            html.Hr(),\n",
        "            html.H6(f\"Date generated: {date_data_fetched}\"),\n",
        "            html.P(\n",
        "                \"This is a report about the number of broken machines in each state in the US and the money lost due to broken machines in each state.\",\n",
        "                className=\"card-text\",\n",
        "            ),\n",
        "            html.P(\n",
        "                \"This daily report is generated based on the time window - 24 hours before running the main script.\",\n",
        "                className=\"card-text text-info\",\n",
        "            ),\n",
        "            dbc.Card(\n",
        "                [\n",
        "                    dbc.CardHeader(\"Summary\"),\n",
        "                    dbc.Row([\n",
        "                        dbc.Col(\n",
        "                            dbc.CardBody(\n",
        "                                [\n",
        "                                    html.H5(\"Average ice cream price\", className=\"card-title\"),\n",
        "                                    html.P(f\"{cost(average_ice_cream_price)}\", className=\"card-text\"),\n",
        "                                    html.H5(\"Broken machines percentage\", className=\"card-title\"),\n",
        "                                    html.P(f\"{percentage(broken_machines_percentage)}\", className=\"card-text\"),\n",
        "                                    html.H5(\"Total money earned\", className=\"card-title\"),\n",
        "                                    html.P(f\"{cost(total_money_earned)}\", className=\"card-text\"),\n",
        "                                ],\n",
        "                            ),\n",
        "                        ),\n",
        "                        dbc.Col(\n",
        "                            dbc.CardBody(\n",
        "                                [    \n",
        "                                    html.H5(\"Total possible revenue\", className=\"card-title\", style={\"color\": \"green\"}),\n",
        "                                    html.P(f\"{cost(total_possible_revenue)}\", className=\"card-text\", style={\"color\": \"green\"}),\n",
        "                                    html.H5(\"Total money lost due to broken machines\", className=\"card-title\", style={\"color\": \"red\"}),\n",
        "                                    html.P(f\"{cost(total_money_lost_due_to_broken_machines)}\", className=\"card-text\", style={\"color\": \"red\"}),\n",
        "                                    html.H5(\"Total money lost due to broken machines - percentage\", className=\"card-title\", style={\"color\": \"red\"}),\n",
        "                                    html.P(f\"{percentage(total_money_lost_due_to_broken_machines_percentage)}\", className=\"card-text\", style={\"color\": \"red\"}),\n",
        "                                ],\n",
        "                            ),\n",
        "                        ),\n",
        "                    ]),\n",
        "                ], className=\"mb-3\",\n",
        "            ),\n",
        "            card_table,\n",
        "            dcc_graph_scatter_plot_broken_machines_vs_money_lost_due_to_broken_machines,\n",
        "            dcc_graph_bar_chart_broken_machines,\n",
        "            dcc_graph_bar_chart_money_lost_due_to_broken_machines,\n",
        "            dcc_graph_bar_chart_money_lost_due_to_broken_machines_percentage,\n",
        "            dcc_graph_pie_chart_broken_machines_percentage,\n",
        "        ])\n",
        "    ])\n",
        "], className=\"p-3\")\n",
        "\n",
        "\n",
        "# Run dash application\n",
        "app.run_server()\n"
      ]
    }
  ],
  "metadata": {
    "colab": {
      "collapsed_sections": [],
      "provenance": []
    },
    "kernelspec": {
      "display_name": "Python 3.9.12 ('base')",
      "language": "python",
      "name": "python3"
    },
    "language_info": {
      "codemirror_mode": {
        "name": "ipython",
        "version": 3
      },
      "file_extension": ".py",
      "mimetype": "text/x-python",
      "name": "python",
      "nbconvert_exporter": "python",
      "pygments_lexer": "ipython3",
      "version": "3.9.12"
    },
    "vscode": {
      "interpreter": {
        "hash": "ad2bdc8ecc057115af97d19610ffacc2b4e99fae6737bb82f5d7fb13d2f2c186"
      }
    }
  },
  "nbformat": 4,
  "nbformat_minor": 0
}
